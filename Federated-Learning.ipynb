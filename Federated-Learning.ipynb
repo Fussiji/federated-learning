{
 "cells": [
  {
   "cell_type": "markdown",
   "metadata": {},
   "source": [
    "\n",
    "# Federated Learning"
   ]
  },
  {
   "cell_type": "markdown",
   "metadata": {},
   "source": [
    "## Frecency Sampling\n",
    "\n",
    "To be able to quickly prototype the Federated Learning algorithm, a dataset is required.\n",
    "This notebook is based on a fake frecency dataset that was designed to be very interpretable and at the same time close to the actual data.\n",
    "The assumption for the data generation is that the current frecency algorithm is perfect. By sampling based on this axiom, we can check if the algorithm really finds the global optimum."
   ]
  },
  {
   "cell_type": "code",
   "execution_count": 1,
   "metadata": {
    "ExecuteTime": {
     "end_time": "2018-05-24T22:51:46.740108Z",
     "start_time": "2018-05-24T22:51:46.346709Z"
    }
   },
   "outputs": [],
   "source": [
    "import numpy as np\n",
    "import matplotlib.pyplot as plt\n",
    "%matplotlib inline"
   ]
  },
  {
   "cell_type": "markdown",
   "metadata": {},
   "source": [
    "### Sampling the model input"
   ]
  },
  {
   "cell_type": "markdown",
   "metadata": {},
   "source": [
    "These are weights that describe how common certain features are. For `recency` we assume a uniform distribution over time, for `type` numbers were chosen that intuitively seem to be reasonable."
   ]
  },
  {
   "cell_type": "code",
   "execution_count": 2,
   "metadata": {
    "ExecuteTime": {
     "end_time": "2018-05-24T22:51:48.054946Z",
     "start_time": "2018-05-24T22:51:48.048837Z"
    }
   },
   "outputs": [],
   "source": [
    "type_weights = {\n",
    "    \"visited\": 0.6,\n",
    "    \"typed\": 0.2,\n",
    "    \"bookmarked\": 0.2,\n",
    "    #\"other_type\": 0.1\n",
    "}"
   ]
  },
  {
   "cell_type": "markdown",
   "metadata": {},
   "source": [
    "**Note:** Actually there's also a feature `other_type` which has a weight of `0` in the original frecency algorithm, i.e. it's not really used. If we use this feature for this training process, it adds noise to the model because the model has not enough data to learn that this feature does not really add value. "
   ]
  },
  {
   "cell_type": "code",
   "execution_count": 3,
   "metadata": {
    "ExecuteTime": {
     "end_time": "2018-05-24T22:51:48.551328Z",
     "start_time": "2018-05-24T22:51:48.545481Z"
    }
   },
   "outputs": [],
   "source": [
    "recency_weights = {\n",
    "    \"4-days\": 0.03,\n",
    "    \"14-days\": 0.05,\n",
    "    \"31-days\": 0.1,\n",
    "    \"90-days\": 0.32,\n",
    "    \"other_recency\": 0.5\n",
    "}"
   ]
  },
  {
   "cell_type": "code",
   "execution_count": 4,
   "metadata": {
    "ExecuteTime": {
     "end_time": "2018-05-24T22:51:48.799780Z",
     "start_time": "2018-05-24T22:51:48.794047Z"
    }
   },
   "outputs": [],
   "source": [
    "recency_weights = {\n",
    "    \"4-days\": 0.15,\n",
    "    \"14-days\": 0.15,\n",
    "    \"31-days\": 0.15,\n",
    "    \"90-days\": 0.2,\n",
    "    \"other_recency\": 0.35\n",
    "}"
   ]
  },
  {
   "cell_type": "markdown",
   "metadata": {},
   "source": [
    "For the simulation, it seems to be a fair assumption that `type` and `recency` are independent of each other.\n",
    "This means we can just multiply the probabilities.\n",
    "\n",
    "This is probably not completely true, since users likely visit bookmarks more often, but it makes things easier here and the probabilities are hard to estimate well anyways."
   ]
  },
  {
   "cell_type": "code",
   "execution_count": 5,
   "metadata": {
    "ExecuteTime": {
     "end_time": "2018-05-24T22:51:48.914556Z",
     "start_time": "2018-05-24T22:51:48.864523Z"
    }
   },
   "outputs": [],
   "source": [
    "def combine_dicts_multiplicatively(dict1, dict2):\n",
    "    \"\"\"\n",
    "    Returns a new dict where the keys consist of all pairs of keys from the input\n",
    "    dictionaries and the values correspond to the respective multiplied values.\n",
    "    \"\"\"\n",
    "    weights = {}\n",
    "\n",
    "    for key1, weight1 in dict1.items():\n",
    "        for key2, weight2 in dict2.items():\n",
    "            key = (key1, key2)\n",
    "            weight = weight1 * weight2\n",
    "            weights[key] = weight\n",
    "            \n",
    "    return weights"
   ]
  },
  {
   "cell_type": "code",
   "execution_count": 6,
   "metadata": {
    "ExecuteTime": {
     "end_time": "2018-05-24T22:51:49.029052Z",
     "start_time": "2018-05-24T22:51:48.931377Z"
    }
   },
   "outputs": [],
   "source": [
    "weights = combine_dicts_multiplicatively(type_weights, recency_weights)"
   ]
  },
  {
   "cell_type": "markdown",
   "metadata": {},
   "source": [
    "A one-hot representation makes it easier to implement the rest of the formulas. numpy allows us to generate this easily using a permutation of the identity matrix."
   ]
  },
  {
   "cell_type": "code",
   "execution_count": 7,
   "metadata": {
    "ExecuteTime": {
     "end_time": "2018-05-24T22:51:49.135987Z",
     "start_time": "2018-05-24T22:51:49.031595Z"
    }
   },
   "outputs": [],
   "source": [
    "def one_hot(num_choices, vector):\n",
    "    return np.eye(num_choices)[vector]"
   ]
  },
  {
   "cell_type": "markdown",
   "metadata": {},
   "source": [
    "The input vector to the model is 20-dimensional: One field for every combination of `type` and `recency`.\n",
    "In the frecency algorithm, we consider the last ten visits to the URL.\n",
    "Thus, the sum of all elements of the vector is a natural number between 1 and 10.\n",
    "\n",
    "(Since `other-type` is commented out, it's only 15-dimensional for now.)"
   ]
  },
  {
   "cell_type": "code",
   "execution_count": 8,
   "metadata": {
    "ExecuteTime": {
     "end_time": "2018-05-24T22:51:49.240093Z",
     "start_time": "2018-05-24T22:51:49.138157Z"
    }
   },
   "outputs": [],
   "source": [
    "def sample_weighted(num_samples, weight_dict):\n",
    "    \"\"\"Randomly sample from a dict using the values as probabilities\"\"\"\n",
    "    num_choices = len(weight_dict)\n",
    "    choice_weights = weight_dict.values()\n",
    "    samples = np.random.choice(num_choices, num_samples, p=choice_weights)\n",
    "    return one_hot(num_choices, samples)"
   ]
  },
  {
   "cell_type": "code",
   "execution_count": 9,
   "metadata": {
    "ExecuteTime": {
     "end_time": "2018-05-24T22:51:49.348813Z",
     "start_time": "2018-05-24T22:51:49.242051Z"
    }
   },
   "outputs": [],
   "source": [
    "def sample_url_features(num_samples):\n",
    "    return sample_weighted(num_samples, weights)"
   ]
  },
  {
   "cell_type": "markdown",
   "metadata": {},
   "source": [
    "### Sampling the target labels"
   ]
  },
  {
   "cell_type": "markdown",
   "metadata": {},
   "source": [
    "These are the weights found in the current frecency algorithm. Based on the one-hot encoding, this is just a linear function."
   ]
  },
  {
   "cell_type": "code",
   "execution_count": 10,
   "metadata": {
    "ExecuteTime": {
     "end_time": "2018-05-24T22:51:49.460179Z",
     "start_time": "2018-05-24T22:51:49.350948Z"
    }
   },
   "outputs": [],
   "source": [
    "type_points = {\n",
    "    \"visited\": 1.2,\n",
    "    \"typed\": 2,\n",
    "    \"bookmarked\": 1.4,\n",
    "    #\"other_type\": 0\n",
    "}"
   ]
  },
  {
   "cell_type": "code",
   "execution_count": 11,
   "metadata": {
    "ExecuteTime": {
     "end_time": "2018-05-24T22:51:49.567618Z",
     "start_time": "2018-05-24T22:51:49.462126Z"
    }
   },
   "outputs": [],
   "source": [
    "recency_points = {\n",
    "    \"4-days\": 100,\n",
    "    \"14-days\": 70,\n",
    "    \"31-days\": 50,\n",
    "    \"90-days\": 30,\n",
    "    \"other_recency\": 10\n",
    "}"
   ]
  },
  {
   "cell_type": "code",
   "execution_count": 12,
   "metadata": {
    "ExecuteTime": {
     "end_time": "2018-05-24T22:51:49.674808Z",
     "start_time": "2018-05-24T22:51:49.570099Z"
    }
   },
   "outputs": [],
   "source": [
    "frecency_points_dict = combine_dicts_multiplicatively(type_points, recency_points)"
   ]
  },
  {
   "cell_type": "markdown",
   "metadata": {},
   "source": [
    "To make sure that the order of keys is the same everywhere:"
   ]
  },
  {
   "cell_type": "code",
   "execution_count": 13,
   "metadata": {
    "ExecuteTime": {
     "end_time": "2018-05-24T22:51:49.790273Z",
     "start_time": "2018-05-24T22:51:49.676882Z"
    }
   },
   "outputs": [],
   "source": [
    "key_order = weights.keys()\n",
    "frecency_points = np.array([frecency_points_dict[key] for key in key_order])"
   ]
  },
  {
   "cell_type": "markdown",
   "metadata": {},
   "source": [
    "This gives us the frecency points from the original algorithm:"
   ]
  },
  {
   "cell_type": "code",
   "execution_count": 14,
   "metadata": {
    "ExecuteTime": {
     "end_time": "2018-05-24T22:51:49.913095Z",
     "start_time": "2018-05-24T22:51:49.792242Z"
    }
   },
   "outputs": [
    {
     "data": {
      "text/plain": [
       "[(('visited', '4-days'), 120.0),\n",
       " (('visited', '90-days'), 36.0),\n",
       " (('bookmarked', '14-days'), 98.0),\n",
       " (('bookmarked', 'other_recency'), 14.0),\n",
       " (('typed', 'other_recency'), 20.0),\n",
       " (('typed', '31-days'), 100.0),\n",
       " (('typed', '14-days'), 140.0),\n",
       " (('bookmarked', '31-days'), 70.0),\n",
       " (('typed', '4-days'), 200.0),\n",
       " (('bookmarked', '90-days'), 42.0),\n",
       " (('visited', '31-days'), 60.0),\n",
       " (('bookmarked', '4-days'), 140.0),\n",
       " (('visited', 'other_recency'), 12.0),\n",
       " (('typed', '90-days'), 60.0),\n",
       " (('visited', '14-days'), 84.0)]"
      ]
     },
     "execution_count": 14,
     "metadata": {},
     "output_type": "execute_result"
    }
   ],
   "source": [
    "zip(key_order, frecency_points)"
   ]
  },
  {
   "cell_type": "markdown",
   "metadata": {},
   "source": [
    "After all these preparations, an arbitrary number of frecency scores can be computed using a single matrix multiplication."
   ]
  },
  {
   "cell_type": "code",
   "execution_count": 15,
   "metadata": {
    "ExecuteTime": {
     "end_time": "2018-05-24T22:51:50.013576Z",
     "start_time": "2018-05-24T22:51:49.915000Z"
    }
   },
   "outputs": [],
   "source": [
    "def frecency(url_features):\n",
    "    return url_features.dot(frecency_points)"
   ]
  },
  {
   "cell_type": "markdown",
   "metadata": {},
   "source": [
    "Finally, we are sampling from the above distributions and then call the frecency function."
   ]
  },
  {
   "cell_type": "code",
   "execution_count": 45,
   "metadata": {
    "ExecuteTime": {
     "end_time": "2018-05-24T22:52:45.083636Z",
     "start_time": "2018-05-24T22:52:45.078220Z"
    }
   },
   "outputs": [],
   "source": [
    "def sample(num_samples):\n",
    "    X = sample_url_features(num_samples)\n",
    "    y = frecency(X)\n",
    "    return X, y"
   ]
  },
  {
   "cell_type": "markdown",
   "metadata": {},
   "source": [
    "## Linear Regression\n",
    "\n",
    "This section is mostly to check that's it possible to fit a linear model perfectly to the data."
   ]
  },
  {
   "cell_type": "code",
   "execution_count": 17,
   "metadata": {
    "ExecuteTime": {
     "end_time": "2018-05-24T22:51:50.511544Z",
     "start_time": "2018-05-24T22:51:50.124183Z"
    }
   },
   "outputs": [],
   "source": [
    "from sklearn.linear_model import LinearRegression"
   ]
  },
  {
   "cell_type": "markdown",
   "metadata": {},
   "source": [
    "To fit a model, we sample a lot of these scores and also add noise on top to make the problem more similar to the real application."
   ]
  },
  {
   "cell_type": "code",
   "execution_count": 18,
   "metadata": {
    "ExecuteTime": {
     "end_time": "2018-05-24T22:51:50.814971Z",
     "start_time": "2018-05-24T22:51:50.514005Z"
    }
   },
   "outputs": [],
   "source": [
    "n = int(1e6)\n",
    "noise = np.random.normal(0, 2, size=(n))\n",
    "X, y = sample(n)\n",
    "y += noise"
   ]
  },
  {
   "cell_type": "code",
   "execution_count": 19,
   "metadata": {
    "ExecuteTime": {
     "end_time": "2018-05-24T22:51:50.821331Z",
     "start_time": "2018-05-24T22:51:50.817309Z"
    }
   },
   "outputs": [],
   "source": [
    "model = LinearRegression(fit_intercept=False)"
   ]
  },
  {
   "cell_type": "code",
   "execution_count": 20,
   "metadata": {
    "ExecuteTime": {
     "end_time": "2018-05-24T22:51:51.718703Z",
     "start_time": "2018-05-24T22:51:50.823343Z"
    }
   },
   "outputs": [
    {
     "data": {
      "text/plain": [
       "LinearRegression(copy_X=True, fit_intercept=False, n_jobs=1, normalize=False)"
      ]
     },
     "execution_count": 20,
     "metadata": {},
     "output_type": "execute_result"
    }
   ],
   "source": [
    "model.fit(X, y)"
   ]
  },
  {
   "cell_type": "markdown",
   "metadata": {},
   "source": [
    "The resulting coefficients are extremely close to the actual frecency weights. How close they are depends on how much noise we add to the data matrix."
   ]
  },
  {
   "cell_type": "code",
   "execution_count": 21,
   "metadata": {
    "ExecuteTime": {
     "end_time": "2018-05-24T22:51:51.729836Z",
     "start_time": "2018-05-24T22:51:51.720829Z"
    }
   },
   "outputs": [
    {
     "data": {
      "text/plain": [
       "[(119.99856996777899, 120.0),\n",
       " (35.993471210162589, 36.0),\n",
       " (97.997346368596325, 98.0),\n",
       " (14.000699525744043, 14.0),\n",
       " (20.009022107541508, 20.0),\n",
       " (99.990063160791095, 100.0),\n",
       " (140.00323385012572, 140.0),\n",
       " (70.004578864492629, 70.0),\n",
       " (200.00442229988801, 200.0),\n",
       " (42.014823782861995, 42.0),\n",
       " (59.99220883181146, 60.0),\n",
       " (139.9994130173788, 140.0),\n",
       " (11.998656366519084, 12.0),\n",
       " (59.992688967659021, 60.0),\n",
       " (84.012377647148412, 84.0)]"
      ]
     },
     "execution_count": 21,
     "metadata": {},
     "output_type": "execute_result"
    }
   ],
   "source": [
    "zip(model.coef_, frecency_points)"
   ]
  },
  {
   "cell_type": "code",
   "execution_count": 22,
   "metadata": {
    "ExecuteTime": {
     "end_time": "2018-05-24T22:51:51.837026Z",
     "start_time": "2018-05-24T22:51:51.731728Z"
    }
   },
   "outputs": [
    {
     "data": {
      "text/plain": [
       "array([-0.00143003, -0.00652879, -0.00265363,  0.00069953,  0.00902211,\n",
       "       -0.00993684,  0.00323385,  0.00457886,  0.0044223 ,  0.01482378,\n",
       "       -0.00779117, -0.00058698, -0.00134363, -0.00731103,  0.01237765])"
      ]
     },
     "execution_count": 22,
     "metadata": {},
     "output_type": "execute_result"
    }
   ],
   "source": [
    "model.coef_ - frecency_points"
   ]
  },
  {
   "cell_type": "markdown",
   "metadata": {},
   "source": [
    "## Ranking\n",
    "\n",
    "Now, we make the problem slightly more difficult: Instead of just learning the frecency function from data, we try to learn it from user interactions. The training data now consists of a variable number of history suggestions and their respective features. The label corresponds to the suggestion that the user clicked on. We still assume that the user clicks on the item with the highest frecency score."
   ]
  },
  {
   "cell_type": "code",
   "execution_count": 23,
   "metadata": {
    "ExecuteTime": {
     "end_time": "2018-05-24T22:51:51.941121Z",
     "start_time": "2018-05-24T22:51:51.838960Z"
    }
   },
   "outputs": [],
   "source": [
    "n = 400"
   ]
  },
  {
   "cell_type": "markdown",
   "metadata": {},
   "source": [
    "How many suggestions match the search query is sampled from a normal distribution centered around `10`."
   ]
  },
  {
   "cell_type": "code",
   "execution_count": 24,
   "metadata": {
    "ExecuteTime": {
     "end_time": "2018-05-24T22:51:52.048794Z",
     "start_time": "2018-05-24T22:51:51.943130Z"
    }
   },
   "outputs": [],
   "source": [
    "num_options = np.random.normal(loc=10, scale=4, size=(n))\n",
    "num_options = np.maximum(num_options, 1)\n",
    "num_options = np.int32(num_options)"
   ]
  },
  {
   "cell_type": "code",
   "execution_count": 25,
   "metadata": {
    "ExecuteTime": {
     "end_time": "2018-05-24T22:51:52.390887Z",
     "start_time": "2018-05-24T22:51:52.050821Z"
    }
   },
   "outputs": [
    {
     "data": {
      "text/plain": [
       "<matplotlib.text.Text at 0x7f25686b65d0>"
      ]
     },
     "execution_count": 25,
     "metadata": {},
     "output_type": "execute_result"
    },
    {
     "data": {
      "image/png": "[encoded data removed]",
      "text/plain": [
       "<matplotlib.figure.Figure at 0x7f2568681190>"
      ]
     },
     "metadata": {},
     "output_type": "display_data"
    }
   ],
   "source": [
    "plt.hist(num_options)\n",
    "plt.xlabel(\"number of matches\")\n",
    "plt.ylabel(\"count\")"
   ]
  },
  {
   "cell_type": "code",
   "execution_count": 26,
   "metadata": {
    "ExecuteTime": {
     "end_time": "2018-05-24T22:51:52.401269Z",
     "start_time": "2018-05-24T22:51:52.393039Z"
    }
   },
   "outputs": [],
   "source": [
    "def sample_suggestions(n):\n",
    "    num_options = np.random.normal(loc=10, scale=4, size=(n))\n",
    "    num_options = np.maximum(num_options, 1)\n",
    "    num_options = np.int32(num_options)\n",
    "    \n",
    "    X, y = zip(*[sample(n) for n in num_options])\n",
    "    #y = [yi + np.random.normal(0, 5, size=(n)) for yi, n in zip(y, num_options)]\n",
    "    return X, y"
   ]
  },
  {
   "cell_type": "markdown",
   "metadata": {},
   "source": [
    "## Hinge Loss\n",
    "\n",
    "After preparing the training data, we can try to use the adapted SVM loss (also called [hinge loss](https://en.wikipedia.org/wiki/Hinge_loss)) for ranking."
   ]
  },
  {
   "cell_type": "code",
   "execution_count": 27,
   "metadata": {
    "ExecuteTime": {
     "end_time": "2018-05-24T22:51:52.608619Z",
     "start_time": "2018-05-24T22:51:52.403976Z"
    }
   },
   "outputs": [],
   "source": [
    "n = int(1e3)\n",
    "X, y = sample_suggestions(n)"
   ]
  },
  {
   "cell_type": "markdown",
   "metadata": {},
   "source": [
    "Gradient descent generally works better when the data is centered around the origin:"
   ]
  },
  {
   "cell_type": "code",
   "execution_count": 28,
   "metadata": {
    "ExecuteTime": {
     "end_time": "2018-05-24T22:51:52.623165Z",
     "start_time": "2018-05-24T22:51:52.610798Z"
    }
   },
   "outputs": [],
   "source": [
    "def flatten(X):\n",
    "    X_flat = []\n",
    "\n",
    "    for x in X:\n",
    "        X_flat += list(x)\n",
    "\n",
    "    return np.array(X_flat)"
   ]
  },
  {
   "cell_type": "code",
   "execution_count": 29,
   "metadata": {
    "ExecuteTime": {
     "end_time": "2018-05-24T22:51:52.735874Z",
     "start_time": "2018-05-24T22:51:52.624925Z"
    }
   },
   "outputs": [],
   "source": [
    "def normalize(X):\n",
    "    X_flat = flatten(X)\n",
    "    mu = X_flat.mean(axis=0)\n",
    "    return [x - mu for x in X]"
   ]
  },
  {
   "cell_type": "code",
   "execution_count": 30,
   "metadata": {
    "ExecuteTime": {
     "end_time": "2018-05-24T22:51:52.852501Z",
     "start_time": "2018-05-24T22:51:52.737871Z"
    }
   },
   "outputs": [],
   "source": [
    "X = normalize(X)"
   ]
  },
  {
   "cell_type": "markdown",
   "metadata": {},
   "source": [
    "The optimizer we use is fairly simple: It scales the gradient with a learning rate before adding it to the model.\n",
    "This abstraction as a class is still nice because we can later replace it with more sophisticated optimizers."
   ]
  },
  {
   "cell_type": "code",
   "execution_count": 31,
   "metadata": {
    "ExecuteTime": {
     "end_time": "2018-05-24T22:51:52.949172Z",
     "start_time": "2018-05-24T22:51:52.855257Z"
    }
   },
   "outputs": [],
   "source": [
    "class GradientDescent:\n",
    "    def __init__(self, learning_rate):\n",
    "        self.learning_rate = learning_rate\n",
    "        \n",
    "    def __call__(self, gradient):\n",
    "        return self.learning_rate * gradient"
   ]
  },
  {
   "cell_type": "markdown",
   "metadata": {},
   "source": [
    "To supervise training, we keep logging the loss:"
   ]
  },
  {
   "cell_type": "code",
   "execution_count": 32,
   "metadata": {
    "ExecuteTime": {
     "end_time": "2018-05-24T22:51:53.144549Z",
     "start_time": "2018-05-24T22:51:53.136646Z"
    }
   },
   "outputs": [],
   "source": [
    "def svm_loss(preds, ys, delta=0):\n",
    "    correct = ys.argmax()\n",
    "    score_correct = preds[correct]\n",
    "    \n",
    "    loss = 0\n",
    "    \n",
    "    for i, pred in enumerate(preds):\n",
    "        loss += max(0, pred + delta - score_correct)            \n",
    "            \n",
    "    return loss"
   ]
  },
  {
   "cell_type": "markdown",
   "metadata": {},
   "source": [
    "During training, we want to supervise the learning process and save the best models."
   ]
  },
  {
   "cell_type": "code",
   "execution_count": 33,
   "metadata": {
    "ExecuteTime": {
     "end_time": "2018-05-24T22:51:53.558280Z",
     "start_time": "2018-05-24T22:51:53.544940Z"
    }
   },
   "outputs": [],
   "source": [
    "class ModelCheckpoint:\n",
    "    def __init__(self, metric_fn, num_sampled=10000):\n",
    "        self.best_model = None\n",
    "        self.best_metric = -np.inf\n",
    "        self.metric_fn = metric_fn\n",
    "        self.num_sampled = num_sampled\n",
    "    \n",
    "    def __call__(self, model):\n",
    "        X_val, y_val = sample_suggestions(self.num_sampled)\n",
    "        metric = self.metric_fn(y_val, model.predict(X_val))\n",
    "        \n",
    "        if metric > self.best_metric:\n",
    "            self.best_metric = metric\n",
    "            self.best_model = model\n",
    "            print(\"[ModelCheckpoint] New best model with %.5f validation accuracy\" % metric)\n",
    "        else:\n",
    "            print(\"validation: %.3f accuracy\" % metric)"
   ]
  },
  {
   "cell_type": "markdown",
   "metadata": {},
   "source": [
    "accuracy needs to be measured carefully here: In our simulation, we assume that the current frecency is the perfect ranking function. But because items sometimes get the same frecency scores, there can be more than one correct answer:"
   ]
  },
  {
   "cell_type": "code",
   "execution_count": 34,
   "metadata": {
    "ExecuteTime": {
     "end_time": "2018-05-24T22:51:54.303322Z",
     "start_time": "2018-05-24T22:51:54.296330Z"
    }
   },
   "outputs": [],
   "source": [
    "def rank_accuracy(y, preds):\n",
    "    correct = 0.\n",
    "    \n",
    "    for yi, pi in zip(y, preds):\n",
    "        if yi[pi.argmax()] == yi.max():\n",
    "            correct += 1\n",
    "            \n",
    "    return correct / len(y)"
   ]
  },
  {
   "cell_type": "markdown",
   "metadata": {},
   "source": [
    "The `SVMRanking` class is the main mechanism for fitting models."
   ]
  },
  {
   "cell_type": "code",
   "execution_count": 35,
   "metadata": {
    "ExecuteTime": {
     "end_time": "2018-05-24T22:51:55.152617Z",
     "start_time": "2018-05-24T22:51:55.113384Z"
    }
   },
   "outputs": [],
   "source": [
    "class SVMRanking:\n",
    "    def __init__(self, delta):\n",
    "        self.delta = delta\n",
    "        \n",
    "    def fit(self, data_generator, optimizer, num_iterations=10, callbacks=[]):\n",
    "        X, y = data_generator(1)\n",
    "        num_features = X[0].shape[1]\n",
    "        self.W = frecency_points + (np.random.random(size=(num_features)) - 0.5) * 100\n",
    "        \n",
    "        for j in range(num_iterations):\n",
    "            X, y = data_generator(400)\n",
    "            \n",
    "            preds = self.predict(X)\n",
    "            gradient = np.zeros(num_features)\n",
    "\n",
    "            for xi, pi, yi in zip(X, preds, y):\n",
    "                correct = yi.argmax()\n",
    "                score_correct = pi[correct]\n",
    "\n",
    "                for i, predicted_score in enumerate(pi):\n",
    "                    gradient -= xi[i] * max(0, predicted_score + self.delta - score_correct)\n",
    "            \n",
    "            gradient /= len(X)\n",
    "            \n",
    "            loss = np.mean([svm_loss(pi, yi) for pi, yi in zip(self.predict(X), y)])\n",
    "            accuracy = rank_accuracy(y, model.predict(X))\n",
    "            \n",
    "            print(\"[%d/%d] training: %.5f loss, %.3f accuracy\" % (j + 1, num_iterations, loss, accuracy))\n",
    "            \n",
    "            for callback in callbacks:\n",
    "                callback(self)\n",
    "            \n",
    "            self.W += optimizer(gradient)\n",
    "            \n",
    "    def predict(self, X):\n",
    "        preds = []\n",
    "        \n",
    "        for x in X:\n",
    "            scores = x.dot(self.W)\n",
    "            preds.append(scores)\n",
    "        \n",
    "        return preds"
   ]
  },
  {
   "cell_type": "code",
   "execution_count": 101,
   "metadata": {
    "ExecuteTime": {
     "end_time": "2018-05-24T23:23:58.058652Z",
     "start_time": "2018-05-24T23:17:12.719460Z"
    },
    "scrolled": false
   },
   "outputs": [
    {
     "name": "stdout",
     "output_type": "stream",
     "text": [
      "[1/48] training: 23.44311 loss, 0.670 accuracy\n",
      "[ModelCheckpoint] New best model with 0.67880 validation accuracy\n",
      "[2/48] training: 159.60395 loss, 0.902 accuracy\n",
      "[ModelCheckpoint] New best model with 0.91890 validation accuracy\n",
      "[3/48] training: 12.88715 loss, 0.968 accuracy\n",
      "[ModelCheckpoint] New best model with 0.94890 validation accuracy\n",
      "[4/48] training: 10.19948 loss, 0.925 accuracy\n",
      "[ModelCheckpoint] New best model with 0.95560 validation accuracy\n",
      "[5/48] training: 2.61976 loss, 0.968 accuracy\n",
      "[ModelCheckpoint] New best model with 0.96350 validation accuracy\n",
      "[6/48] training: 2.15981 loss, 0.973 accuracy\n",
      "[ModelCheckpoint] New best model with 0.97620 validation accuracy\n",
      "[7/48] training: 0.87079 loss, 0.978 accuracy\n",
      "[ModelCheckpoint] New best model with 0.97670 validation accuracy\n",
      "[8/48] training: 1.35701 loss, 0.980 accuracy\n",
      "[ModelCheckpoint] New best model with 0.98180 validation accuracy\n",
      "[9/48] training: 0.60620 loss, 0.980 accuracy\n",
      "validation: 0.979 accuracy\n",
      "[10/48] training: 2.35798 loss, 0.985 accuracy\n",
      "validation: 0.980 accuracy\n",
      "[11/48] training: 1.01536 loss, 0.980 accuracy\n",
      "validation: 0.981 accuracy\n",
      "[12/48] training: 0.56680 loss, 0.988 accuracy\n",
      "[ModelCheckpoint] New best model with 0.98230 validation accuracy\n",
      "[13/48] training: 0.09545 loss, 0.980 accuracy\n",
      "validation: 0.981 accuracy\n",
      "[14/48] training: 0.18211 loss, 0.968 accuracy\n",
      "validation: 0.978 accuracy\n",
      "[15/48] training: 2.11682 loss, 0.983 accuracy\n",
      "validation: 0.978 accuracy\n",
      "[16/48] training: 1.02743 loss, 0.975 accuracy\n",
      "validation: 0.979 accuracy\n",
      "[17/48] training: 0.33972 loss, 0.980 accuracy\n",
      "validation: 0.981 accuracy\n",
      "[18/48] training: 0.35673 loss, 0.980 accuracy\n",
      "validation: 0.980 accuracy\n",
      "[19/48] training: 0.44072 loss, 0.978 accuracy\n",
      "validation: 0.980 accuracy\n",
      "[20/48] training: 0.44142 loss, 0.988 accuracy\n",
      "validation: 0.978 accuracy\n",
      "[21/48] training: 0.12767 loss, 0.993 accuracy\n",
      "validation: 0.980 accuracy\n",
      "[22/48] training: 0.15632 loss, 0.985 accuracy\n",
      "validation: 0.979 accuracy\n",
      "[23/48] training: 0.12402 loss, 0.968 accuracy\n",
      "validation: 0.982 accuracy\n",
      "[24/48] training: 0.44311 loss, 0.990 accuracy\n",
      "validation: 0.978 accuracy\n",
      "[25/48] training: 0.19565 loss, 0.985 accuracy\n",
      "validation: 0.979 accuracy\n",
      "[26/48] training: 0.11584 loss, 0.980 accuracy\n",
      "validation: 0.981 accuracy\n",
      "[27/48] training: 0.10134 loss, 0.983 accuracy\n",
      "validation: 0.980 accuracy\n",
      "[28/48] training: 0.08272 loss, 0.973 accuracy\n",
      "validation: 0.980 accuracy\n",
      "[29/48] training: 0.15352 loss, 0.988 accuracy\n",
      "validation: 0.980 accuracy\n",
      "[30/48] training: 0.04423 loss, 0.975 accuracy\n",
      "validation: 0.980 accuracy\n",
      "[31/48] training: 0.02794 loss, 0.988 accuracy\n",
      "validation: 0.979 accuracy\n",
      "[32/48] training: 0.03630 loss, 0.985 accuracy\n",
      "validation: 0.981 accuracy\n",
      "[33/48] training: 0.04924 loss, 0.978 accuracy\n",
      "validation: 0.981 accuracy\n",
      "[34/48] training: 0.03995 loss, 0.980 accuracy\n",
      "validation: 0.981 accuracy\n",
      "[35/48] training: 0.05183 loss, 0.970 accuracy\n",
      "validation: 0.981 accuracy\n",
      "[36/48] training: 0.01933 loss, 0.980 accuracy\n",
      "validation: 0.979 accuracy\n",
      "[37/48] training: 0.02861 loss, 0.978 accuracy\n",
      "validation: 0.979 accuracy\n",
      "[38/48] training: 0.01083 loss, 0.988 accuracy\n",
      "validation: 0.981 accuracy\n",
      "[39/48] training: 0.03961 loss, 0.983 accuracy\n",
      "validation: 0.980 accuracy\n",
      "[40/48] training: 0.06611 loss, 0.973 accuracy\n",
      "validation: 0.979 accuracy\n",
      "[41/48] training: 0.00913 loss, 0.973 accuracy\n",
      "validation: 0.982 accuracy\n",
      "[42/48] training: 0.00661 loss, 0.970 accuracy\n",
      "validation: 0.981 accuracy\n",
      "[43/48] training: 0.01983 loss, 0.963 accuracy\n",
      "validation: 0.982 accuracy\n",
      "[44/48] training: 0.00018 loss, 0.978 accuracy\n",
      "[ModelCheckpoint] New best model with 0.98250 validation accuracy\n",
      "[45/48] training: 0.00815 loss, 0.980 accuracy\n",
      "validation: 0.979 accuracy\n",
      "[46/48] training: 0.00014 loss, 0.968 accuracy\n",
      "validation: 0.982 accuracy\n",
      "[47/48] training: 0.01306 loss, 0.993 accuracy\n",
      "[ModelCheckpoint] New best model with 0.99450 validation accuracy\n",
      "[48/48] training: 0.00672 loss, 0.993 accuracy\n",
      "validation: 0.994 accuracy\n"
     ]
    }
   ],
   "source": [
    "model = SVMRanking(delta=0.)\n",
    "model.fit(data_generator=sample_suggestions,\n",
    "          optimizer=GradientDescent(30.),\n",
    "          num_iterations=48,\n",
    "          callbacks=[ModelCheckpoint(rank_accuracy)])"
   ]
  },
  {
   "cell_type": "markdown",
   "metadata": {},
   "source": [
    "After fitting, we can compare the learned weights with the true frecency scores. Note that the values themselves are very different now but that the ordering is nearly the same as in the real algorithm. This shows that we are ranking very similarly to the real algorithm but that the optimization process did not fully reach the global optimum."
   ]
  },
  {
   "cell_type": "code",
   "execution_count": 102,
   "metadata": {
    "ExecuteTime": {
     "end_time": "2018-05-24T23:23:58.070910Z",
     "start_time": "2018-05-24T23:23:58.061356Z"
    },
    "scrolled": true
   },
   "outputs": [
    {
     "data": {
      "text/plain": [
       "[(12.0, -1386.4608835307831),\n",
       " (14.0, -716.91999516836654),\n",
       " (20.0, -705.82583721993365),\n",
       " (36.0, -706.3940578545438),\n",
       " (42.0, -645.307648813583),\n",
       " (60.0, -645.33873800000504),\n",
       " (60.0, -643.58660881671733),\n",
       " (70.0, -426.35252753004653),\n",
       " (84.0, -426.35252753004579),\n",
       " (98.0, 55.738761536807715),\n",
       " (100.0, 64.667654980017375),\n",
       " (120.0, 72.632318981045614),\n",
       " (140.0, 87.84596061651132),\n",
       " (140.0, 87.84596061651132),\n",
       " (200.0, 189.38679109285385)]"
      ]
     },
     "execution_count": 102,
     "metadata": {},
     "output_type": "execute_result"
    }
   ],
   "source": [
    "ais = np.argsort(frecency_points)\n",
    "zip(frecency_points[ais], model.W[ais])"
   ]
  },
  {
   "cell_type": "markdown",
   "metadata": {},
   "source": [
    "Still, the model is correct most of the time:"
   ]
  },
  {
   "cell_type": "code",
   "execution_count": 38,
   "metadata": {
    "ExecuteTime": {
     "end_time": "2018-05-24T22:21:22.793324Z",
     "start_time": "2018-05-24T22:21:21.912288Z"
    }
   },
   "outputs": [
    {
     "data": {
      "text/plain": [
       "0.9818"
      ]
     },
     "execution_count": 38,
     "metadata": {},
     "output_type": "execute_result"
    }
   ],
   "source": [
    "X, y = sample_suggestions(10000)\n",
    "rank_accuracy(y, model.predict(X))"
   ]
  },
  {
   "cell_type": "markdown",
   "metadata": {},
   "source": [
    "### Side note: Evaluation during training in production\n",
    "\n",
    "If we only use 400 data points for validating the current model, then this is not enough to properly assess the model quality.\n",
    "The accuracies jump too much.\n",
    "However, this evaluation could still be used to test that the model is not completely off."
   ]
  },
  {
   "cell_type": "code",
   "execution_count": 39,
   "metadata": {
    "ExecuteTime": {
     "end_time": "2018-05-24T22:21:53.568338Z",
     "start_time": "2018-05-24T22:21:22.795347Z"
    }
   },
   "outputs": [],
   "source": [
    "accuracies = []\n",
    "\n",
    "for i in range(1000):\n",
    "    X, y = sample_suggestions(400)\n",
    "    acc = rank_accuracy(y, model.predict(X))\n",
    "    accuracies.append(acc)"
   ]
  },
  {
   "cell_type": "code",
   "execution_count": 40,
   "metadata": {
    "ExecuteTime": {
     "end_time": "2018-05-24T22:21:53.822042Z",
     "start_time": "2018-05-24T22:21:53.570705Z"
    }
   },
   "outputs": [
    {
     "data": {
      "text/plain": [
       "(array([   2.,    8.,   53.,   40.,  165.,  283.,  141.,  221.,   76.,   11.]),\n",
       " array([ 0.9575 ,  0.96175,  0.966  ,  0.97025,  0.9745 ,  0.97875,\n",
       "         0.983  ,  0.98725,  0.9915 ,  0.99575,  1.     ]),\n",
       " <a list of 10 Patch objects>)"
      ]
     },
     "execution_count": 40,
     "metadata": {},
     "output_type": "execute_result"
    },
    {
     "data": {
      "image/png": "[encoded data removed]",
      "text/plain": [
       "<matplotlib.figure.Figure at 0x7f510f221c50>"
      ]
     },
     "metadata": {},
     "output_type": "display_data"
    }
   ],
   "source": [
    "plt.hist(sorted(accuracies))"
   ]
  },
  {
   "cell_type": "markdown",
   "metadata": {},
   "source": [
    "---"
   ]
  },
  {
   "cell_type": "markdown",
   "metadata": {},
   "source": [
    "## Frequency"
   ]
  },
  {
   "cell_type": "code",
   "execution_count": 37,
   "metadata": {
    "ExecuteTime": {
     "end_time": "2018-05-24T22:52:06.764020Z",
     "start_time": "2018-05-24T22:52:06.535539Z"
    }
   },
   "outputs": [
    {
     "data": {
      "text/plain": [
       "(array([ 613.,  186.,  109.,   40.,   28.,    5.,   12.,    3.,    3.,    1.]),\n",
       " array([  0. ,   5.5,  11. ,  16.5,  22. ,  27.5,  33. ,  38.5,  44. ,\n",
       "         49.5,  55. ]),\n",
       " <a list of 10 Patch objects>)"
      ]
     },
     "execution_count": 37,
     "metadata": {},
     "output_type": "execute_result"
    },
    {
     "data": {
      "image/png": "[encoded data removed]",
      "text/plain": [
       "<matplotlib.figure.Figure at 0x7f25685a20d0>"
      ]
     },
     "metadata": {},
     "output_type": "display_data"
    }
   ],
   "source": [
    "frequencies = np.int32(np.random.exponential(7, size=(1000)))\n",
    "plt.hist(frequencies)"
   ]
  },
  {
   "cell_type": "code",
   "execution_count": 38,
   "metadata": {
    "ExecuteTime": {
     "end_time": "2018-05-24T22:52:07.858739Z",
     "start_time": "2018-05-24T22:52:07.848396Z"
    }
   },
   "outputs": [],
   "source": [
    "def sample_url_features(num_samples):\n",
    "    frequencies = np.int32(np.random.exponential(7, size=num_samples)) + 1\n",
    "    frequencies = np.int32(np.ones(num_samples))\n",
    "    X = []\n",
    "    \n",
    "    for frequency in frequencies:\n",
    "        num_sampled = min(10, frequency)\n",
    "        features = sample_weighted(num_sampled, weights).sum(axis=0)\n",
    "        X.append(frequency / num_sampled * features)\n",
    "        \n",
    "    return np.array(X)"
   ]
  },
  {
   "cell_type": "code",
   "execution_count": 66,
   "metadata": {
    "ExecuteTime": {
     "end_time": "2018-05-24T22:44:58.314038Z",
     "start_time": "2018-05-24T22:38:23.868275Z"
    }
   },
   "outputs": [
    {
     "name": "stdout",
     "output_type": "stream",
     "text": [
      "[1/48] training: 6.51037 loss, 0.792 accuracy\n",
      "[ModelCheckpoint] New best model with 0.77920 validation accuracy\n",
      "[2/48] training: 5.90895 loss, 0.792 accuracy\n",
      "[ModelCheckpoint] New best model with 0.78680 validation accuracy\n",
      "[3/48] training: 5.62464 loss, 0.910 accuracy\n",
      "[ModelCheckpoint] New best model with 0.89820 validation accuracy\n",
      "[4/48] training: 1.16839 loss, 0.953 accuracy\n",
      "[ModelCheckpoint] New best model with 0.93620 validation accuracy\n",
      "[5/48] training: 0.74470 loss, 0.960 accuracy\n",
      "[ModelCheckpoint] New best model with 0.94260 validation accuracy\n",
      "[6/48] training: 0.58409 loss, 0.975 accuracy\n",
      "[ModelCheckpoint] New best model with 0.96930 validation accuracy\n",
      "[7/48] training: 0.09573 loss, 0.978 accuracy\n",
      "[ModelCheckpoint] New best model with 0.96950 validation accuracy\n",
      "[8/48] training: 0.13128 loss, 0.980 accuracy\n",
      "validation: 0.969 accuracy\n",
      "[9/48] training: 0.16121 loss, 0.970 accuracy\n",
      "validation: 0.968 accuracy\n",
      "[10/48] training: 0.08989 loss, 0.965 accuracy\n",
      "[ModelCheckpoint] New best model with 0.97450 validation accuracy\n",
      "[11/48] training: 0.02220 loss, 0.983 accuracy\n",
      "[ModelCheckpoint] New best model with 0.97650 validation accuracy\n",
      "[12/48] training: 0.03278 loss, 0.983 accuracy\n",
      "validation: 0.975 accuracy\n",
      "[13/48] training: 0.00038 loss, 0.990 accuracy\n",
      "validation: 0.974 accuracy\n",
      "[14/48] training: 0.05687 loss, 0.955 accuracy\n",
      "[ModelCheckpoint] New best model with 0.97750 validation accuracy\n",
      "[15/48] training: 0.03735 loss, 0.980 accuracy\n",
      "validation: 0.975 accuracy\n",
      "[16/48] training: 0.01920 loss, 0.965 accuracy\n",
      "[ModelCheckpoint] New best model with 0.97780 validation accuracy\n",
      "[17/48] training: 0.04595 loss, 0.983 accuracy\n",
      "[ModelCheckpoint] New best model with 0.97800 validation accuracy\n",
      "[18/48] training: 0.00853 loss, 0.978 accuracy\n",
      "validation: 0.975 accuracy\n",
      "[19/48] training: 0.02263 loss, 0.990 accuracy\n",
      "validation: 0.974 accuracy\n",
      "[20/48] training: 0.02673 loss, 0.963 accuracy\n",
      "validation: 0.973 accuracy\n",
      "[21/48] training: 0.01988 loss, 0.970 accuracy\n",
      "validation: 0.977 accuracy\n",
      "[22/48] training: 0.01064 loss, 0.975 accuracy\n",
      "validation: 0.978 accuracy\n",
      "[23/48] training: 0.00883 loss, 0.958 accuracy\n",
      "validation: 0.975 accuracy\n",
      "[24/48] training: 0.00246 loss, 0.975 accuracy\n",
      "validation: 0.978 accuracy\n",
      "[25/48] training: 0.00516 loss, 0.985 accuracy\n",
      "validation: 0.977 accuracy\n",
      "[26/48] training: 0.01290 loss, 0.975 accuracy\n",
      "[ModelCheckpoint] New best model with 0.97930 validation accuracy\n",
      "[27/48] training: 0.00745 loss, 0.975 accuracy\n",
      "validation: 0.977 accuracy\n",
      "[28/48] training: 0.00071 loss, 0.980 accuracy\n",
      "[ModelCheckpoint] New best model with 0.97970 validation accuracy\n",
      "[29/48] training: 0.01121 loss, 0.983 accuracy\n",
      "validation: 0.978 accuracy\n",
      "[30/48] training: 0.01643 loss, 0.985 accuracy\n",
      "validation: 0.978 accuracy\n",
      "[31/48] training: 0.00424 loss, 0.985 accuracy\n",
      "validation: 0.978 accuracy\n",
      "[32/48] training: 0.00350 loss, 0.980 accuracy\n",
      "validation: 0.978 accuracy\n",
      "[33/48] training: 0.00040 loss, 0.983 accuracy\n",
      "validation: 0.979 accuracy\n",
      "[34/48] training: 0.00147 loss, 0.970 accuracy\n",
      "validation: 0.979 accuracy\n",
      "[35/48] training: 0.00463 loss, 0.968 accuracy\n",
      "validation: 0.978 accuracy\n",
      "[36/48] training: 0.00298 loss, 0.975 accuracy\n",
      "validation: 0.977 accuracy\n",
      "[37/48] training: 0.00254 loss, 0.978 accuracy\n",
      "validation: 0.979 accuracy\n",
      "[38/48] training: 0.00207 loss, 0.990 accuracy\n",
      "validation: 0.977 accuracy\n",
      "[39/48] training: 0.00134 loss, 0.975 accuracy\n",
      "validation: 0.979 accuracy\n",
      "[40/48] training: 0.00096 loss, 0.975 accuracy\n",
      "[ModelCheckpoint] New best model with 0.98020 validation accuracy\n",
      "[41/48] training: 0.00044 loss, 0.985 accuracy\n",
      "validation: 0.979 accuracy\n",
      "[42/48] training: 0.00041 loss, 0.988 accuracy\n",
      "validation: 0.977 accuracy\n",
      "[43/48] training: 0.00076 loss, 0.985 accuracy\n",
      "validation: 0.978 accuracy\n",
      "[44/48] training: 0.00104 loss, 0.980 accuracy\n",
      "validation: 0.975 accuracy\n",
      "[45/48] training: 0.00053 loss, 0.980 accuracy\n",
      "validation: 0.979 accuracy\n",
      "[46/48] training: 0.00051 loss, 0.980 accuracy\n",
      "validation: 0.978 accuracy\n",
      "[47/48] training: 0.00074 loss, 0.983 accuracy\n",
      "validation: 0.979 accuracy\n",
      "[48/48] training: 0.00020 loss, 0.988 accuracy\n",
      "validation: 0.978 accuracy\n"
     ]
    }
   ],
   "source": [
    "model = SVMRanking(delta=0.)\n",
    "model.fit(data_generator=sample_suggestions,\n",
    "          optimizer=GradientDescent(30.),\n",
    "          num_iterations=48,\n",
    "          callbacks=[ModelCheckpoint(rank_accuracy, 10000)])"
   ]
  },
  {
   "cell_type": "markdown",
   "metadata": {},
   "source": [
    "## Federated Learning\n",
    "\n",
    "To implement a federated version of the model above, we have to create a `Client` class that completely encapsulates training data. Only the `Client` can compute gradients based on its own data. While the `Server` is the main class for controlling the training process, it can only request gradients from clients."
   ]
  },
  {
   "cell_type": "code",
   "execution_count": 46,
   "metadata": {
    "ExecuteTime": {
     "end_time": "2018-05-24T22:52:49.996387Z",
     "start_time": "2018-05-24T22:52:49.992399Z"
    }
   },
   "outputs": [],
   "source": [
    "import random"
   ]
  },
  {
   "cell_type": "code",
   "execution_count": 95,
   "metadata": {
    "ExecuteTime": {
     "end_time": "2018-05-24T23:06:26.821546Z",
     "start_time": "2018-05-24T23:06:26.795265Z"
    }
   },
   "outputs": [],
   "source": [
    "class Server:\n",
    "    def __init__(self, clients):\n",
    "        self.clients = clients\n",
    "        \n",
    "        num_features = len(frecency_points)\n",
    "        self.W = frecency_points + (np.random.random(size=(num_features)) - 0.5) * 100\n",
    "    \n",
    "    def fit(self, optimizer, num_iterations, num_clients_per_iteration, callbacks=[]):\n",
    "        for j in range(num_iterations):\n",
    "            clients = random.sample(self.clients, num_clients_per_iteration)\n",
    "            updates, losses = zip(*[client.request_update(self) for client in clients])\n",
    "            \n",
    "            gradient = np.mean(updates, axis=0)\n",
    "            loss = np.mean(losses, axis=0)\n",
    "            \n",
    "            print(\"[%d/%d] training loss across clients %.5f\" % (j + 1, num_iterations, loss))\n",
    "            \n",
    "            for callback in callbacks:\n",
    "                callback(self)\n",
    "            \n",
    "            self.W += optimizer(gradient)\n",
    "            \n",
    "    def predict(self, X):\n",
    "        preds = []\n",
    "        \n",
    "        for x in X:\n",
    "            scores = x.dot(self.W)\n",
    "            preds.append(scores)\n",
    "        \n",
    "        return preds"
   ]
  },
  {
   "cell_type": "code",
   "execution_count": 96,
   "metadata": {
    "ExecuteTime": {
     "end_time": "2018-05-24T23:06:27.132615Z",
     "start_time": "2018-05-24T23:06:27.112223Z"
    }
   },
   "outputs": [],
   "source": [
    "class Client:\n",
    "    def __init__(self, data_generator, delta=0):\n",
    "        self.data_generator = data_generator\n",
    "        self.delta = 0\n",
    "    \n",
    "    def request_update(self, model):\n",
    "        X, y = self.data_generator()\n",
    "        preds = model.predict(X)\n",
    "        \n",
    "        num_features = X[0].shape[1]\n",
    "        gradient = np.zeros(num_features)\n",
    "        loss = 0\n",
    "\n",
    "        for xi, pi, yi in zip(X, preds, y):\n",
    "            correct = yi.argmax()\n",
    "            score_correct = pi[correct]\n",
    "\n",
    "            for i, predicted_score in enumerate(pi):\n",
    "                gradient -= xi[i] * max(0, predicted_score + self.delta - score_correct)\n",
    "            \n",
    "            loss += svm_loss(pi, yi)\n",
    "                \n",
    "        gradient /= len(X)\n",
    "        loss /= len(X)\n",
    "        \n",
    "        return gradient, loss"
   ]
  },
  {
   "cell_type": "code",
   "execution_count": 97,
   "metadata": {
    "ExecuteTime": {
     "end_time": "2018-05-24T23:06:27.504911Z",
     "start_time": "2018-05-24T23:06:27.496272Z"
    }
   },
   "outputs": [],
   "source": [
    "clients = [Client(lambda: sample_suggestions(1)) for _ in range(5000)]"
   ]
  },
  {
   "cell_type": "code",
   "execution_count": 99,
   "metadata": {
    "ExecuteTime": {
     "end_time": "2018-05-24T23:15:58.209603Z",
     "start_time": "2018-05-24T23:09:14.308250Z"
    }
   },
   "outputs": [
    {
     "name": "stdout",
     "output_type": "stream",
     "text": [
      "[1/48] training loss across clients 11.92432\n",
      "[ModelCheckpoint] New best model with 0.70930 validation accuracy\n",
      "[2/48] training loss across clients 208.64728\n",
      "[ModelCheckpoint] New best model with 0.72720 validation accuracy\n",
      "[3/48] training loss across clients 61.68384\n",
      "[ModelCheckpoint] New best model with 0.87080 validation accuracy\n",
      "[4/48] training loss across clients 7.04503\n",
      "[ModelCheckpoint] New best model with 0.92680 validation accuracy\n",
      "[5/48] training loss across clients 5.52295\n",
      "[ModelCheckpoint] New best model with 0.94100 validation accuracy\n",
      "[6/48] training loss across clients 6.74706\n",
      "[ModelCheckpoint] New best model with 0.95430 validation accuracy\n",
      "[7/48] training loss across clients 3.37320\n",
      "[ModelCheckpoint] New best model with 0.96590 validation accuracy\n",
      "[8/48] training loss across clients 1.45635\n",
      "validation: 0.965 accuracy\n",
      "[9/48] training loss across clients 2.82450\n",
      "[ModelCheckpoint] New best model with 0.96820 validation accuracy\n",
      "[10/48] training loss across clients 0.61705\n",
      "validation: 0.962 accuracy\n",
      "[11/48] training loss across clients 0.07389\n",
      "validation: 0.965 accuracy\n",
      "[12/48] training loss across clients 0.34876\n",
      "validation: 0.963 accuracy\n",
      "[13/48] training loss across clients 0.18563\n",
      "validation: 0.968 accuracy\n",
      "[14/48] training loss across clients 0.42937\n",
      "validation: 0.962 accuracy\n",
      "[15/48] training loss across clients 0.00400\n",
      "validation: 0.965 accuracy\n",
      "[16/48] training loss across clients 0.15297\n",
      "validation: 0.964 accuracy\n",
      "[17/48] training loss across clients 0.14641\n",
      "validation: 0.965 accuracy\n",
      "[18/48] training loss across clients 0.00992\n",
      "validation: 0.967 accuracy\n",
      "[19/48] training loss across clients 0.05538\n",
      "validation: 0.965 accuracy\n",
      "[20/48] training loss across clients 0.00186\n",
      "validation: 0.965 accuracy\n",
      "[21/48] training loss across clients 0.00022\n",
      "validation: 0.964 accuracy\n",
      "[22/48] training loss across clients 0.05708\n",
      "validation: 0.965 accuracy\n",
      "[23/48] training loss across clients 0.18790\n",
      "validation: 0.967 accuracy\n",
      "[24/48] training loss across clients 0.00387\n",
      "[ModelCheckpoint] New best model with 0.96860 validation accuracy\n",
      "[25/48] training loss across clients 0.06663\n",
      "validation: 0.967 accuracy\n",
      "[26/48] training loss across clients 0.05723\n",
      "validation: 0.966 accuracy\n",
      "[27/48] training loss across clients 0.02446\n",
      "validation: 0.969 accuracy\n",
      "[28/48] training loss across clients 0.06568\n",
      "validation: 0.963 accuracy\n",
      "[29/48] training loss across clients 0.03423\n",
      "validation: 0.965 accuracy\n",
      "[30/48] training loss across clients 0.01580\n",
      "validation: 0.968 accuracy\n",
      "[31/48] training loss across clients 0.04014\n",
      "validation: 0.967 accuracy\n",
      "[32/48] training loss across clients 0.01024\n",
      "validation: 0.967 accuracy\n",
      "[33/48] training loss across clients 0.00002\n",
      "validation: 0.965 accuracy\n",
      "[34/48] training loss across clients 0.00136\n",
      "validation: 0.962 accuracy\n",
      "[35/48] training loss across clients 0.00058\n",
      "validation: 0.966 accuracy\n",
      "[36/48] training loss across clients 0.00964\n",
      "validation: 0.964 accuracy\n",
      "[37/48] training loss across clients 0.00057\n",
      "validation: 0.966 accuracy\n",
      "[38/48] training loss across clients 0.00919\n",
      "validation: 0.963 accuracy\n",
      "[39/48] training loss across clients 0.00020\n",
      "validation: 0.963 accuracy\n",
      "[40/48] training loss across clients 0.00066\n",
      "validation: 0.968 accuracy\n",
      "[41/48] training loss across clients 0.02459\n",
      "validation: 0.969 accuracy\n",
      "[42/48] training loss across clients 0.01928\n",
      "validation: 0.964 accuracy\n",
      "[43/48] training loss across clients 0.00525\n",
      "[ModelCheckpoint] New best model with 0.97030 validation accuracy\n",
      "[44/48] training loss across clients 0.00001\n",
      "validation: 0.967 accuracy\n",
      "[45/48] training loss across clients 0.00477\n",
      "validation: 0.968 accuracy\n",
      "[46/48] training loss across clients 0.00029\n",
      "validation: 0.967 accuracy\n",
      "[47/48] training loss across clients 0.01692\n",
      "validation: 0.969 accuracy\n",
      "[48/48] training loss across clients 0.00641\n",
      "validation: 0.966 accuracy\n"
     ]
    }
   ],
   "source": [
    "server = Server(clients)\n",
    "server.fit(optimizer=GradientDescent(30.),\n",
    "          num_iterations=48,\n",
    "           num_clients_per_iteration=400,\n",
    "          callbacks=[ModelCheckpoint(rank_accuracy, 10000)])"
   ]
  },
  {
   "cell_type": "markdown",
   "metadata": {},
   "source": [
    "=> The model quality improved from 70% to 97% validation accuracy."
   ]
  },
  {
   "cell_type": "markdown",
   "metadata": {},
   "source": [
    "Notes:\n",
    "\n",
    "- `ModelCheckpoint` cannot be based on validation data in the actual implementation\n",
    "- Users should sample more than 1 data point\n",
    "- Users should run more than one SGD iteration locally\n",
    "- This entire simulation could be massively parallelized using Spark"
   ]
  }
 ],
 "metadata": {
  "anaconda-cloud": {},
  "kernelspec": {
   "display_name": "Python 3",
   "language": "python",
   "name": "python3"
  },
  "language_info": {
   "codemirror_mode": {
    "name": "ipython",
    "version": 3
   },
   "file_extension": ".py",
   "mimetype": "text/x-python",
   "name": "python",
   "nbconvert_exporter": "python",
   "pygments_lexer": "ipython3",
   "version": "3.6.4"
  },
  "toc": {
   "nav_menu": {},
   "number_sections": true,
   "sideBar": true,
   "skip_h1_title": false,
   "toc_cell": false,
   "toc_position": {
    "height": "1196px",
    "left": "0px",
    "right": "1068px",
    "top": "160px",
    "width": "212px"
   },
   "toc_section_display": "block",
   "toc_window_display": true
  },
  "varInspector": {
   "cols": {
    "lenName": 16,
    "lenType": 16,
    "lenVar": 40
   },
   "kernels_config": {
    "python": {
     "delete_cmd_postfix": "",
     "delete_cmd_prefix": "del ",
     "library": "var_list.py",
     "varRefreshCmd": "print(var_dic_list())"
    },
    "r": {
     "delete_cmd_postfix": ") ",
     "delete_cmd_prefix": "rm(",
     "library": "var_list.r",
     "varRefreshCmd": "cat(var_dic_list()) "
    }
   },
   "types_to_exclude": [
    "module",
    "function",
    "builtin_function_or_method",
    "instance",
    "_Feature"
   ],
   "window_display": false
  }
 },
 "nbformat": 4,
 "nbformat_minor": 1
}
