{
 "cells": [
  {
   "cell_type": "markdown",
   "metadata": {},
   "source": [
    "\n",
    "# Federated Learning"
   ]
  },
  {
   "cell_type": "markdown",
   "metadata": {},
   "source": [
    "## Frecency Sampling\n",
    "\n",
    "To be able to quickly prototype the Federated Learning algorithm, a dataset is required.\n",
    "This notebook is based on a fake frecency dataset that was designed to be very interpretable and at the same time close to the actual data.\n",
    "The assumption for the data generation is that the current frecency algorithm is perfect. By sampling based on this axiom, we can check if the algorithm really finds the global optimum."
   ]
  },
  {
   "cell_type": "code",
   "execution_count": 1,
   "metadata": {
    "ExecuteTime": {
     "end_time": "2018-05-22T17:38:45.322113Z",
     "start_time": "2018-05-22T17:38:44.924908Z"
    }
   },
   "outputs": [],
   "source": [
    "import numpy as np\n",
    "import matplotlib.pyplot as plt\n",
    "%matplotlib inline"
   ]
  },
  {
   "cell_type": "markdown",
   "metadata": {},
   "source": [
    "### Sampling the model input"
   ]
  },
  {
   "cell_type": "markdown",
   "metadata": {},
   "source": [
    "These are weights that describe how common certain features are. For `recency` we assume a uniform distribution over time, for `type` numbers were chosen that intuitively seem to be reasonable."
   ]
  },
  {
   "cell_type": "code",
   "execution_count": 2,
   "metadata": {
    "ExecuteTime": {
     "end_time": "2018-05-22T17:38:49.229317Z",
     "start_time": "2018-05-22T17:38:49.222894Z"
    }
   },
   "outputs": [],
   "source": [
    "type_weights = {\n",
    "    \"visited\": 0.6,\n",
    "    \"typed\": 0.2,\n",
    "    \"bookmarked\": 0.2,\n",
    "    #\"other_type\": 0.1\n",
    "}"
   ]
  },
  {
   "cell_type": "markdown",
   "metadata": {},
   "source": [
    "**Note:** Actually there's also a feature `other_type` which has a weight of `0` in the original frecency algorithm, i.e. it's not really used. If we use this feature for this training process, it adds noise to the model because the model has not enough data to learn that this feature does not really add value. "
   ]
  },
  {
   "cell_type": "code",
   "execution_count": 3,
   "metadata": {
    "ExecuteTime": {
     "end_time": "2018-05-22T17:39:10.684337Z",
     "start_time": "2018-05-22T17:39:10.677859Z"
    }
   },
   "outputs": [],
   "source": [
    "recency_weights = {\n",
    "    \"4-days\": 0.03,\n",
    "    \"14-days\": 0.05,\n",
    "    \"31-days\": 0.1,\n",
    "    \"90-days\": 0.32,\n",
    "    \"other_recency\": 0.5\n",
    "}"
   ]
  },
  {
   "cell_type": "markdown",
   "metadata": {},
   "source": [
    "For the simulation, it seems to be a fair assumption that `type` and `recency` are independent of each other.\n",
    "This means we can just multiply the probabilities.\n",
    "\n",
    "This is probably not completely true, since users likely visit bookmarks more often, but it makes things easier here and the probabilities are hard to estimate well anyways."
   ]
  },
  {
   "cell_type": "code",
   "execution_count": 5,
   "metadata": {
    "ExecuteTime": {
     "end_time": "2018-05-22T17:40:03.857312Z",
     "start_time": "2018-05-22T17:40:03.847644Z"
    }
   },
   "outputs": [],
   "source": [
    "def combine_dicts_multiplicatively(dict1, dict2):\n",
    "    \"\"\"\n",
    "    Returns a new dict where the keys consist of all pairs of keys from the input\n",
    "    dictionaries and the values correspond to the respective multiplied values.\n",
    "    \"\"\"\n",
    "    weights = {}\n",
    "\n",
    "    for key1, weight1 in dict1.items():\n",
    "        for key2, weight2 in dict2.items():\n",
    "            key = (key1, key2)\n",
    "            weight = weight1 * weight2\n",
    "            weights[key] = weight\n",
    "            \n",
    "    return weights"
   ]
  },
  {
   "cell_type": "code",
   "execution_count": 6,
   "metadata": {
    "ExecuteTime": {
     "end_time": "2018-05-22T17:40:05.810689Z",
     "start_time": "2018-05-22T17:40:05.806182Z"
    }
   },
   "outputs": [],
   "source": [
    "weights = combine_dicts_multiplicatively(type_weights, recency_weights)"
   ]
  },
  {
   "cell_type": "markdown",
   "metadata": {},
   "source": [
    "A one-hot representation makes it easier to implement the rest of the formulas. numpy allows us to generate this easily using a permutation of the identity matrix."
   ]
  },
  {
   "cell_type": "code",
   "execution_count": 7,
   "metadata": {
    "ExecuteTime": {
     "end_time": "2018-05-22T17:40:08.256099Z",
     "start_time": "2018-05-22T17:40:08.251318Z"
    }
   },
   "outputs": [],
   "source": [
    "def one_hot(num_choices, vector):\n",
    "    return np.eye(num_choices)[vector]"
   ]
  },
  {
   "cell_type": "markdown",
   "metadata": {},
   "source": [
    "The input vector to the model is 20-dimensional: One field for every combination of `type` and `recency`.\n",
    "In the frecency algorithm, we consider the last ten visits to the URL.\n",
    "Thus, the sum of all elements of the vector is a natural number between 1 and 10.\n",
    "\n",
    "(Since `other-type` is commented out, it's only 15-dimensional for now.)"
   ]
  },
  {
   "cell_type": "code",
   "execution_count": 8,
   "metadata": {
    "ExecuteTime": {
     "end_time": "2018-05-22T17:41:13.589148Z",
     "start_time": "2018-05-22T17:41:13.581884Z"
    }
   },
   "outputs": [],
   "source": [
    "def sample_weighted(num_samples, weight_dict):\n",
    "    \"\"\"Randomly sample from a dict using the values as probabilities\"\"\"\n",
    "    num_choices = len(weight_dict)\n",
    "    choice_weights = weight_dict.values()\n",
    "    samples = np.random.choice(num_choices, num_samples, p=choice_weights)\n",
    "    return one_hot(num_choices, samples)"
   ]
  },
  {
   "cell_type": "code",
   "execution_count": 9,
   "metadata": {
    "ExecuteTime": {
     "end_time": "2018-05-22T17:41:13.972045Z",
     "start_time": "2018-05-22T17:41:13.967573Z"
    }
   },
   "outputs": [],
   "source": [
    "def sample_url_features(num_samples):\n",
    "    return sample_weighted(num_samples, weights)"
   ]
  },
  {
   "cell_type": "markdown",
   "metadata": {},
   "source": [
    "### Sampling the target labels"
   ]
  },
  {
   "cell_type": "markdown",
   "metadata": {},
   "source": [
    "These are the weights found in the current frecency algorithm. Based on the one-hot encoding, this is just a linear function."
   ]
  },
  {
   "cell_type": "code",
   "execution_count": 10,
   "metadata": {
    "ExecuteTime": {
     "end_time": "2018-05-22T17:41:18.602378Z",
     "start_time": "2018-05-22T17:41:18.596895Z"
    }
   },
   "outputs": [],
   "source": [
    "type_points = {\n",
    "    \"visited\": 1.2,\n",
    "    \"typed\": 2,\n",
    "    \"bookmarked\": 1.4,\n",
    "    #\"other_type\": 0\n",
    "}"
   ]
  },
  {
   "cell_type": "code",
   "execution_count": 11,
   "metadata": {
    "ExecuteTime": {
     "end_time": "2018-05-22T17:41:19.511964Z",
     "start_time": "2018-05-22T17:41:19.505578Z"
    }
   },
   "outputs": [],
   "source": [
    "recency_points = {\n",
    "    \"4-days\": 100,\n",
    "    \"14-days\": 70,\n",
    "    \"31-days\": 50,\n",
    "    \"90-days\": 30,\n",
    "    \"other_recency\": 10\n",
    "}"
   ]
  },
  {
   "cell_type": "code",
   "execution_count": 12,
   "metadata": {
    "ExecuteTime": {
     "end_time": "2018-05-22T17:41:21.741858Z",
     "start_time": "2018-05-22T17:41:21.737648Z"
    }
   },
   "outputs": [],
   "source": [
    "frecency_points_dict = combine_dicts_multiplicatively(type_points, recency_points)"
   ]
  },
  {
   "cell_type": "markdown",
   "metadata": {},
   "source": [
    "To make sure that the order of keys is the same everywhere:"
   ]
  },
  {
   "cell_type": "code",
   "execution_count": 13,
   "metadata": {
    "ExecuteTime": {
     "end_time": "2018-05-22T17:41:38.975198Z",
     "start_time": "2018-05-22T17:41:38.970372Z"
    }
   },
   "outputs": [],
   "source": [
    "key_order = weights.keys()\n",
    "frecency_points = np.array([frecency_points_dict[key] for key in key_order])"
   ]
  },
  {
   "cell_type": "markdown",
   "metadata": {},
   "source": [
    "This gives us the frecency points from the original algorithm:"
   ]
  },
  {
   "cell_type": "code",
   "execution_count": 15,
   "metadata": {
    "ExecuteTime": {
     "end_time": "2018-05-22T17:41:59.996491Z",
     "start_time": "2018-05-22T17:41:59.987231Z"
    }
   },
   "outputs": [
    {
     "data": {
      "text/plain": [
       "[(('visited', '4-days'), 120.0),\n",
       " (('visited', '90-days'), 36.0),\n",
       " (('bookmarked', '14-days'), 98.0),\n",
       " (('bookmarked', 'other_recency'), 14.0),\n",
       " (('typed', 'other_recency'), 20.0),\n",
       " (('typed', '31-days'), 100.0),\n",
       " (('typed', '14-days'), 140.0),\n",
       " (('bookmarked', '31-days'), 70.0),\n",
       " (('typed', '4-days'), 200.0),\n",
       " (('bookmarked', '90-days'), 42.0),\n",
       " (('visited', '31-days'), 60.0),\n",
       " (('bookmarked', '4-days'), 140.0),\n",
       " (('visited', 'other_recency'), 12.0),\n",
       " (('typed', '90-days'), 60.0),\n",
       " (('visited', '14-days'), 84.0)]"
      ]
     },
     "execution_count": 15,
     "metadata": {},
     "output_type": "execute_result"
    }
   ],
   "source": [
    "zip(key_order, frecency_points)"
   ]
  },
  {
   "cell_type": "markdown",
   "metadata": {},
   "source": [
    "After all these preparations, an arbitrary number of frecency scores can be computed using a single matrix multiplication."
   ]
  },
  {
   "cell_type": "code",
   "execution_count": 16,
   "metadata": {
    "ExecuteTime": {
     "end_time": "2018-05-22T17:42:08.342656Z",
     "start_time": "2018-05-22T17:42:08.338145Z"
    }
   },
   "outputs": [],
   "source": [
    "def frecency(url_features):\n",
    "    return url_features.dot(frecency_points)"
   ]
  },
  {
   "cell_type": "markdown",
   "metadata": {},
   "source": [
    "Finally, we are sampling from the above distributions and then call the frecency function."
   ]
  },
  {
   "cell_type": "code",
   "execution_count": 17,
   "metadata": {
    "ExecuteTime": {
     "end_time": "2018-05-22T17:42:13.061221Z",
     "start_time": "2018-05-22T17:42:13.055500Z"
    }
   },
   "outputs": [],
   "source": [
    "def sample(num_samples):\n",
    "    X = sample_url_features(num_samples)\n",
    "    y = frecency(X)\n",
    "    return X, y"
   ]
  },
  {
   "cell_type": "markdown",
   "metadata": {},
   "source": [
    "## Linear Regression\n",
    "\n",
    "This section is mostly to check that's it possible to fit a linear model perfectly to the data."
   ]
  },
  {
   "cell_type": "code",
   "execution_count": 18,
   "metadata": {
    "ExecuteTime": {
     "end_time": "2018-05-22T17:42:44.239387Z",
     "start_time": "2018-05-22T17:42:43.951059Z"
    }
   },
   "outputs": [],
   "source": [
    "from sklearn.linear_model import LinearRegression"
   ]
  },
  {
   "cell_type": "markdown",
   "metadata": {},
   "source": [
    "To fit a model, we sample a lot of these scores and also add noise on top to make the problem more similar to the real application."
   ]
  },
  {
   "cell_type": "code",
   "execution_count": 19,
   "metadata": {
    "ExecuteTime": {
     "end_time": "2018-05-22T17:42:46.112660Z",
     "start_time": "2018-05-22T17:42:45.808453Z"
    }
   },
   "outputs": [],
   "source": [
    "n = int(1e6)\n",
    "noise = np.random.normal(0, 2, size=(n))\n",
    "X, y = sample(n)\n",
    "y += noise"
   ]
  },
  {
   "cell_type": "code",
   "execution_count": 20,
   "metadata": {
    "ExecuteTime": {
     "end_time": "2018-05-22T17:42:46.599069Z",
     "start_time": "2018-05-22T17:42:46.594593Z"
    }
   },
   "outputs": [],
   "source": [
    "model = LinearRegression(fit_intercept=False)"
   ]
  },
  {
   "cell_type": "code",
   "execution_count": 21,
   "metadata": {
    "ExecuteTime": {
     "end_time": "2018-05-22T17:42:47.786059Z",
     "start_time": "2018-05-22T17:42:46.975628Z"
    }
   },
   "outputs": [
    {
     "data": {
      "text/plain": [
       "LinearRegression(copy_X=True, fit_intercept=False, n_jobs=1, normalize=False)"
      ]
     },
     "execution_count": 21,
     "metadata": {},
     "output_type": "execute_result"
    }
   ],
   "source": [
    "model.fit(X, y)"
   ]
  },
  {
   "cell_type": "markdown",
   "metadata": {},
   "source": [
    "The resulting coefficients are extremely close to the actual frecency weights. How close they are depends on how much noise we add to the data matrix."
   ]
  },
  {
   "cell_type": "code",
   "execution_count": 22,
   "metadata": {
    "ExecuteTime": {
     "end_time": "2018-05-22T17:42:48.053236Z",
     "start_time": "2018-05-22T17:42:48.042671Z"
    }
   },
   "outputs": [
    {
     "data": {
      "text/plain": [
       "[(120.00857174123152, 120.0),\n",
       " (35.992374329252499, 36.0),\n",
       " (98.009679407084931, 98.0),\n",
       " (13.994036991286437, 14.0),\n",
       " (19.997969525275028, 20.0),\n",
       " (100.00525467300019, 100.0),\n",
       " (140.00535170497776, 140.0),\n",
       " (70.006640174834345, 70.0),\n",
       " (200.03664835231191, 200.0),\n",
       " (42.004912094290368, 42.0),\n",
       " (60.007841509769776, 60.0),\n",
       " (139.92209908360906, 140.0),\n",
       " (11.999563388013492, 12.0),\n",
       " (59.997270917600559, 60.0),\n",
       " (84.006283264096965, 84.0)]"
      ]
     },
     "execution_count": 22,
     "metadata": {},
     "output_type": "execute_result"
    }
   ],
   "source": [
    "zip(model.coef_, frecency_points)"
   ]
  },
  {
   "cell_type": "code",
   "execution_count": 23,
   "metadata": {
    "ExecuteTime": {
     "end_time": "2018-05-22T17:42:50.641703Z",
     "start_time": "2018-05-22T17:42:50.632822Z"
    }
   },
   "outputs": [
    {
     "data": {
      "text/plain": [
       "array([ 0.00857174, -0.00762567,  0.00967941, -0.00596301, -0.00203047,\n",
       "        0.00525467,  0.0053517 ,  0.00664017,  0.03664835,  0.00491209,\n",
       "        0.00784151, -0.07790092, -0.00043661, -0.00272908,  0.00628326])"
      ]
     },
     "execution_count": 23,
     "metadata": {},
     "output_type": "execute_result"
    }
   ],
   "source": [
    "model.coef_ - frecency_points"
   ]
  },
  {
   "cell_type": "markdown",
   "metadata": {},
   "source": [
    "## Ranking\n",
    "\n",
    "Now, we make the problem slightly more difficult: Instead of just learning the frecency function from data, we try to learn it from user interactions. The training data now consists of a variable number of history suggestions and their respective features. The label corresponds to the suggestion that the user clicked on. We still assume that the user clicks on the item with the highest frecency score."
   ]
  },
  {
   "cell_type": "code",
   "execution_count": 24,
   "metadata": {
    "ExecuteTime": {
     "end_time": "2018-05-22T17:44:44.051372Z",
     "start_time": "2018-05-22T17:44:44.047045Z"
    }
   },
   "outputs": [],
   "source": [
    "n = int(1e3)"
   ]
  },
  {
   "cell_type": "markdown",
   "metadata": {},
   "source": [
    "How many suggestions match the search query is sampled from a normal distribution centered around `10`."
   ]
  },
  {
   "cell_type": "code",
   "execution_count": 26,
   "metadata": {
    "ExecuteTime": {
     "end_time": "2018-05-22T17:45:23.659068Z",
     "start_time": "2018-05-22T17:45:23.653086Z"
    }
   },
   "outputs": [],
   "source": [
    "num_options = np.random.normal(loc=10, scale=4, size=(n))\n",
    "num_options = np.maximum(num_options, 1)\n",
    "num_options = np.int32(num_options)"
   ]
  },
  {
   "cell_type": "code",
   "execution_count": 27,
   "metadata": {
    "ExecuteTime": {
     "end_time": "2018-05-22T17:45:24.200400Z",
     "start_time": "2018-05-22T17:45:23.971949Z"
    }
   },
   "outputs": [
    {
     "data": {
      "text/plain": [
       "<matplotlib.text.Text at 0x7f8a1bb43d90>"
      ]
     },
     "execution_count": 27,
     "metadata": {},
     "output_type": "execute_result"
    },
    {
     "data": {
      "image/png": "[encoded data removed]",
      "text/plain": [
       "<matplotlib.figure.Figure at 0x7f8a1bb7d8d0>"
      ]
     },
     "metadata": {},
     "output_type": "display_data"
    }
   ],
   "source": [
    "plt.hist(num_options)\n",
    "plt.xlabel(\"number of matches\")\n",
    "plt.ylabel(\"count\")"
   ]
  },
  {
   "cell_type": "markdown",
   "metadata": {},
   "source": [
    "## Hinge Loss\n",
    "\n",
    "After preparing the training data, we can try to use the adapted SVM loss (also called [hinge loss](https://en.wikipedia.org/wiki/Hinge_loss)) for ranking."
   ]
  },
  {
   "cell_type": "code",
   "execution_count": 31,
   "metadata": {
    "ExecuteTime": {
     "end_time": "2018-05-22T17:51:03.173638Z",
     "start_time": "2018-05-22T17:51:03.097916Z"
    }
   },
   "outputs": [],
   "source": [
    "X, y = zip(*[sample(n) for n in num_options])"
   ]
  },
  {
   "cell_type": "markdown",
   "metadata": {},
   "source": [
    "Gradient descent generally works better when the data is centered around the origin:"
   ]
  },
  {
   "cell_type": "code",
   "execution_count": 32,
   "metadata": {
    "ExecuteTime": {
     "end_time": "2018-05-22T17:51:03.951365Z",
     "start_time": "2018-05-22T17:51:03.944862Z"
    }
   },
   "outputs": [],
   "source": [
    "def flatten(X):\n",
    "    X_flat = []\n",
    "\n",
    "    for x in X:\n",
    "        X_flat += list(x)\n",
    "\n",
    "    return np.array(X_flat)"
   ]
  },
  {
   "cell_type": "code",
   "execution_count": 33,
   "metadata": {
    "ExecuteTime": {
     "end_time": "2018-05-22T17:51:04.386934Z",
     "start_time": "2018-05-22T17:51:04.381646Z"
    }
   },
   "outputs": [],
   "source": [
    "def normalize(X):\n",
    "    X_flat = flatten(X)\n",
    "    mu = X_flat.mean(axis=0)\n",
    "    return [x - mu for x in X]"
   ]
  },
  {
   "cell_type": "code",
   "execution_count": 34,
   "metadata": {
    "ExecuteTime": {
     "end_time": "2018-05-22T17:51:04.845899Z",
     "start_time": "2018-05-22T17:51:04.831507Z"
    }
   },
   "outputs": [],
   "source": [
    "X = normalize(X)"
   ]
  },
  {
   "cell_type": "markdown",
   "metadata": {},
   "source": [
    "The optimizer we use is fairly simple: It scales the gradient with a learning rate before adding it to the model.\n",
    "This abstraction as a class is still nice because we can later replace it with more sophisticated optimizers."
   ]
  },
  {
   "cell_type": "code",
   "execution_count": 35,
   "metadata": {
    "ExecuteTime": {
     "end_time": "2018-05-22T17:51:06.195231Z",
     "start_time": "2018-05-22T17:51:06.188949Z"
    }
   },
   "outputs": [],
   "source": [
    "class GradientDescent:\n",
    "    def __init__(self, learning_rate):\n",
    "        self.learning_rate = learning_rate\n",
    "        \n",
    "    def __call__(self, gradient):\n",
    "        return self.learning_rate * gradient"
   ]
  },
  {
   "cell_type": "markdown",
   "metadata": {},
   "source": [
    "To supervise training, we keep logging the loss:"
   ]
  },
  {
   "cell_type": "code",
   "execution_count": 36,
   "metadata": {
    "ExecuteTime": {
     "end_time": "2018-05-22T17:51:07.189615Z",
     "start_time": "2018-05-22T17:51:07.180348Z"
    }
   },
   "outputs": [],
   "source": [
    "def svm_loss(preds, ys):\n",
    "    correct = ys.argmax()\n",
    "    score_correct = preds[correct]\n",
    "    \n",
    "    loss = 0\n",
    "    \n",
    "    for i, pred in enumerate(preds):\n",
    "        if i != correct and pred > score_correct:\n",
    "            loss += pred - score_correct\n",
    "            \n",
    "    return loss"
   ]
  },
  {
   "cell_type": "markdown",
   "metadata": {},
   "source": [
    "The `SVMRanking` class is the main mechanism for fitting models."
   ]
  },
  {
   "cell_type": "code",
   "execution_count": 53,
   "metadata": {
    "ExecuteTime": {
     "end_time": "2018-05-22T17:53:00.867238Z",
     "start_time": "2018-05-22T17:53:00.828902Z"
    }
   },
   "outputs": [],
   "source": [
    "class SVMRanking:\n",
    "    def __init__(self, delta):\n",
    "        self.delta = delta\n",
    "        \n",
    "    def fit(self, X, y, optimizer, num_iterations=10):\n",
    "        num_features = X[0].shape[1]\n",
    "        \n",
    "        np.random.seed(0)\n",
    "        self.W = frecency_points + (np.random.random(size=(num_features)) - 0.5) * 50\n",
    "        \n",
    "        for j in range(num_iterations):\n",
    "            preds = self.predict(X)\n",
    "            gradient = np.zeros(num_features)\n",
    "            loss = 0\n",
    "            \n",
    "            for xi, pi, yi in zip(X, preds, y):\n",
    "                correct = yi.argmax()\n",
    "                score_correct = pi[correct]\n",
    "                \n",
    "                if pi.argmax() != correct: # Wrong pred, let's ignore delta for now\n",
    "                    for i, predicted_score in enumerate(pi):\n",
    "                        if i != correct and predicted_score > score_correct:\n",
    "                            gradient -= xi[i]\n",
    "                            \n",
    "                loss += svm_loss(pi, yi)\n",
    "            \n",
    "            # / 100 just to make it easier to parse\n",
    "            loss /= len(X) / 100\n",
    "            gradient /= len(X)\n",
    "            self.W += optimizer(gradient)\n",
    "            \n",
    "            if j % (num_iterations / 20) == 0:\n",
    "                print(loss)\n",
    "                \n",
    "            if loss < 0.05:\n",
    "                break\n",
    "    \n",
    "    def predict(self, X):\n",
    "        preds = []\n",
    "        \n",
    "        for x in X:\n",
    "            scores = x.dot(self.W)\n",
    "            preds.append(scores)\n",
    "        \n",
    "        return preds"
   ]
  },
  {
   "cell_type": "code",
   "execution_count": 54,
   "metadata": {
    "ExecuteTime": {
     "end_time": "2018-05-22T17:53:17.254180Z",
     "start_time": "2018-05-22T17:53:01.130548Z"
    },
    "scrolled": true
   },
   "outputs": [
    {
     "name": "stdout",
     "output_type": "stream",
     "text": [
      "429.843103345\n",
      "218.361583462\n",
      "78.3765090899\n",
      "57.3335639678\n",
      "42.4594006889\n",
      "30.5899160192\n",
      "23.0474973035\n",
      "15.6816449125\n",
      "8.11178555738\n",
      "0.677141516191\n"
     ]
    }
   ],
   "source": [
    "model = SVMRanking(delta=1)\n",
    "model.fit(X, y, optimizer=GradientDescent(.75), num_iterations=3000)"
   ]
  },
  {
   "cell_type": "markdown",
   "metadata": {},
   "source": [
    "After fitting, we can compare the learned weights with the true frecency scores. If sorted by influence, they are nearly the same. To increase the margins between them, the `delta` parameter still has to be implemented."
   ]
  },
  {
   "cell_type": "code",
   "execution_count": 55,
   "metadata": {
    "ExecuteTime": {
     "end_time": "2018-05-22T17:53:18.423993Z",
     "start_time": "2018-05-22T17:53:18.414622Z"
    },
    "scrolled": true
   },
   "outputs": [
    {
     "data": {
      "text/plain": [
       "[(12.0, 31.15989523099319),\n",
       " (14.0, 31.139571634029117),\n",
       " (20.0, 31.379097780104424),\n",
       " (36.0, 46.352748949157061),\n",
       " (42.0, 46.356357889837028),\n",
       " (60.0, 55.568726492913612),\n",
       " (60.0, 55.587676284097356),\n",
       " (70.0, 67.302202337714363),\n",
       " (84.0, 67.355709489400496),\n",
       " (98.0, 104.675418909024),\n",
       " (100.0, 110.36920586421327),\n",
       " (120.0, 125.69131864849851),\n",
       " (140.0, 138.04070440539326),\n",
       " (140.0, 138.04146219388386),\n",
       " (200.0, 224.12790631902101)]"
      ]
     },
     "execution_count": 55,
     "metadata": {},
     "output_type": "execute_result"
    }
   ],
   "source": [
    "ais = np.argsort(frecency_points)\n",
    "zip(frecency_points[ais], model.W[ais])"
   ]
  },
  {
   "cell_type": "markdown",
   "metadata": {},
   "source": [
    "accuracy needs to be measured carefully here: In our simulation, we assume that the current frecency is the perfect ranking function. But because items sometimes get the same frecency scores, there can be more than one correct answer:"
   ]
  },
  {
   "cell_type": "code",
   "execution_count": 56,
   "metadata": {
    "ExecuteTime": {
     "end_time": "2018-05-22T17:53:26.910496Z",
     "start_time": "2018-05-22T17:53:26.903088Z"
    }
   },
   "outputs": [],
   "source": [
    "def rank_accuracy(y, preds):\n",
    "    correct = 0.\n",
    "    \n",
    "    for yi, pi in zip(y, preds):\n",
    "        if yi[pi.argmax()] == yi.max():\n",
    "            correct += 1\n",
    "            \n",
    "    return correct / len(y)"
   ]
  },
  {
   "cell_type": "markdown",
   "metadata": {},
   "source": [
    "This number tells us how often our model predicted the correct answer:"
   ]
  },
  {
   "cell_type": "code",
   "execution_count": 57,
   "metadata": {
    "ExecuteTime": {
     "end_time": "2018-05-22T17:53:27.059356Z",
     "start_time": "2018-05-22T17:53:27.046611Z"
    }
   },
   "outputs": [
    {
     "data": {
      "text/plain": [
       "0.995"
      ]
     },
     "execution_count": 57,
     "metadata": {},
     "output_type": "execute_result"
    }
   ],
   "source": [
    "rank_accuracy(y, model.predict(X))"
   ]
  },
  {
   "cell_type": "markdown",
   "metadata": {},
   "source": [
    "---"
   ]
  },
  {
   "cell_type": "markdown",
   "metadata": {},
   "source": [
    "### Debugging\n",
    "\n",
    "This part is just for checking wrong predictions:"
   ]
  },
  {
   "cell_type": "code",
   "execution_count": null,
   "metadata": {
    "ExecuteTime": {
     "end_time": "2018-05-22T17:56:40.727110Z",
     "start_time": "2018-05-22T17:56:40.720007Z"
    }
   },
   "outputs": [],
   "source": [
    "preds = [t.argmax() for t in model.predict(X)]"
   ]
  },
  {
   "cell_type": "code",
   "execution_count": null,
   "metadata": {
    "ExecuteTime": {
     "end_time": "2018-05-22T17:56:40.867866Z",
     "start_time": "2018-05-22T17:56:40.863237Z"
    }
   },
   "outputs": [],
   "source": [
    "labels = [yi.argmax() for yi in y]"
   ]
  },
  {
   "cell_type": "code",
   "execution_count": null,
   "metadata": {
    "ExecuteTime": {
     "end_time": "2018-05-22T17:56:41.358054Z",
     "start_time": "2018-05-22T17:56:41.348483Z"
    },
    "scrolled": true
   },
   "outputs": [],
   "source": [
    "zip(range(len(labels)), labels, preds)[:20]"
   ]
  },
  {
   "cell_type": "code",
   "execution_count": null,
   "metadata": {
    "ExecuteTime": {
     "end_time": "2018-05-22T17:28:32.538503Z",
     "start_time": "2018-05-22T17:28:32.525165Z"
    }
   },
   "outputs": [],
   "source": [
    "y[5]"
   ]
  },
  {
   "cell_type": "code",
   "execution_count": null,
   "metadata": {
    "ExecuteTime": {
     "end_time": "2018-05-22T17:28:39.185425Z",
     "start_time": "2018-05-22T17:28:39.175144Z"
    }
   },
   "outputs": [],
   "source": [
    "model.predict(X)[5]"
   ]
  },
  {
   "cell_type": "code",
   "execution_count": null,
   "metadata": {
    "ExecuteTime": {
     "end_time": "2018-05-22T17:28:26.882999Z",
     "start_time": "2018-05-22T17:28:26.870697Z"
    }
   },
   "outputs": [],
   "source": [
    "X[9][2]"
   ]
  },
  {
   "cell_type": "markdown",
   "metadata": {},
   "source": [
    "# Backup"
   ]
  },
  {
   "cell_type": "markdown",
   "metadata": {},
   "source": [
    "### Random noise"
   ]
  },
  {
   "cell_type": "code",
   "execution_count": null,
   "metadata": {
    "ExecuteTime": {
     "end_time": "2018-05-22T17:24:19.367671Z",
     "start_time": "2018-05-22T17:24:19.357338Z"
    }
   },
   "outputs": [],
   "source": [
    "y = [yi + np.random.normal(0, 2, size=(n)) for yi, n in zip(y, num_options)]"
   ]
  },
  {
   "cell_type": "markdown",
   "metadata": {},
   "source": [
    "### Other optimizers"
   ]
  },
  {
   "cell_type": "code",
   "execution_count": null,
   "metadata": {
    "ExecuteTime": {
     "end_time": "2018-05-22T17:25:38.314176Z",
     "start_time": "2018-05-22T17:25:38.303188Z"
    }
   },
   "outputs": [],
   "source": [
    "class DecayedGradientDescent:\n",
    "    def __init__(self, learning_rate, decay):\n",
    "        self.learning_rate = learning_rate\n",
    "        self.decay = decay\n",
    "        self.epoch = 0\n",
    "        \n",
    "    def __call__(self, gradient):\n",
    "        result = self.learning_rate * gradient\n",
    "        \n",
    "        self.learning_rate = self.learning_rate * 1 / (1 + self.decay * self.epoch)\n",
    "        self.epoch += 1\n",
    "            \n",
    "        return result"
   ]
  },
  {
   "cell_type": "code",
   "execution_count": null,
   "metadata": {
    "scrolled": true
   },
   "outputs": [],
   "source": [
    "model = SVMRanking(delta=1)\n",
    "model.fit(X, y, optimizer=DecayedGradientDescent(0.5, .0000001), num_iterations=3000)"
   ]
  },
  {
   "cell_type": "code",
   "execution_count": null,
   "metadata": {},
   "outputs": [],
   "source": [
    "class Adam:\n",
    "    def __init__(self, learning_rate):\n",
    "        self.learning_rate = learning_rate\n",
    "        self.beta1 = 0.9\n",
    "        self.beta2 = 0.999\n",
    "        self.alpha = 0.01\n",
    "        self.eps = 1e-8\n",
    "        \n",
    "        self.t = 0\n",
    "        \n",
    "        self.m = None\n",
    "        self.v = None\n",
    "        self.theta = None\n",
    "    \n",
    "    def __call__(self, gradient):\n",
    "        if self.t == 0:\n",
    "            self.m = np.zeros(gradient.shape)\n",
    "            self.v = np.zeros(gradient.shape)\n",
    "            self.theta = np.zeros(gradient.shape)\n",
    "        \n",
    "        self.t += 1\n",
    "        \n",
    "        self.m = self.beta1 * self.m + (1 - self.beta1) * gradient\n",
    "        self.v = self.beta2 * self.v + (1 - self.beta2) * gradient**2\n",
    "        \n",
    "        m_corrected = self.m / (1 - self.beta1**self.t)\n",
    "        v_corrected = self.v / (1 - self.beta2**self.t)\n",
    "\n",
    "        self.theta += self.alpha * m_corrected / (np.sqrt(v_corrected) + self.eps)\n",
    "        \n",
    "        return self.learning_rate * self.theta"
   ]
  },
  {
   "cell_type": "code",
   "execution_count": null,
   "metadata": {
    "scrolled": false
   },
   "outputs": [],
   "source": [
    "opt = Adam(learning_rate=0.1)\n",
    "model = SVMRanking(delta=1)\n",
    "model.fit(X, y, optimizer=opt, num_iterations=200)"
   ]
  },
  {
   "cell_type": "code",
   "execution_count": null,
   "metadata": {
    "ExecuteTime": {
     "end_time": "2018-05-22T16:50:40.531718Z",
     "start_time": "2018-05-22T16:50:40.506247Z"
    }
   },
   "outputs": [],
   "source": [
    "opt.theta"
   ]
  }
 ],
 "metadata": {
  "anaconda-cloud": {},
  "kernelspec": {
   "display_name": "Python [conda root]",
   "language": "python",
   "name": "conda-root-py"
  },
  "language_info": {
   "codemirror_mode": {
    "name": "ipython",
    "version": 2
   },
   "file_extension": ".py",
   "mimetype": "text/x-python",
   "name": "python",
   "nbconvert_exporter": "python",
   "pygments_lexer": "ipython2",
   "version": "2.7.12"
  },
  "toc": {
   "nav_menu": {},
   "number_sections": true,
   "sideBar": true,
   "skip_h1_title": false,
   "toc_cell": false,
   "toc_position": {},
   "toc_section_display": "block",
   "toc_window_display": true
  }
 },
 "nbformat": 4,
 "nbformat_minor": 1
}
