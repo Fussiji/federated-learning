{
 "cells": [
  {
   "cell_type": "markdown",
   "metadata": {},
   "source": [
    "\n",
    "# Federated Learning"
   ]
  },
  {
   "cell_type": "markdown",
   "metadata": {},
   "source": [
    "## Frecency Sampling\n",
    "\n",
    "To be able to quickly prototype the Federated Learning algorithm, a dataset is required.\n",
    "This notebook is based on a fake frecency dataset that was designed to be very interpretable and at the same time close to the actual data.\n",
    "The assumption for the data generation is that the current frecency algorithm is perfect. By sampling based on this axiom, we can check if the algorithm really finds the global optimum."
   ]
  },
  {
   "cell_type": "code",
   "execution_count": 1,
   "metadata": {
    "ExecuteTime": {
     "end_time": "2018-06-27T23:04:53.991384Z",
     "start_time": "2018-06-27T23:04:53.367694Z"
    }
   },
   "outputs": [],
   "source": [
    "import numpy as np\n",
    "import matplotlib.pyplot as plt\n",
    "%matplotlib inline"
   ]
  },
  {
   "cell_type": "markdown",
   "metadata": {},
   "source": [
    "### Sampling the model input"
   ]
  },
  {
   "cell_type": "markdown",
   "metadata": {},
   "source": [
    "These are weights that describe how common certain features are. For `recency` we assume a uniform distribution over time, for `type` numbers were chosen that intuitively seem to be reasonable."
   ]
  },
  {
   "cell_type": "code",
   "execution_count": 2,
   "metadata": {
    "ExecuteTime": {
     "end_time": "2018-06-27T23:04:54.602851Z",
     "start_time": "2018-06-27T23:04:54.596872Z"
    }
   },
   "outputs": [],
   "source": [
    "type_weights = {\n",
    "    \"visited\": 0.6,\n",
    "    \"typed\": 0.2,\n",
    "    \"bookmarked\": 0.2,\n",
    "    #\"other_type\": 0.1\n",
    "}"
   ]
  },
  {
   "cell_type": "markdown",
   "metadata": {},
   "source": [
    "**Note:** Actually there's also a feature `other_type` which has a weight of `0` in the original frecency algorithm, i.e. it's not really used. If we use this feature for this training process, it adds noise to the model because the model has not enough data to learn that this feature does not really add value. "
   ]
  },
  {
   "cell_type": "code",
   "execution_count": 3,
   "metadata": {
    "ExecuteTime": {
     "end_time": "2018-06-27T23:04:55.469846Z",
     "start_time": "2018-06-27T23:04:55.463734Z"
    }
   },
   "outputs": [],
   "source": [
    "recency_weights = {\n",
    "    \"4-days\": 0.03,\n",
    "    \"14-days\": 0.05,\n",
    "    \"31-days\": 0.1,\n",
    "    \"90-days\": 0.32,\n",
    "    \"other_recency\": 0.5\n",
    "}"
   ]
  },
  {
   "cell_type": "code",
   "execution_count": 4,
   "metadata": {
    "ExecuteTime": {
     "end_time": "2018-06-27T23:04:55.826529Z",
     "start_time": "2018-06-27T23:04:55.821045Z"
    }
   },
   "outputs": [],
   "source": [
    "recency_weights = {\n",
    "    \"4-days\": 0.15,\n",
    "    \"14-days\": 0.15,\n",
    "    \"31-days\": 0.15,\n",
    "    \"90-days\": 0.2,\n",
    "    \"other_recency\": 0.35\n",
    "}"
   ]
  },
  {
   "cell_type": "markdown",
   "metadata": {},
   "source": [
    "For the simulation, it seems to be a fair assumption that `type` and `recency` are independent of each other.\n",
    "This means we can just multiply the probabilities.\n",
    "\n",
    "This is probably not completely true, since users likely visit bookmarks more often, but it makes things easier here and the probabilities are hard to estimate well anyways."
   ]
  },
  {
   "cell_type": "code",
   "execution_count": 5,
   "metadata": {
    "ExecuteTime": {
     "end_time": "2018-06-27T23:04:56.631444Z",
     "start_time": "2018-06-27T23:04:56.622306Z"
    }
   },
   "outputs": [],
   "source": [
    "def combine_dicts_multiplicatively(dict1, dict2):\n",
    "    \"\"\"\n",
    "    Returns a new dict where the keys consist of all pairs of keys from the input\n",
    "    dictionaries and the values correspond to the respective multiplied values.\n",
    "    \"\"\"\n",
    "    weights = {}\n",
    "\n",
    "    for key1, weight1 in dict1.items():\n",
    "        for key2, weight2 in dict2.items():\n",
    "            key = (key1, key2)\n",
    "            weight = weight1 * weight2\n",
    "            weights[key] = weight\n",
    "            \n",
    "    return weights"
   ]
  },
  {
   "cell_type": "code",
   "execution_count": 6,
   "metadata": {
    "ExecuteTime": {
     "end_time": "2018-06-27T23:04:57.008464Z",
     "start_time": "2018-06-27T23:04:57.003901Z"
    }
   },
   "outputs": [],
   "source": [
    "weights = combine_dicts_multiplicatively(type_weights, recency_weights)"
   ]
  },
  {
   "cell_type": "markdown",
   "metadata": {},
   "source": [
    "A one-hot representation makes it easier to implement the rest of the formulas. numpy allows us to generate this easily using a permutation of the identity matrix."
   ]
  },
  {
   "cell_type": "code",
   "execution_count": 7,
   "metadata": {
    "ExecuteTime": {
     "end_time": "2018-06-27T23:04:57.691721Z",
     "start_time": "2018-06-27T23:04:57.687097Z"
    }
   },
   "outputs": [],
   "source": [
    "def one_hot(num_choices, vector):\n",
    "    return np.eye(num_choices)[vector]"
   ]
  },
  {
   "cell_type": "markdown",
   "metadata": {},
   "source": [
    "The input vector to the model is 20-dimensional: One field for every combination of `type` and `recency`.\n",
    "In the frecency algorithm, we consider the last ten visits to the URL.\n",
    "Thus, the sum of all elements of the vector is a natural number between 1 and 10.\n",
    "\n",
    "(Since `other-type` is commented out, it's only 15-dimensional for now.)"
   ]
  },
  {
   "cell_type": "code",
   "execution_count": 8,
   "metadata": {
    "ExecuteTime": {
     "end_time": "2018-06-27T23:04:58.324366Z",
     "start_time": "2018-06-27T23:04:58.317565Z"
    }
   },
   "outputs": [],
   "source": [
    "def sample_weighted(num_samples, weight_dict):\n",
    "    \"\"\"Randomly sample from a dict using the values as probabilities\"\"\"\n",
    "    num_choices = len(weight_dict)\n",
    "    choice_weights = weight_dict.values()\n",
    "    samples = np.random.choice(num_choices, num_samples, p=choice_weights)\n",
    "    return one_hot(num_choices, samples)"
   ]
  },
  {
   "cell_type": "code",
   "execution_count": 9,
   "metadata": {
    "ExecuteTime": {
     "end_time": "2018-06-27T23:04:58.709402Z",
     "start_time": "2018-06-27T23:04:58.705262Z"
    }
   },
   "outputs": [],
   "source": [
    "def sample_url_features(num_samples):\n",
    "    return sample_weighted(num_samples, weights)"
   ]
  },
  {
   "cell_type": "markdown",
   "metadata": {},
   "source": [
    "### Sampling the target labels"
   ]
  },
  {
   "cell_type": "markdown",
   "metadata": {},
   "source": [
    "These are the weights found in the current frecency algorithm. Based on the one-hot encoding, this is just a linear function."
   ]
  },
  {
   "cell_type": "code",
   "execution_count": 10,
   "metadata": {
    "ExecuteTime": {
     "end_time": "2018-06-27T23:04:59.738724Z",
     "start_time": "2018-06-27T23:04:59.733337Z"
    }
   },
   "outputs": [],
   "source": [
    "type_points = {\n",
    "    \"visited\": 1.2,\n",
    "    \"typed\": 2,\n",
    "    \"bookmarked\": 1.4,\n",
    "    #\"other_type\": 0\n",
    "}"
   ]
  },
  {
   "cell_type": "code",
   "execution_count": 11,
   "metadata": {
    "ExecuteTime": {
     "end_time": "2018-06-27T23:05:00.194923Z",
     "start_time": "2018-06-27T23:05:00.189226Z"
    }
   },
   "outputs": [],
   "source": [
    "recency_points = {\n",
    "    \"4-days\": 100,\n",
    "    \"14-days\": 70,\n",
    "    \"31-days\": 50,\n",
    "    \"90-days\": 30,\n",
    "    \"other_recency\": 10\n",
    "}"
   ]
  },
  {
   "cell_type": "code",
   "execution_count": 12,
   "metadata": {
    "ExecuteTime": {
     "end_time": "2018-06-27T23:05:00.616682Z",
     "start_time": "2018-06-27T23:05:00.612524Z"
    }
   },
   "outputs": [],
   "source": [
    "frecency_points_dict = combine_dicts_multiplicatively(type_points, recency_points)"
   ]
  },
  {
   "cell_type": "markdown",
   "metadata": {},
   "source": [
    "To make sure that the order of keys is the same everywhere:"
   ]
  },
  {
   "cell_type": "code",
   "execution_count": 13,
   "metadata": {
    "ExecuteTime": {
     "end_time": "2018-06-27T23:05:01.402138Z",
     "start_time": "2018-06-27T23:05:01.397353Z"
    }
   },
   "outputs": [],
   "source": [
    "key_order = weights.keys()\n",
    "frecency_points = np.array([frecency_points_dict[key] for key in key_order])"
   ]
  },
  {
   "cell_type": "markdown",
   "metadata": {},
   "source": [
    "This gives us the frecency points from the original algorithm:"
   ]
  },
  {
   "cell_type": "code",
   "execution_count": 14,
   "metadata": {
    "ExecuteTime": {
     "end_time": "2018-06-27T23:05:02.228196Z",
     "start_time": "2018-06-27T23:05:02.217946Z"
    }
   },
   "outputs": [
    {
     "data": {
      "text/plain": [
       "[(('visited', '4-days'), 120.0),\n",
       " (('visited', '90-days'), 36.0),\n",
       " (('bookmarked', '14-days'), 98.0),\n",
       " (('bookmarked', 'other_recency'), 14.0),\n",
       " (('typed', 'other_recency'), 20.0),\n",
       " (('typed', '31-days'), 100.0),\n",
       " (('typed', '14-days'), 140.0),\n",
       " (('bookmarked', '31-days'), 70.0),\n",
       " (('typed', '4-days'), 200.0),\n",
       " (('bookmarked', '90-days'), 42.0),\n",
       " (('visited', '31-days'), 60.0),\n",
       " (('bookmarked', '4-days'), 140.0),\n",
       " (('visited', 'other_recency'), 12.0),\n",
       " (('typed', '90-days'), 60.0),\n",
       " (('visited', '14-days'), 84.0)]"
      ]
     },
     "execution_count": 14,
     "metadata": {},
     "output_type": "execute_result"
    }
   ],
   "source": [
    "zip(key_order, frecency_points)"
   ]
  },
  {
   "cell_type": "markdown",
   "metadata": {},
   "source": [
    "After all these preparations, an arbitrary number of frecency scores can be computed using a single matrix multiplication."
   ]
  },
  {
   "cell_type": "code",
   "execution_count": 15,
   "metadata": {
    "ExecuteTime": {
     "end_time": "2018-06-27T23:05:02.931800Z",
     "start_time": "2018-06-27T23:05:02.926556Z"
    }
   },
   "outputs": [],
   "source": [
    "def frecency(url_features):\n",
    "    return url_features.dot(frecency_points)"
   ]
  },
  {
   "cell_type": "markdown",
   "metadata": {},
   "source": [
    "Finally, we are sampling from the above distributions and then call the frecency function."
   ]
  },
  {
   "cell_type": "code",
   "execution_count": 16,
   "metadata": {
    "ExecuteTime": {
     "end_time": "2018-06-27T23:05:03.607708Z",
     "start_time": "2018-06-27T23:05:03.602199Z"
    }
   },
   "outputs": [],
   "source": [
    "def sample(num_samples):\n",
    "    X = sample_url_features(num_samples)\n",
    "    y = frecency(X)\n",
    "    return X, y"
   ]
  },
  {
   "cell_type": "markdown",
   "metadata": {},
   "source": [
    "## Linear Regression\n",
    "\n",
    "This section is mostly to check that's it possible to fit a linear model perfectly to the data."
   ]
  },
  {
   "cell_type": "code",
   "execution_count": 17,
   "metadata": {
    "ExecuteTime": {
     "end_time": "2018-06-27T23:05:04.622318Z",
     "start_time": "2018-06-27T23:05:04.253716Z"
    }
   },
   "outputs": [],
   "source": [
    "from sklearn.linear_model import LinearRegression"
   ]
  },
  {
   "cell_type": "markdown",
   "metadata": {},
   "source": [
    "To fit a model, we sample a lot of these scores and also add noise on top to make the problem more similar to the real application."
   ]
  },
  {
   "cell_type": "code",
   "execution_count": 18,
   "metadata": {
    "ExecuteTime": {
     "end_time": "2018-06-27T23:05:05.384249Z",
     "start_time": "2018-06-27T23:05:05.082259Z"
    }
   },
   "outputs": [],
   "source": [
    "n = int(1e6)\n",
    "noise = np.random.normal(0, 2, size=(n))\n",
    "X, y = sample(n)\n",
    "y += noise"
   ]
  },
  {
   "cell_type": "code",
   "execution_count": 19,
   "metadata": {
    "ExecuteTime": {
     "end_time": "2018-06-27T23:05:05.472424Z",
     "start_time": "2018-06-27T23:05:05.468651Z"
    }
   },
   "outputs": [],
   "source": [
    "model = LinearRegression(fit_intercept=False)"
   ]
  },
  {
   "cell_type": "code",
   "execution_count": 20,
   "metadata": {
    "ExecuteTime": {
     "end_time": "2018-06-27T23:05:06.720841Z",
     "start_time": "2018-06-27T23:05:05.928148Z"
    }
   },
   "outputs": [
    {
     "data": {
      "text/plain": [
       "LinearRegression(copy_X=True, fit_intercept=False, n_jobs=1, normalize=False)"
      ]
     },
     "execution_count": 20,
     "metadata": {},
     "output_type": "execute_result"
    }
   ],
   "source": [
    "model.fit(X, y)"
   ]
  },
  {
   "cell_type": "markdown",
   "metadata": {},
   "source": [
    "The resulting coefficients are extremely close to the actual frecency weights. How close they are depends on how much noise we add to the data matrix."
   ]
  },
  {
   "cell_type": "code",
   "execution_count": 21,
   "metadata": {
    "ExecuteTime": {
     "end_time": "2018-06-27T23:05:07.367034Z",
     "start_time": "2018-06-27T23:05:07.358562Z"
    }
   },
   "outputs": [
    {
     "data": {
      "text/plain": [
       "[(119.99450275611275, 120.0),\n",
       " (36.00187452493747, 36.0),\n",
       " (98.017105541760188, 98.0),\n",
       " (13.997506622028792, 14.0),\n",
       " (19.999439513115139, 20.0),\n",
       " (100.01865303804851, 100.0),\n",
       " (139.99518259212479, 140.0),\n",
       " (70.004515720659469, 70.0),\n",
       " (200.00212307654931, 200.0),\n",
       " (41.997327683992573, 42.0),\n",
       " (59.998677212946042, 60.0),\n",
       " (139.99974359074812, 140.0),\n",
       " (12.002342390198455, 12.0),\n",
       " (60.008748077759869, 60.0),\n",
       " (84.007699562653812, 84.0)]"
      ]
     },
     "execution_count": 21,
     "metadata": {},
     "output_type": "execute_result"
    }
   ],
   "source": [
    "zip(model.coef_, frecency_points)"
   ]
  },
  {
   "cell_type": "code",
   "execution_count": 22,
   "metadata": {
    "ExecuteTime": {
     "end_time": "2018-06-27T23:05:07.836269Z",
     "start_time": "2018-06-27T23:05:07.828917Z"
    }
   },
   "outputs": [
    {
     "data": {
      "text/plain": [
       "array([-0.00549724,  0.00187452,  0.01710554, -0.00249338, -0.00056049,\n",
       "        0.01865304, -0.00481741,  0.00451572,  0.00212308, -0.00267232,\n",
       "       -0.00132279, -0.00025641,  0.00234239,  0.00874808,  0.00769956])"
      ]
     },
     "execution_count": 22,
     "metadata": {},
     "output_type": "execute_result"
    }
   ],
   "source": [
    "model.coef_ - frecency_points"
   ]
  },
  {
   "cell_type": "markdown",
   "metadata": {},
   "source": [
    "## Ranking\n",
    "\n",
    "Now, we make the problem slightly more difficult: Instead of just learning the frecency function from data, we try to learn it from user interactions. The training data now consists of a variable number of history suggestions and their respective features. The label corresponds to the suggestion that the user clicked on. We still assume that the user clicks on the item with the highest frecency score."
   ]
  },
  {
   "cell_type": "code",
   "execution_count": 23,
   "metadata": {
    "ExecuteTime": {
     "end_time": "2018-06-27T23:05:08.812857Z",
     "start_time": "2018-06-27T23:05:08.808960Z"
    }
   },
   "outputs": [],
   "source": [
    "n = 400"
   ]
  },
  {
   "cell_type": "markdown",
   "metadata": {},
   "source": [
    "How many suggestions match the search query is sampled from a normal distribution centered around `10`."
   ]
  },
  {
   "cell_type": "code",
   "execution_count": 24,
   "metadata": {
    "ExecuteTime": {
     "end_time": "2018-06-27T23:05:09.483037Z",
     "start_time": "2018-06-27T23:05:09.477429Z"
    }
   },
   "outputs": [],
   "source": [
    "num_options = np.random.normal(loc=10, scale=4, size=(n))\n",
    "num_options = np.maximum(num_options, 1)\n",
    "num_options = np.int32(num_options)"
   ]
  },
  {
   "cell_type": "code",
   "execution_count": 25,
   "metadata": {
    "ExecuteTime": {
     "end_time": "2018-06-27T23:05:10.094885Z",
     "start_time": "2018-06-27T23:05:09.872459Z"
    },
    "scrolled": false
   },
   "outputs": [
    {
     "data": {
      "text/plain": [
       "<matplotlib.text.Text at 0x7f76e4db9f90>"
      ]
     },
     "execution_count": 25,
     "metadata": {},
     "output_type": "execute_result"
    },
    {
     "data": {
      "image/png": "[encoded data removed]",
      "text/plain": [
       "<matplotlib.figure.Figure at 0x7f76e5799fd0>"
      ]
     },
     "metadata": {},
     "output_type": "display_data"
    }
   ],
   "source": [
    "plt.hist(num_options)\n",
    "plt.xlabel(\"number of matches\")\n",
    "plt.ylabel(\"count\")"
   ]
  },
  {
   "cell_type": "code",
   "execution_count": 26,
   "metadata": {
    "ExecuteTime": {
     "end_time": "2018-06-27T23:05:10.568825Z",
     "start_time": "2018-06-27T23:05:10.562993Z"
    }
   },
   "outputs": [],
   "source": [
    "def sample_num_options(n):\n",
    "    num_options = np.random.normal(loc=10, scale=4, size=(n))\n",
    "    num_options = np.maximum(num_options, 1)\n",
    "    return np.int32(num_options)"
   ]
  },
  {
   "cell_type": "code",
   "execution_count": 27,
   "metadata": {
    "ExecuteTime": {
     "end_time": "2018-06-27T23:05:10.816242Z",
     "start_time": "2018-06-27T23:05:10.810369Z"
    }
   },
   "outputs": [],
   "source": [
    "def sample_suggestions_normal(n):\n",
    "    num_options = sample_num_options(n)\n",
    "    data = map(sample, num_options)\n",
    "    X, y = zip(*data)\n",
    "    return X, y"
   ]
  },
  {
   "cell_type": "code",
   "execution_count": 28,
   "metadata": {
    "ExecuteTime": {
     "end_time": "2018-06-27T23:05:12.840334Z",
     "start_time": "2018-06-27T23:05:12.833971Z"
    }
   },
   "outputs": [],
   "source": [
    "def sample_suggestions_spark(n):\n",
    "    num_options = sample_num_options(n)    \n",
    "    data = sc.parallelize(num_options).map(sample).collect()\n",
    "    X, y = zip(*data)\n",
    "    return X, y"
   ]
  },
  {
   "cell_type": "code",
   "execution_count": 29,
   "metadata": {
    "ExecuteTime": {
     "end_time": "2018-06-27T23:05:13.377650Z",
     "start_time": "2018-06-27T23:05:13.372140Z"
    }
   },
   "outputs": [],
   "source": [
    "def sample_suggestions(n):\n",
    "    if n > 1000:\n",
    "        return sample_suggestions_spark(n)\n",
    "    else:\n",
    "        return sample_suggestions_normal(n)"
   ]
  },
  {
   "cell_type": "markdown",
   "metadata": {},
   "source": [
    "## SVM Ranking\n",
    "\n",
    "After preparing the training data, we can try to use the adapted SVM loss (also called [hinge loss](https://en.wikipedia.org/wiki/Hinge_loss)) for ranking."
   ]
  },
  {
   "cell_type": "markdown",
   "metadata": {},
   "source": [
    "### Preprocessing"
   ]
  },
  {
   "cell_type": "code",
   "execution_count": 30,
   "metadata": {
    "ExecuteTime": {
     "end_time": "2018-06-27T23:05:15.345145Z",
     "start_time": "2018-06-27T23:05:15.245061Z"
    }
   },
   "outputs": [],
   "source": [
    "n = int(1e3)\n",
    "X, y = sample_suggestions(n)"
   ]
  },
  {
   "cell_type": "markdown",
   "metadata": {},
   "source": [
    "Gradient descent generally works better when the data is centered around the origin:"
   ]
  },
  {
   "cell_type": "code",
   "execution_count": 31,
   "metadata": {
    "ExecuteTime": {
     "end_time": "2018-06-27T23:05:16.143636Z",
     "start_time": "2018-06-27T23:05:16.137393Z"
    }
   },
   "outputs": [],
   "source": [
    "def flatten(X):\n",
    "    X_flat = []\n",
    "\n",
    "    for x in X:\n",
    "        X_flat += list(x)\n",
    "\n",
    "    return np.array(X_flat)"
   ]
  },
  {
   "cell_type": "code",
   "execution_count": 32,
   "metadata": {
    "ExecuteTime": {
     "end_time": "2018-06-27T23:05:16.880027Z",
     "start_time": "2018-06-27T23:05:16.874732Z"
    }
   },
   "outputs": [],
   "source": [
    "def normalize(X):\n",
    "    X_flat = flatten(X)\n",
    "    mu = X_flat.mean(axis=0)\n",
    "    return [x - mu for x in X]"
   ]
  },
  {
   "cell_type": "code",
   "execution_count": 33,
   "metadata": {
    "ExecuteTime": {
     "end_time": "2018-06-27T23:05:17.335210Z",
     "start_time": "2018-06-27T23:05:17.319531Z"
    }
   },
   "outputs": [],
   "source": [
    "X = normalize(X)"
   ]
  },
  {
   "cell_type": "markdown",
   "metadata": {},
   "source": [
    "### Optimizers"
   ]
  },
  {
   "cell_type": "markdown",
   "metadata": {},
   "source": [
    "The optimizer we use is fairly simple: It scales the gradient with a learning rate before adding it to the model.\n",
    "This abstraction as a class is still nice because we can later replace it with more sophisticated optimizers."
   ]
  },
  {
   "cell_type": "code",
   "execution_count": 34,
   "metadata": {
    "ExecuteTime": {
     "end_time": "2018-06-27T23:05:18.555072Z",
     "start_time": "2018-06-27T23:05:18.548794Z"
    }
   },
   "outputs": [],
   "source": [
    "class GradientDescent:\n",
    "    def __init__(self, learning_rate):\n",
    "        self.learning_rate = learning_rate\n",
    "        \n",
    "    def __call__(self, gradient):\n",
    "        return self.learning_rate * gradient"
   ]
  },
  {
   "cell_type": "code",
   "execution_count": 35,
   "metadata": {
    "ExecuteTime": {
     "end_time": "2018-06-27T23:05:19.336229Z",
     "start_time": "2018-06-27T23:05:19.317056Z"
    }
   },
   "outputs": [],
   "source": [
    "class AdaptiveGradientDescent:\n",
    "    def __init__(self, learning_rate, num_features):\n",
    "        self.learning_rates = np.full(num_features, learning_rate)\n",
    "        self.min = 0.0000001\n",
    "        self.max = 50\n",
    "        self.a = 1.2\n",
    "        self.b = 0.5\n",
    "        \n",
    "        self.t = 0\n",
    "        self.last_gradient = None\n",
    "    \n",
    "    def __call__(self, gradient):\n",
    "        if self.t >= 1:\n",
    "            for i in range(len(gradient)):\n",
    "                if gradient[i] * self.last_gradient[i] > 0:\n",
    "                    self.learning_rates[i] = min(self.learning_rates[i] * self.a, self.max)\n",
    "                elif gradient[i] * self.last_gradient[i] < 0:\n",
    "                    self.learning_rates[i] = max(self.learning_rates[i] * self.b, self.min)\n",
    "            \n",
    "        self.t += 1\n",
    "        self.last_gradient = gradient\n",
    "        \n",
    "        return self.learning_rates * gradient"
   ]
  },
  {
   "cell_type": "code",
   "execution_count": null,
   "metadata": {
    "ExecuteTime": {
     "end_time": "2018-05-24T22:22:49.764693Z",
     "start_time": "2018-05-24T22:20:36.311Z"
    }
   },
   "outputs": [],
   "source": [
    "class DecayedGradientDescent:\n",
    "    def __init__(self, learning_rate, decay):\n",
    "        self.learning_rate = learning_rate\n",
    "        self.decay = decay\n",
    "        self.epoch = 0\n",
    "        \n",
    "    def __call__(self, gradient):\n",
    "        result = self.learning_rate * gradient\n",
    "        \n",
    "        self.learning_rate = self.learning_rate * 1 / (1 + self.decay * self.epoch)\n",
    "        self.epoch += 1\n",
    "            \n",
    "        return result"
   ]
  },
  {
   "cell_type": "code",
   "execution_count": 36,
   "metadata": {
    "ExecuteTime": {
     "end_time": "2018-06-27T23:05:19.912729Z",
     "start_time": "2018-06-27T23:05:19.894283Z"
    }
   },
   "outputs": [],
   "source": [
    "class RProp:\n",
    "    def __init__(self, learning_rate, num_features):\n",
    "        self.learning_rates = np.full(num_features, learning_rate)\n",
    "        self.min = 0.0000001\n",
    "        self.max = 50\n",
    "        self.a = 1.2\n",
    "        self.b = 0.5\n",
    "        \n",
    "        self.t = 0\n",
    "        self.last_gradient = None\n",
    "    \n",
    "    def __call__(self, gradient):\n",
    "        if self.t >= 1:\n",
    "            for i in range(len(gradient)):\n",
    "                if gradient[i] * self.last_gradient[i] > 0:\n",
    "                    self.learning_rates[i] = min(self.learning_rates[i] * self.a, self.max)\n",
    "                elif gradient[i] * self.last_gradient[i] < 0:\n",
    "                    self.learning_rates[i] = max(self.learning_rates[i] * self.b, self.min)\n",
    "            \n",
    "        self.t += 1\n",
    "        self.last_gradient = gradient\n",
    "        \n",
    "        return self.learning_rates * np.sign(gradient)"
   ]
  },
  {
   "cell_type": "code",
   "execution_count": 37,
   "metadata": {
    "ExecuteTime": {
     "end_time": "2018-06-27T23:05:20.577520Z",
     "start_time": "2018-06-27T23:05:20.553531Z"
    }
   },
   "outputs": [],
   "source": [
    "class Adam:\n",
    "    def __init__(self, learning_rate):\n",
    "        self.learning_rate = learning_rate\n",
    "        self.beta1 = 0.9\n",
    "        self.beta2 = 0.999\n",
    "        self.alpha = 0.01\n",
    "        self.eps = 1e-8\n",
    "        \n",
    "        self.t = 0\n",
    "        \n",
    "        self.m = None\n",
    "        self.v = None\n",
    "        self.theta = None\n",
    "    \n",
    "    def __call__(self, gradient):\n",
    "        if self.t == 0:\n",
    "            self.m = np.zeros(gradient.shape)\n",
    "            self.v = np.zeros(gradient.shape)\n",
    "            self.theta = np.zeros(gradient.shape)\n",
    "        \n",
    "        self.t += 1\n",
    "        \n",
    "        self.m = self.beta1 * self.m + (1 - self.beta1) * gradient\n",
    "        self.v = self.beta2 * self.v + (1 - self.beta2) * gradient**2\n",
    "        \n",
    "        m_corrected = self.m / (1 - self.beta1**self.t)\n",
    "        v_corrected = self.v / (1 - self.beta2**self.t)\n",
    "\n",
    "        self.theta += self.alpha * m_corrected / (np.sqrt(v_corrected) + self.eps)\n",
    "        \n",
    "        return self.learning_rate * self.theta"
   ]
  },
  {
   "cell_type": "markdown",
   "metadata": {},
   "source": [
    "### Hinge Loss (SVM loss)"
   ]
  },
  {
   "cell_type": "markdown",
   "metadata": {},
   "source": [
    "To supervise training, we keep logging the loss:"
   ]
  },
  {
   "cell_type": "code",
   "execution_count": 38,
   "metadata": {
    "ExecuteTime": {
     "end_time": "2018-06-27T23:05:21.569239Z",
     "start_time": "2018-06-27T23:05:21.561261Z"
    }
   },
   "outputs": [],
   "source": [
    "def svm_loss(preds, ys, delta=0):\n",
    "    correct = ys.argmax()\n",
    "    score_correct = preds[correct]\n",
    "    \n",
    "    loss = 0\n",
    "    \n",
    "    for i, pred in enumerate(preds):\n",
    "        loss += max(0, pred + delta - score_correct)            \n",
    "            \n",
    "    return loss"
   ]
  },
  {
   "cell_type": "markdown",
   "metadata": {},
   "source": [
    "### Helpers"
   ]
  },
  {
   "cell_type": "markdown",
   "metadata": {},
   "source": [
    "During training, we want to supervise the learning process and save the best models."
   ]
  },
  {
   "cell_type": "code",
   "execution_count": 39,
   "metadata": {
    "ExecuteTime": {
     "end_time": "2018-06-27T23:05:22.314346Z",
     "start_time": "2018-06-27T23:05:22.300989Z"
    }
   },
   "outputs": [],
   "source": [
    "class ModelCheckpoint:\n",
    "    def __init__(self, metric_fn, num_sampled=10000):\n",
    "        self.best_model = None\n",
    "        self.best_metric = -np.inf\n",
    "        self.metric_fn = metric_fn\n",
    "        self.num_sampled = num_sampled\n",
    "    \n",
    "    def __call__(self, model):\n",
    "        X_val, y_val = sample_suggestions(self.num_sampled)\n",
    "        metric = self.metric_fn(y_val, model.predict(X_val))\n",
    "        \n",
    "        if metric > self.best_metric:\n",
    "            self.best_metric = metric\n",
    "            self.best_model = model\n",
    "            print(\"[ModelCheckpoint] New best model with %.5f validation accuracy\" % metric)\n",
    "        else:\n",
    "            print(\"validation: %.3f accuracy\" % metric)"
   ]
  },
  {
   "cell_type": "markdown",
   "metadata": {},
   "source": [
    "accuracy needs to be measured carefully here: In our simulation, we assume that the current frecency is the perfect ranking function. But because items sometimes get the same frecency scores, there can be more than one correct answer:"
   ]
  },
  {
   "cell_type": "code",
   "execution_count": 40,
   "metadata": {
    "ExecuteTime": {
     "end_time": "2018-06-27T23:05:23.048208Z",
     "start_time": "2018-06-27T23:05:23.040924Z"
    }
   },
   "outputs": [],
   "source": [
    "def rank_accuracy(y, preds):\n",
    "    correct = 0.\n",
    "    \n",
    "    for yi, pi in zip(y, preds):\n",
    "        if yi[pi.argmax()] == yi.max():\n",
    "            correct += 1\n",
    "            \n",
    "    return correct / len(y)"
   ]
  },
  {
   "cell_type": "markdown",
   "metadata": {},
   "source": [
    "The `SVMRanking` class is the main mechanism for fitting models."
   ]
  },
  {
   "cell_type": "code",
   "execution_count": 41,
   "metadata": {
    "ExecuteTime": {
     "end_time": "2018-06-27T23:05:23.787432Z",
     "start_time": "2018-06-27T23:05:23.752446Z"
    }
   },
   "outputs": [],
   "source": [
    "class SVMRanking:\n",
    "    def __init__(self, delta):\n",
    "        self.delta = delta\n",
    "        \n",
    "    def fit(self, data_generator, optimizer, num_iterations=10, callbacks=[]):\n",
    "        X, y = data_generator(1)\n",
    "        num_features = X[0].shape[1]\n",
    "        self.W = frecency_points + (np.random.random(size=(num_features)) - 0.5) * 100\n",
    "        \n",
    "        for j in range(num_iterations):\n",
    "            X, y = data_generator(4000)\n",
    "            \n",
    "            preds = self.predict(X)\n",
    "            gradient = np.zeros(num_features)\n",
    "\n",
    "            for xi, pi, yi in zip(X, preds, y):\n",
    "                correct = yi.argmax()\n",
    "                score_correct = pi[correct]\n",
    "\n",
    "                for i, predicted_score in enumerate(pi):\n",
    "                    gradient -= xi[i] * max(0, predicted_score + self.delta - score_correct)\n",
    "            \n",
    "            gradient /= len(X)\n",
    "            \n",
    "            loss = np.mean([svm_loss(pi, yi) for pi, yi in zip(self.predict(X), y)])\n",
    "            accuracy = rank_accuracy(y, model.predict(X))\n",
    "            \n",
    "            print(\"[%d/%d] training: %.5f loss, %.3f accuracy\" % (j + 1, num_iterations, loss, accuracy))\n",
    "            \n",
    "            for callback in callbacks:\n",
    "                callback(self)\n",
    "            \n",
    "            self.W += optimizer(gradient)\n",
    "            \n",
    "    def predict(self, X):\n",
    "        preds = []\n",
    "        \n",
    "        for x in X:\n",
    "            scores = x.dot(self.W)\n",
    "            preds.append(scores)\n",
    "        \n",
    "        return preds"
   ]
  },
  {
   "cell_type": "code",
   "execution_count": 42,
   "metadata": {
    "ExecuteTime": {
     "end_time": "2018-06-27T23:05:24.173107Z",
     "start_time": "2018-06-27T23:05:24.168334Z"
    }
   },
   "outputs": [],
   "source": [
    "sc.cancelAllJobs()"
   ]
  },
  {
   "cell_type": "code",
   "execution_count": 43,
   "metadata": {
    "ExecuteTime": {
     "end_time": "2018-06-27T23:06:20.895532Z",
     "start_time": "2018-06-27T23:05:24.520185Z"
    },
    "scrolled": false
   },
   "outputs": [
    {
     "name": "stdout",
     "output_type": "stream",
     "text": [
      "[1/48] training: 16.98308 loss, 0.688 accuracy\n",
      "[ModelCheckpoint] New best model with 0.69900 validation accuracy\n",
      "[2/48] training: 4.57216 loss, 0.857 accuracy\n",
      "[ModelCheckpoint] New best model with 0.82330 validation accuracy\n",
      "[3/48] training: 2.79524 loss, 0.947 accuracy\n",
      "[ModelCheckpoint] New best model with 0.92540 validation accuracy\n",
      "[4/48] training: 2.90015 loss, 0.941 accuracy\n",
      "[ModelCheckpoint] New best model with 0.94260 validation accuracy\n",
      "[5/48] training: 2.01631 loss, 0.944 accuracy\n",
      "validation: 0.942 accuracy\n",
      "[6/48] training: 2.14834 loss, 0.936 accuracy\n",
      "[ModelCheckpoint] New best model with 0.94760 validation accuracy\n",
      "[7/48] training: 2.30280 loss, 0.933 accuracy\n",
      "validation: 0.939 accuracy\n",
      "[8/48] training: 1.34292 loss, 0.954 accuracy\n",
      "validation: 0.942 accuracy\n",
      "[9/48] training: 1.43061 loss, 0.941 accuracy\n",
      "validation: 0.943 accuracy\n",
      "[10/48] training: 1.29684 loss, 0.950 accuracy\n",
      "validation: 0.940 accuracy\n",
      "[11/48] training: 1.41823 loss, 0.944 accuracy\n",
      "[ModelCheckpoint] New best model with 0.95160 validation accuracy\n",
      "[12/48] training: 1.04449 loss, 0.949 accuracy\n",
      "[ModelCheckpoint] New best model with 0.95830 validation accuracy\n",
      "[13/48] training: 1.03664 loss, 0.943 accuracy\n",
      "validation: 0.950 accuracy\n",
      "[14/48] training: 1.00894 loss, 0.952 accuracy\n",
      "validation: 0.946 accuracy\n",
      "[15/48] training: 0.87711 loss, 0.951 accuracy\n",
      "validation: 0.953 accuracy\n",
      "[16/48] training: 0.76070 loss, 0.959 accuracy\n",
      "validation: 0.951 accuracy\n",
      "[17/48] training: 1.01407 loss, 0.941 accuracy\n",
      "validation: 0.952 accuracy\n",
      "[18/48] training: 0.56162 loss, 0.952 accuracy\n",
      "validation: 0.954 accuracy\n",
      "[19/48] training: 0.46108 loss, 0.958 accuracy\n",
      "validation: 0.949 accuracy\n",
      "[20/48] training: 0.52120 loss, 0.956 accuracy\n",
      "validation: 0.955 accuracy\n",
      "[21/48] training: 0.43030 loss, 0.951 accuracy\n",
      "validation: 0.954 accuracy\n",
      "[22/48] training: 0.42244 loss, 0.952 accuracy\n",
      "[ModelCheckpoint] New best model with 0.95910 validation accuracy\n",
      "[23/48] training: 0.41654 loss, 0.957 accuracy\n",
      "[ModelCheckpoint] New best model with 0.96070 validation accuracy\n",
      "[24/48] training: 0.48611 loss, 0.959 accuracy\n",
      "validation: 0.959 accuracy\n",
      "[25/48] training: 0.30972 loss, 0.965 accuracy\n",
      "validation: 0.952 accuracy\n",
      "[26/48] training: 0.42625 loss, 0.956 accuracy\n",
      "[ModelCheckpoint] New best model with 0.96130 validation accuracy\n",
      "[27/48] training: 0.39848 loss, 0.958 accuracy\n",
      "validation: 0.957 accuracy\n",
      "[28/48] training: 0.26810 loss, 0.955 accuracy\n",
      "validation: 0.951 accuracy\n",
      "[29/48] training: 0.37086 loss, 0.946 accuracy\n",
      "validation: 0.952 accuracy\n",
      "[30/48] training: 0.41172 loss, 0.952 accuracy\n",
      "validation: 0.956 accuracy\n",
      "[31/48] training: 0.32189 loss, 0.949 accuracy\n",
      "validation: 0.952 accuracy\n",
      "[32/48] training: 0.31921 loss, 0.951 accuracy\n",
      "validation: 0.949 accuracy\n",
      "[33/48] training: 0.49757 loss, 0.951 accuracy\n",
      "validation: 0.949 accuracy\n",
      "[34/48] training: 0.24398 loss, 0.954 accuracy\n",
      "validation: 0.948 accuracy\n",
      "[35/48] training: 0.29974 loss, 0.955 accuracy\n",
      "validation: 0.950 accuracy\n",
      "[36/48] training: 0.29375 loss, 0.950 accuracy\n",
      "validation: 0.949 accuracy\n",
      "[37/48] training: 0.29905 loss, 0.948 accuracy\n",
      "validation: 0.953 accuracy\n",
      "[38/48] training: 0.22184 loss, 0.962 accuracy\n",
      "validation: 0.950 accuracy\n",
      "[39/48] training: 0.34377 loss, 0.949 accuracy\n",
      "validation: 0.957 accuracy\n",
      "[40/48] training: 0.14915 loss, 0.956 accuracy\n",
      "validation: 0.956 accuracy\n",
      "[41/48] training: 0.14109 loss, 0.953 accuracy\n",
      "validation: 0.953 accuracy\n",
      "[42/48] training: 0.16126 loss, 0.949 accuracy\n",
      "validation: 0.952 accuracy\n",
      "[43/48] training: 0.17824 loss, 0.955 accuracy\n",
      "validation: 0.952 accuracy\n",
      "[44/48] training: 0.12180 loss, 0.957 accuracy\n",
      "validation: 0.949 accuracy\n",
      "[45/48] training: 0.17479 loss, 0.945 accuracy\n",
      "validation: 0.946 accuracy\n",
      "[46/48] training: 0.23576 loss, 0.941 accuracy\n",
      "validation: 0.955 accuracy\n",
      "[47/48] training: 0.15302 loss, 0.947 accuracy\n",
      "validation: 0.937 accuracy\n",
      "[48/48] training: 0.27985 loss, 0.944 accuracy\n",
      "validation: 0.946 accuracy\n"
     ]
    }
   ],
   "source": [
    "np.random.seed(0)\n",
    "model = SVMRanking(delta=0.)\n",
    "model.fit(data_generator=sample_suggestions,\n",
    "          optimizer=GradientDescent(5.),\n",
    "          num_iterations=48,\n",
    "          callbacks=[ModelCheckpoint(rank_accuracy)])"
   ]
  },
  {
   "cell_type": "code",
   "execution_count": 44,
   "metadata": {
    "ExecuteTime": {
     "end_time": "2018-06-27T23:06:20.902783Z",
     "start_time": "2018-06-27T23:06:20.898523Z"
    }
   },
   "outputs": [],
   "source": [
    "sc.cancelAllJobs()"
   ]
  },
  {
   "cell_type": "code",
   "execution_count": 45,
   "metadata": {
    "ExecuteTime": {
     "end_time": "2018-06-27T23:06:21.127994Z",
     "start_time": "2018-06-27T23:06:20.905135Z"
    }
   },
   "outputs": [
    {
     "ename": "NameError",
     "evalue": "name 'opt' is not defined",
     "output_type": "error",
     "traceback": [
      "\u001b[0;31m\u001b[0m",
      "\u001b[0;31mNameError\u001b[0mTraceback (most recent call last)",
      "\u001b[0;32m<ipython-input-45-90b34a88a3c6>\u001b[0m in \u001b[0;36m<module>\u001b[0;34m()\u001b[0m\n\u001b[0;32m----> 1\u001b[0;31m \u001b[0mopt\u001b[0m\u001b[0;34m.\u001b[0m\u001b[0mlearning_rates\u001b[0m\u001b[0;34m\u001b[0m\u001b[0m\n\u001b[0m",
      "\u001b[0;31mNameError\u001b[0m: name 'opt' is not defined"
     ]
    }
   ],
   "source": [
    "opt.learning_rates"
   ]
  },
  {
   "cell_type": "code",
   "execution_count": 172,
   "metadata": {
    "ExecuteTime": {
     "end_time": "2018-05-29T21:47:35.395570Z",
     "start_time": "2018-05-29T21:46:49.525678Z"
    },
    "scrolled": false
   },
   "outputs": [
    {
     "name": "stdout",
     "output_type": "stream",
     "text": [
      "[1/48] training: 14.53182 loss, 0.704 accuracy\n",
      "[ModelCheckpoint] New best model with 0.70440 validation accuracy\n",
      "[2/48] training: 13.82159 loss, 0.711 accuracy\n",
      "[ModelCheckpoint] New best model with 0.71590 validation accuracy\n",
      "[3/48] training: 12.81232 loss, 0.725 accuracy\n",
      "validation: 0.707 accuracy\n",
      "[4/48] training: 13.40554 loss, 0.699 accuracy\n",
      "validation: 0.694 accuracy\n",
      "[5/48] training: 13.91462 loss, 0.814 accuracy\n",
      "[ModelCheckpoint] New best model with 0.80910 validation accuracy\n",
      "[6/48] training: 14.09351 loss, 0.798 accuracy\n",
      "validation: 0.802 accuracy\n",
      "[7/48] training: 13.62969 loss, 0.802 accuracy\n",
      "validation: 0.804 accuracy\n",
      "[8/48] training: 13.10961 loss, 0.807 accuracy\n",
      "validation: 0.803 accuracy\n",
      "[9/48] training: 12.91363 loss, 0.805 accuracy\n",
      "validation: 0.799 accuracy\n",
      "[10/48] training: 11.21521 loss, 0.806 accuracy\n",
      "validation: 0.797 accuracy\n",
      "[11/48] training: 11.19392 loss, 0.794 accuracy\n",
      "[ModelCheckpoint] New best model with 0.81470 validation accuracy\n",
      "[12/48] training: 9.33306 loss, 0.818 accuracy\n",
      "[ModelCheckpoint] New best model with 0.81700 validation accuracy\n",
      "[13/48] training: 8.78348 loss, 0.813 accuracy\n",
      "[ModelCheckpoint] New best model with 0.81800 validation accuracy\n",
      "[14/48] training: 7.72257 loss, 0.824 accuracy\n",
      "validation: 0.808 accuracy\n",
      "[15/48] training: 6.74545 loss, 0.812 accuracy\n",
      "validation: 0.809 accuracy\n",
      "[16/48] training: 6.37328 loss, 0.802 accuracy\n",
      "validation: 0.814 accuracy\n",
      "[17/48] training: 5.92561 loss, 0.816 accuracy\n",
      "[ModelCheckpoint] New best model with 0.82540 validation accuracy\n",
      "[18/48] training: 4.23934 loss, 0.836 accuracy\n",
      "[ModelCheckpoint] New best model with 0.83680 validation accuracy\n",
      "[19/48] training: 3.87281 loss, 0.834 accuracy\n",
      "validation: 0.829 accuracy\n",
      "[20/48] training: 3.20311 loss, 0.849 accuracy\n",
      "[ModelCheckpoint] New best model with 0.83790 validation accuracy\n",
      "[21/48] training: 2.98336 loss, 0.848 accuracy\n",
      "[ModelCheckpoint] New best model with 0.83900 validation accuracy\n",
      "[22/48] training: 2.61798 loss, 0.849 accuracy\n",
      "validation: 0.838 accuracy\n",
      "[23/48] training: 1.82567 loss, 0.847 accuracy\n",
      "[ModelCheckpoint] New best model with 0.84520 validation accuracy\n",
      "[24/48] training: 1.76045 loss, 0.846 accuracy\n",
      "validation: 0.841 accuracy\n",
      "[25/48] training: 1.49437 loss, 0.946 accuracy\n",
      "[ModelCheckpoint] New best model with 0.94250 validation accuracy\n",
      "[26/48] training: 1.40226 loss, 0.942 accuracy\n",
      "[ModelCheckpoint] New best model with 0.94320 validation accuracy\n",
      "[27/48] training: 1.04099 loss, 0.944 accuracy\n",
      "[ModelCheckpoint] New best model with 0.94410 validation accuracy\n",
      "[28/48] training: 0.74904 loss, 0.957 accuracy\n",
      "[ModelCheckpoint] New best model with 0.95410 validation accuracy\n",
      "[29/48] training: 0.54490 loss, 0.951 accuracy\n",
      "validation: 0.953 accuracy\n",
      "[30/48] training: 0.44752 loss, 0.955 accuracy\n",
      "validation: 0.947 accuracy\n",
      "[31/48] training: 0.43718 loss, 0.957 accuracy\n",
      "validation: 0.950 accuracy\n",
      "[32/48] training: 0.51906 loss, 0.954 accuracy\n",
      "validation: 0.950 accuracy\n",
      "[33/48] training: 0.27420 loss, 0.893 accuracy\n",
      "validation: 0.889 accuracy\n",
      "[34/48] training: 0.17773 loss, 0.892 accuracy\n",
      "validation: 0.889 accuracy\n",
      "[35/48] training: 0.12814 loss, 0.974 accuracy\n",
      "[ModelCheckpoint] New best model with 0.97030 validation accuracy\n",
      "[36/48] training: 0.12420 loss, 0.972 accuracy\n",
      "validation: 0.970 accuracy\n",
      "[37/48] training: 0.09589 loss, 0.970 accuracy\n",
      "[ModelCheckpoint] New best model with 0.97130 validation accuracy\n",
      "[38/48] training: 0.03962 loss, 0.968 accuracy\n",
      "[ModelCheckpoint] New best model with 0.97460 validation accuracy\n",
      "[39/48] training: 0.02577 loss, 0.969 accuracy\n",
      "validation: 0.971 accuracy\n",
      "[40/48] training: 0.03293 loss, 0.967 accuracy\n",
      "validation: 0.965 accuracy\n",
      "[41/48] training: 0.02011 loss, 0.969 accuracy\n",
      "validation: 0.970 accuracy\n",
      "[42/48] training: 0.01286 loss, 0.964 accuracy\n",
      "validation: 0.970 accuracy\n",
      "[43/48] training: 0.01583 loss, 0.968 accuracy\n",
      "validation: 0.970 accuracy\n",
      "[44/48] training: 0.03779 loss, 0.967 accuracy\n",
      "validation: 0.969 accuracy\n",
      "[45/48] training: 0.01039 loss, 0.975 accuracy\n",
      "validation: 0.974 accuracy\n",
      "[46/48] training: 0.01832 loss, 0.971 accuracy\n",
      "validation: 0.968 accuracy\n",
      "[47/48] training: 0.01932 loss, 0.972 accuracy\n",
      "validation: 0.972 accuracy\n",
      "[48/48] training: 0.00783 loss, 0.967 accuracy\n",
      "validation: 0.970 accuracy\n"
     ]
    }
   ],
   "source": [
    "np.random.seed(0)\n",
    "opt = AdaptiveGradientDescent(0.1, len(frecency_points))\n",
    "model = SVMRanking(delta=0.)\n",
    "model.fit(data_generator=sample_suggestions,\n",
    "          optimizer=opt,\n",
    "          num_iterations=48,\n",
    "          callbacks=[ModelCheckpoint(rank_accuracy)])"
   ]
  },
  {
   "cell_type": "code",
   "execution_count": 61,
   "metadata": {
    "ExecuteTime": {
     "end_time": "2018-05-29T18:29:58.142049Z",
     "start_time": "2018-05-29T18:29:32.752195Z"
    },
    "scrolled": false
   },
   "outputs": [
    {
     "name": "stdout",
     "output_type": "stream",
     "text": [
      "[1/48] training: 3.79408 loss, 0.843 accuracy\n",
      "[ModelCheckpoint] New best model with 0.84360 validation accuracy\n",
      "[2/48] training: 2.67392 loss, 0.935 accuracy\n",
      "[ModelCheckpoint] New best model with 0.96540 validation accuracy\n",
      "[3/48] training: 0.73219 loss, 0.983 accuracy\n",
      "[ModelCheckpoint] New best model with 0.97990 validation accuracy\n",
      "[4/48] training: 1.07223 loss, 0.958 accuracy\n",
      "[ModelCheckpoint] New best model with 0.98100 validation accuracy\n",
      "[5/48] training: 0.74734 loss, 0.965 accuracy\n",
      "validation: 0.980 accuracy\n",
      "[6/48] training: 0.25034 loss, 0.973 accuracy\n",
      "validation: 0.980 accuracy\n",
      "[7/48] training: 0.24616 loss, 0.968 accuracy\n",
      "validation: 0.976 accuracy\n",
      "[8/48] training: 0.13096 loss, 0.985 accuracy\n",
      "validation: 0.976 accuracy\n",
      "[9/48] training: 0.23453 loss, 0.970 accuracy\n",
      "[ModelCheckpoint] New best model with 0.98130 validation accuracy\n",
      "[10/48] training: 0.15009 loss, 0.975 accuracy\n",
      "[ModelCheckpoint] New best model with 0.98370 validation accuracy\n",
      "[11/48] training: 0.04461 loss, 0.985 accuracy\n",
      "validation: 0.978 accuracy\n",
      "[12/48] training: 0.17590 loss, 0.983 accuracy\n",
      "validation: 0.979 accuracy\n",
      "[13/48] training: 0.10473 loss, 0.970 accuracy\n",
      "validation: 0.981 accuracy\n",
      "[14/48] training: 0.07683 loss, 0.983 accuracy\n",
      "validation: 0.980 accuracy\n",
      "[15/48] training: 0.01459 loss, 0.983 accuracy\n",
      "validation: 0.981 accuracy\n",
      "[16/48] training: 0.05169 loss, 0.975 accuracy\n",
      "validation: 0.981 accuracy\n",
      "[17/48] training: 0.06215 loss, 0.963 accuracy\n",
      "validation: 0.977 accuracy\n",
      "[18/48] training: 0.03832 loss, 0.983 accuracy\n",
      "validation: 0.977 accuracy\n",
      "[19/48] training: 0.01268 loss, 0.970 accuracy\n",
      "validation: 0.978 accuracy\n",
      "[20/48] training: 0.03030 loss, 0.978 accuracy\n",
      "validation: 0.982 accuracy\n",
      "[21/48] training: 0.01398 loss, 0.965 accuracy\n",
      "validation: 0.979 accuracy\n",
      "[22/48] training: 0.00374 loss, 1.000 accuracy\n",
      "[ModelCheckpoint] New best model with 0.99320 validation accuracy\n",
      "[23/48] training: 0.02217 loss, 0.993 accuracy\n",
      "validation: 0.991 accuracy\n",
      "[24/48] training: 0.00664 loss, 0.990 accuracy\n",
      "validation: 0.993 accuracy\n",
      "[25/48] training: 0.01731 loss, 0.988 accuracy\n",
      "[ModelCheckpoint] New best model with 0.99480 validation accuracy\n",
      "[26/48] training: 0.01764 loss, 0.988 accuracy\n",
      "validation: 0.990 accuracy\n",
      "[27/48] training: 0.01019 loss, 0.990 accuracy\n",
      "validation: 0.993 accuracy\n",
      "[28/48] training: 0.01701 loss, 0.988 accuracy\n",
      "validation: 0.993 accuracy\n",
      "[29/48] training: 0.00452 loss, 0.993 accuracy\n",
      "validation: 0.993 accuracy\n",
      "[30/48] training: 0.00286 loss, 0.988 accuracy\n",
      "validation: 0.994 accuracy\n",
      "[31/48] training: 0.00446 loss, 0.990 accuracy\n",
      "validation: 0.995 accuracy\n",
      "[32/48] training: 0.00714 loss, 0.985 accuracy\n",
      "validation: 0.993 accuracy\n",
      "[33/48] training: 0.00128 loss, 0.995 accuracy\n",
      "validation: 0.992 accuracy\n",
      "[34/48] training: 0.00123 loss, 0.988 accuracy\n",
      "validation: 0.993 accuracy\n",
      "[35/48] training: 0.00422 loss, 0.985 accuracy\n",
      "validation: 0.994 accuracy\n",
      "[36/48] training: 0.00163 loss, 0.998 accuracy\n",
      "[ModelCheckpoint] New best model with 0.99500 validation accuracy\n",
      "[37/48] training: 0.00195 loss, 0.985 accuracy\n",
      "validation: 0.993 accuracy\n",
      "[38/48] training: 0.00261 loss, 0.978 accuracy\n",
      "validation: 0.994 accuracy\n",
      "[39/48] training: 0.00115 loss, 0.993 accuracy\n",
      "validation: 0.991 accuracy\n",
      "[40/48] training: 0.00001 loss, 0.988 accuracy\n",
      "validation: 0.991 accuracy\n",
      "[41/48] training: 0.00334 loss, 0.983 accuracy\n",
      "validation: 0.993 accuracy\n",
      "[42/48] training: 0.00132 loss, 0.995 accuracy\n",
      "validation: 0.993 accuracy\n",
      "[43/48] training: 0.00379 loss, 0.990 accuracy\n",
      "validation: 0.992 accuracy\n",
      "[44/48] training: 0.00108 loss, 0.990 accuracy\n",
      "validation: 0.990 accuracy\n",
      "[45/48] training: 0.00381 loss, 0.990 accuracy\n",
      "validation: 0.994 accuracy\n",
      "[46/48] training: 0.00157 loss, 0.988 accuracy\n",
      "validation: 0.994 accuracy\n",
      "[47/48] training: 0.00054 loss, 0.995 accuracy\n",
      "validation: 0.994 accuracy\n",
      "[48/48] training: 0.00120 loss, 0.990 accuracy\n",
      "validation: 0.992 accuracy\n"
     ]
    }
   ],
   "source": [
    "model = SVMRanking(delta=0.)\n",
    "model.fit(data_generator=sample_suggestions,\n",
    "          optimizer=GradientDescent(30.),\n",
    "          num_iterations=48,\n",
    "          callbacks=[ModelCheckpoint(rank_accuracy)])"
   ]
  },
  {
   "cell_type": "markdown",
   "metadata": {},
   "source": [
    "After fitting, we can compare the learned weights with the true frecency scores. Note that the values themselves are very different now but that the ordering is nearly the same as in the real algorithm. This shows that we are ranking very similarly to the real algorithm but that the optimization process did not fully reach the global optimum."
   ]
  },
  {
   "cell_type": "code",
   "execution_count": 163,
   "metadata": {
    "ExecuteTime": {
     "end_time": "2018-05-29T21:44:05.901624Z",
     "start_time": "2018-05-29T21:44:05.892455Z"
    },
    "scrolled": true
   },
   "outputs": [
    {
     "data": {
      "text/plain": [
       "[(12.0, -194.00287105657827),\n",
       " (14.0, -183.5343037747067),\n",
       " (20.0, -195.48519437135437),\n",
       " (36.0, -177.79262977672352),\n",
       " (42.0, -172.11116782499278),\n",
       " (60.0, -162.86180600094758),\n",
       " (60.0, -164.76096677834511),\n",
       " (70.0, -152.9487800590953),\n",
       " (84.0, -150.73862111313508),\n",
       " (98.0, -133.73860757832759),\n",
       " (100.0, -145.41575741310663),\n",
       " (120.0, -131.52710517531798),\n",
       " (140.0, -119.60629786724751),\n",
       " (140.0, -130.76203878953726),\n",
       " (200.0, 244.46689170495839)]"
      ]
     },
     "execution_count": 163,
     "metadata": {},
     "output_type": "execute_result"
    }
   ],
   "source": [
    "ais = np.argsort(frecency_points)\n",
    "zip(frecency_points[ais], model.W[ais])"
   ]
  },
  {
   "cell_type": "markdown",
   "metadata": {},
   "source": [
    "Still, the model is correct most of the time:"
   ]
  },
  {
   "cell_type": "code",
   "execution_count": 42,
   "metadata": {
    "ExecuteTime": {
     "end_time": "2018-05-25T00:13:25.606717Z",
     "start_time": "2018-05-25T00:13:24.958133Z"
    }
   },
   "outputs": [
    {
     "data": {
      "text/plain": [
       "0.9846"
      ]
     },
     "execution_count": 42,
     "metadata": {},
     "output_type": "execute_result"
    }
   ],
   "source": [
    "X, y = sample_suggestions(10000)\n",
    "rank_accuracy(y, model.predict(X))"
   ]
  },
  {
   "cell_type": "markdown",
   "metadata": {},
   "source": [
    "### Side note: Evaluation during training in production\n",
    "\n",
    "If we only use 400 data points for validating the current model, then this is not enough to properly assess the model quality.\n",
    "The accuracies jump too much.\n",
    "However, this evaluation could still be used to test that the model is not completely off."
   ]
  },
  {
   "cell_type": "code",
   "execution_count": 66,
   "metadata": {
    "ExecuteTime": {
     "end_time": "2018-05-25T00:19:34.500115Z",
     "start_time": "2018-05-25T00:19:26.956763Z"
    }
   },
   "outputs": [
    {
     "data": {
      "text/plain": [
       "(array([   4.,   11.,   47.,   65.,  109.,  286.,  163.,  247.,   51.,   16.]),\n",
       " array([ 0.965 ,  0.9685,  0.972 ,  0.9755,  0.979 ,  0.9825,  0.986 ,\n",
       "         0.9895,  0.993 ,  0.9965,  1.    ]),\n",
       " <a list of 10 Patch objects>)"
      ]
     },
     "execution_count": 66,
     "metadata": {},
     "output_type": "execute_result"
    },
    {
     "data": {
      "image/png": "[encoded data removed]",
      "text/plain": [
       "<matplotlib.figure.Figure at 0x7f1b7f9b1fd0>"
      ]
     },
     "metadata": {},
     "output_type": "display_data"
    }
   ],
   "source": [
    "X, y = sample_suggestions(1000 * 400)\n",
    "accuracies = []\n",
    "\n",
    "for i in range(0, len(X) - 400, 400):\n",
    "    Xi, yi = X[i:i+400], y[i:i+400]\n",
    "    acc = rank_accuracy(yi, model.predict(Xi))\n",
    "    accuracies.append(acc)\n",
    "    \n",
    "plt.hist(sorted(accuracies))"
   ]
  },
  {
   "cell_type": "markdown",
   "metadata": {},
   "source": [
    "## Frequency\n",
    "\n",
    "We still need to take into account that users visit links more than once.\n",
    "How often a user visits a link is sampled from an exponential distribution in this simulation:"
   ]
  },
  {
   "cell_type": "code",
   "execution_count": 67,
   "metadata": {
    "ExecuteTime": {
     "end_time": "2018-05-25T00:20:03.967263Z",
     "start_time": "2018-05-25T00:20:03.732006Z"
    }
   },
   "outputs": [
    {
     "data": {
      "text/plain": [
       "(array([ 493.,  229.,  143.,   68.,   33.,   15.,    7.,    8.,    2.,    2.]),\n",
       " array([  0. ,   4.4,   8.8,  13.2,  17.6,  22. ,  26.4,  30.8,  35.2,\n",
       "         39.6,  44. ]),\n",
       " <a list of 10 Patch objects>)"
      ]
     },
     "execution_count": 67,
     "metadata": {},
     "output_type": "execute_result"
    },
    {
     "data": {
      "image/png": "[encoded data removed]",
      "text/plain": [
       "<matplotlib.figure.Figure at 0x7f1b79e93a50>"
      ]
     },
     "metadata": {},
     "output_type": "display_data"
    }
   ],
   "source": [
    "frequencies = np.int32(np.random.exponential(7, size=(1000)))\n",
    "plt.hist(frequencies)"
   ]
  },
  {
   "cell_type": "code",
   "execution_count": 68,
   "metadata": {
    "ExecuteTime": {
     "end_time": "2018-05-25T00:20:04.550404Z",
     "start_time": "2018-05-25T00:20:04.539093Z"
    }
   },
   "outputs": [],
   "source": [
    "def sample_url_features(num_samples):\n",
    "    frequencies = np.int32(np.random.exponential(7, size=num_samples)) + 1\n",
    "    frequencies = np.int32(np.ones(num_samples))\n",
    "    X = []\n",
    "    \n",
    "    for frequency in frequencies:\n",
    "        num_sampled = min(10, frequency)\n",
    "        features = sample_weighted(num_sampled, weights).sum(axis=0)\n",
    "        X.append(frequency / num_sampled * features)\n",
    "        \n",
    "    return np.array(X)"
   ]
  },
  {
   "cell_type": "code",
   "execution_count": 69,
   "metadata": {
    "ExecuteTime": {
     "end_time": "2018-05-25T00:20:59.541257Z",
     "start_time": "2018-05-25T00:20:05.951881Z"
    },
    "scrolled": true
   },
   "outputs": [
    {
     "name": "stdout",
     "output_type": "stream",
     "text": [
      "[1/48] training: 6.68685 loss, 0.838 accuracy\n",
      "[ModelCheckpoint] New best model with 0.84440 validation accuracy\n",
      "[2/48] training: 0.99414 loss, 0.950 accuracy\n",
      "[ModelCheckpoint] New best model with 0.96520 validation accuracy\n",
      "[3/48] training: 0.69720 loss, 0.973 accuracy\n",
      "[ModelCheckpoint] New best model with 0.97010 validation accuracy\n",
      "[4/48] training: 0.31055 loss, 0.973 accuracy\n",
      "validation: 0.969 accuracy\n",
      "[5/48] training: 0.13849 loss, 0.968 accuracy\n",
      "validation: 0.968 accuracy\n",
      "[6/48] training: 0.11023 loss, 0.973 accuracy\n",
      "validation: 0.970 accuracy\n",
      "[7/48] training: 0.10748 loss, 0.975 accuracy\n",
      "[ModelCheckpoint] New best model with 0.97050 validation accuracy\n",
      "[8/48] training: 0.03272 loss, 0.975 accuracy\n",
      "[ModelCheckpoint] New best model with 0.97330 validation accuracy\n",
      "[9/48] training: 0.15880 loss, 0.973 accuracy\n",
      "validation: 0.972 accuracy\n",
      "[10/48] training: 0.08625 loss, 0.975 accuracy\n",
      "[ModelCheckpoint] New best model with 0.97420 validation accuracy\n",
      "[11/48] training: 0.02461 loss, 0.975 accuracy\n",
      "validation: 0.971 accuracy\n",
      "[12/48] training: 0.00085 loss, 0.978 accuracy\n",
      "[ModelCheckpoint] New best model with 0.97450 validation accuracy\n",
      "[13/48] training: 0.08425 loss, 0.968 accuracy\n",
      "[ModelCheckpoint] New best model with 0.97670 validation accuracy\n",
      "[14/48] training: 0.02949 loss, 0.970 accuracy\n",
      "validation: 0.973 accuracy\n",
      "[15/48] training: 0.01767 loss, 0.973 accuracy\n",
      "validation: 0.972 accuracy\n",
      "[16/48] training: 0.01378 loss, 0.965 accuracy\n",
      "validation: 0.976 accuracy\n",
      "[17/48] training: 0.04177 loss, 0.983 accuracy\n",
      "validation: 0.973 accuracy\n",
      "[18/48] training: 0.08431 loss, 0.973 accuracy\n",
      "validation: 0.971 accuracy\n",
      "[19/48] training: 0.01428 loss, 0.980 accuracy\n",
      "validation: 0.973 accuracy\n",
      "[20/48] training: 0.02923 loss, 0.975 accuracy\n",
      "validation: 0.974 accuracy\n",
      "[21/48] training: 0.00978 loss, 0.970 accuracy\n",
      "validation: 0.974 accuracy\n",
      "[22/48] training: 0.00724 loss, 0.985 accuracy\n",
      "validation: 0.974 accuracy\n",
      "[23/48] training: 0.04515 loss, 0.983 accuracy\n",
      "validation: 0.974 accuracy\n",
      "[24/48] training: 0.02568 loss, 0.980 accuracy\n",
      "validation: 0.975 accuracy\n",
      "[25/48] training: 0.00276 loss, 0.968 accuracy\n",
      "validation: 0.973 accuracy\n",
      "[26/48] training: 0.00947 loss, 0.978 accuracy\n",
      "validation: 0.972 accuracy\n",
      "[27/48] training: 0.00876 loss, 0.995 accuracy\n",
      "validation: 0.976 accuracy\n",
      "[28/48] training: 0.00122 loss, 0.985 accuracy\n",
      "validation: 0.974 accuracy\n",
      "[29/48] training: 0.00414 loss, 0.990 accuracy\n",
      "validation: 0.974 accuracy\n",
      "[30/48] training: 0.01561 loss, 0.970 accuracy\n",
      "validation: 0.974 accuracy\n",
      "[31/48] training: 0.01226 loss, 0.980 accuracy\n",
      "validation: 0.975 accuracy\n",
      "[32/48] training: 0.01767 loss, 0.963 accuracy\n",
      "[ModelCheckpoint] New best model with 0.97770 validation accuracy\n",
      "[33/48] training: 0.00059 loss, 0.980 accuracy\n",
      "validation: 0.973 accuracy\n",
      "[34/48] training: 0.01380 loss, 0.968 accuracy\n",
      "validation: 0.975 accuracy\n",
      "[35/48] training: 0.00363 loss, 0.958 accuracy\n",
      "[ModelCheckpoint] New best model with 0.97800 validation accuracy\n",
      "[36/48] training: 0.00018 loss, 0.973 accuracy\n",
      "validation: 0.976 accuracy\n",
      "[37/48] training: 0.00000 loss, 0.978 accuracy\n",
      "validation: 0.972 accuracy\n",
      "[38/48] training: 0.00583 loss, 0.978 accuracy\n",
      "validation: 0.976 accuracy\n",
      "[39/48] training: 0.00011 loss, 0.983 accuracy\n",
      "validation: 0.974 accuracy\n",
      "[40/48] training: 0.00327 loss, 0.975 accuracy\n",
      "validation: 0.976 accuracy\n",
      "[41/48] training: 0.00605 loss, 0.970 accuracy\n",
      "validation: 0.974 accuracy\n",
      "[42/48] training: 0.00008 loss, 0.965 accuracy\n",
      "validation: 0.977 accuracy\n",
      "[43/48] training: 0.00004 loss, 0.988 accuracy\n",
      "validation: 0.976 accuracy\n",
      "[44/48] training: 0.00000 loss, 0.988 accuracy\n",
      "validation: 0.973 accuracy\n",
      "[45/48] training: 0.01262 loss, 0.978 accuracy\n",
      "validation: 0.973 accuracy\n",
      "[46/48] training: 0.00209 loss, 0.980 accuracy\n",
      "validation: 0.974 accuracy\n",
      "[47/48] training: 0.00272 loss, 0.973 accuracy\n",
      "validation: 0.972 accuracy\n",
      "[48/48] training: 0.00004 loss, 0.975 accuracy\n",
      "validation: 0.975 accuracy\n"
     ]
    }
   ],
   "source": [
    "model = SVMRanking(delta=0.)\n",
    "model.fit(data_generator=sample_suggestions,\n",
    "          optimizer=GradientDescent(30.),\n",
    "          num_iterations=48,\n",
    "          callbacks=[ModelCheckpoint(rank_accuracy, 10000)])"
   ]
  },
  {
   "cell_type": "markdown",
   "metadata": {},
   "source": [
    "## Federated Learning\n",
    "\n",
    "To implement a federated version of the model above, we have to create a `Client` class that completely encapsulates training data. Only the `Client` can compute gradients based on its own data. While the `Server` is the main class for controlling the training process, it can only request gradients from clients."
   ]
  },
  {
   "cell_type": "code",
   "execution_count": 46,
   "metadata": {
    "ExecuteTime": {
     "end_time": "2018-06-27T23:07:40.264336Z",
     "start_time": "2018-06-27T23:07:40.259984Z"
    }
   },
   "outputs": [],
   "source": [
    "import random"
   ]
  },
  {
   "cell_type": "code",
   "execution_count": 47,
   "metadata": {
    "ExecuteTime": {
     "end_time": "2018-06-27T23:07:40.783445Z",
     "start_time": "2018-06-27T23:07:40.757281Z"
    }
   },
   "outputs": [],
   "source": [
    "class Server:\n",
    "    def __init__(self, clients):\n",
    "        self.clients = clients\n",
    "        \n",
    "        num_features = len(frecency_points)\n",
    "        self.W = frecency_points + (np.random.random(size=(num_features)) - 0.5) * 100\n",
    "    \n",
    "    def fit(self, optimizer, num_iterations, num_clients_per_iteration, callbacks=[]):\n",
    "        for j in range(num_iterations):\n",
    "            clients = random.sample(self.clients, num_clients_per_iteration)\n",
    "            updates, losses = zip(*[client.request_update(self) for client in clients])\n",
    "            \n",
    "            gradient = np.mean(updates, axis=0)\n",
    "            loss = np.mean(losses, axis=0)\n",
    "            \n",
    "            print(\"[%d/%d] training loss across clients %.5f\" % (j + 1, num_iterations, loss))\n",
    "            \n",
    "            for callback in callbacks:\n",
    "                callback(self)\n",
    "            \n",
    "            self.W += optimizer(gradient)\n",
    "            \n",
    "    def predict(self, X):\n",
    "        preds = []\n",
    "        \n",
    "        for x in X:\n",
    "            scores = x.dot(self.W)\n",
    "            preds.append(scores)\n",
    "        \n",
    "        return preds"
   ]
  },
  {
   "cell_type": "code",
   "execution_count": 48,
   "metadata": {
    "ExecuteTime": {
     "end_time": "2018-06-27T23:07:41.893645Z",
     "start_time": "2018-06-27T23:07:41.873075Z"
    }
   },
   "outputs": [],
   "source": [
    "class Client:\n",
    "    def __init__(self, data_generator, delta=0):\n",
    "        self.data_generator = data_generator\n",
    "        self.delta = 0\n",
    "    \n",
    "    def request_update(self, model):\n",
    "        X, y = self.data_generator()\n",
    "        preds = model.predict(X)\n",
    "        \n",
    "        num_features = X[0].shape[1]\n",
    "        gradient = np.zeros(num_features)\n",
    "        loss = 0\n",
    "\n",
    "        for xi, pi, yi in zip(X, preds, y):\n",
    "            correct = yi.argmax()\n",
    "            score_correct = pi[correct]\n",
    "\n",
    "            for i, predicted_score in enumerate(pi):\n",
    "                gradient -= xi[i] * max(0, predicted_score + self.delta - score_correct)\n",
    "            \n",
    "            loss += svm_loss(pi, yi)\n",
    "                \n",
    "        gradient /= len(X)\n",
    "        loss /= len(X)\n",
    "        \n",
    "        return gradient, loss"
   ]
  },
  {
   "cell_type": "markdown",
   "metadata": {},
   "source": [
    "How many data points a user has in each round is sampled from the following exponential distribution:"
   ]
  },
  {
   "cell_type": "code",
   "execution_count": 49,
   "metadata": {
    "ExecuteTime": {
     "end_time": "2018-06-27T23:07:42.906600Z",
     "start_time": "2018-06-27T23:07:42.677732Z"
    }
   },
   "outputs": [
    {
     "data": {
      "text/plain": [
       "(array([ 716.,    0.,  202.,    0.,   55.,    0.,   21.,    0.,    5.,    1.]),\n",
       " array([ 1. ,  1.5,  2. ,  2.5,  3. ,  3.5,  4. ,  4.5,  5. ,  5.5,  6. ]),\n",
       " <a list of 10 Patch objects>)"
      ]
     },
     "execution_count": 49,
     "metadata": {},
     "output_type": "execute_result"
    },
    {
     "data": {
      "image/png": "[encoded data removed]",
      "text/plain": [
       "<matplotlib.figure.Figure at 0x7f76e4cb8f50>"
      ]
     },
     "metadata": {},
     "output_type": "display_data"
    }
   ],
   "source": [
    "num_datapoints = np.int32(np.random.exponential(.8, size=(1000))) + 1\n",
    "plt.hist(num_datapoints)"
   ]
  },
  {
   "cell_type": "markdown",
   "metadata": {},
   "source": [
    "We have 5000 clients:"
   ]
  },
  {
   "cell_type": "code",
   "execution_count": 50,
   "metadata": {
    "ExecuteTime": {
     "end_time": "2018-06-27T23:07:45.499359Z",
     "start_time": "2018-06-27T23:07:45.488978Z"
    }
   },
   "outputs": [],
   "source": [
    "clients = [Client(lambda: sample_suggestions(np.int32(np.random.exponential(.8)) + 1)) for _ in range(5000)]"
   ]
  },
  {
   "cell_type": "code",
   "execution_count": 52,
   "metadata": {
    "ExecuteTime": {
     "end_time": "2018-06-27T23:10:34.255065Z",
     "start_time": "2018-06-27T23:10:02.864235Z"
    },
    "scrolled": false
   },
   "outputs": [
    {
     "name": "stdout",
     "output_type": "stream",
     "text": [
      "[1/48] training loss across clients 19.20587\n",
      "[ModelCheckpoint] New best model with 0.75450 validation accuracy\n",
      "[2/48] training loss across clients 635.15194\n",
      "validation: 0.746 accuracy\n",
      "[3/48] training loss across clients 230.04839\n",
      "[ModelCheckpoint] New best model with 0.92910 validation accuracy\n",
      "[4/48] training loss across clients 17.15949\n",
      "[ModelCheckpoint] New best model with 0.97490 validation accuracy\n",
      "[5/48] training loss across clients 4.89408\n",
      "[ModelCheckpoint] New best model with 0.98160 validation accuracy\n",
      "[6/48] training loss across clients 1.49444\n",
      "validation: 0.981 accuracy\n",
      "[7/48] training loss across clients 8.19963\n",
      "validation: 0.979 accuracy\n",
      "[8/48] training loss across clients 3.83776\n",
      "[ModelCheckpoint] New best model with 0.98360 validation accuracy\n",
      "[9/48] training loss across clients 0.36501\n",
      "validation: 0.982 accuracy\n",
      "[10/48] training loss across clients 0.58462\n",
      "validation: 0.978 accuracy\n",
      "[11/48] training loss across clients 0.57726\n",
      "validation: 0.979 accuracy\n",
      "[12/48] training loss across clients 0.44594\n",
      "validation: 0.979 accuracy\n",
      "[13/48] training loss across clients 0.26947\n",
      "validation: 0.982 accuracy\n",
      "[14/48] training loss across clients 0.12269\n",
      "validation: 0.979 accuracy\n",
      "[15/48] training loss across clients 0.13385\n",
      "validation: 0.982 accuracy\n",
      "[16/48] training loss across clients 0.05754\n",
      "validation: 0.980 accuracy\n",
      "[17/48] training loss across clients 0.02902\n",
      "validation: 0.978 accuracy\n",
      "[18/48] training loss across clients 0.09605\n",
      "validation: 0.975 accuracy\n",
      "[19/48] training loss across clients 0.03727\n",
      "validation: 0.973 accuracy\n",
      "[20/48] training loss across clients 0.03913\n",
      "validation: 0.981 accuracy\n",
      "[21/48] training loss across clients 0.05153\n",
      "validation: 0.980 accuracy\n",
      "[22/48] training loss across clients 0.02739\n",
      "validation: 0.980 accuracy\n",
      "[23/48] training loss across clients 0.03089\n",
      "validation: 0.982 accuracy\n",
      "[24/48] training loss across clients 0.02350\n",
      "validation: 0.978 accuracy\n",
      "[25/48] training loss across clients 0.02712\n",
      "validation: 0.981 accuracy\n",
      "[26/48] training loss across clients 0.02529\n",
      "[ModelCheckpoint] New best model with 0.98490 validation accuracy\n",
      "[27/48] training loss across clients 0.00558\n",
      "validation: 0.979 accuracy\n",
      "[28/48] training loss across clients 0.02784\n",
      "validation: 0.980 accuracy\n",
      "[29/48] training loss across clients 0.00139\n",
      "validation: 0.985 accuracy\n",
      "[30/48] training loss across clients 0.00966\n",
      "validation: 0.975 accuracy\n",
      "[31/48] training loss across clients 0.00495\n",
      "validation: 0.975 accuracy\n",
      "[32/48] training loss across clients 0.00301\n",
      "validation: 0.981 accuracy\n",
      "[33/48] training loss across clients 0.00560\n",
      "validation: 0.980 accuracy\n",
      "[34/48] training loss across clients 0.00014\n",
      "validation: 0.982 accuracy\n",
      "[35/48] training loss across clients 0.00268\n",
      "validation: 0.980 accuracy\n",
      "[36/48] training loss across clients 0.00329\n",
      "validation: 0.983 accuracy\n",
      "[37/48] training loss across clients 0.00329\n",
      "validation: 0.982 accuracy\n",
      "[38/48] training loss across clients 0.00428\n",
      "validation: 0.978 accuracy\n",
      "[39/48] training loss across clients 0.00144\n",
      "validation: 0.976 accuracy\n",
      "[40/48] training loss across clients 0.00028\n",
      "validation: 0.981 accuracy\n",
      "[41/48] training loss across clients 0.00092\n",
      "validation: 0.984 accuracy\n",
      "[42/48] training loss across clients 0.00090\n",
      "validation: 0.983 accuracy\n",
      "[43/48] training loss across clients 0.00068\n",
      "validation: 0.981 accuracy\n",
      "[44/48] training loss across clients 0.00032\n",
      "validation: 0.984 accuracy\n",
      "[45/48] training loss across clients 0.00029\n",
      "validation: 0.985 accuracy\n",
      "[46/48] training loss across clients 0.00241\n",
      "validation: 0.977 accuracy\n",
      "[47/48] training loss across clients 0.00034\n",
      "validation: 0.981 accuracy\n",
      "[48/48] training loss across clients 0.00110\n",
      "[ModelCheckpoint] New best model with 0.98650 validation accuracy\n"
     ]
    }
   ],
   "source": [
    "server = Server(clients)\n",
    "server.fit(optimizer=GradientDescent(30.),\n",
    "          num_iterations=48,\n",
    "           num_clients_per_iteration=400,\n",
    "          callbacks=[ModelCheckpoint(rank_accuracy, 10000)])"
   ]
  },
  {
   "cell_type": "markdown",
   "metadata": {},
   "source": [
    "=> The model quality improved from 70% to >98% validation accuracy."
   ]
  },
  {
   "cell_type": "markdown",
   "metadata": {},
   "source": [
    "# Notes "
   ]
  },
  {
   "cell_type": "markdown",
   "metadata": {},
   "source": [
    "Simplifications made:\n",
    "\n",
    "- All users sample from the same distribution\n",
    "- `ModelCheckpoint` cannot be based on validation data in the actual implementation\n",
    "- Users should run more than one SGD iteration locally"
   ]
  },
  {
   "cell_type": "markdown",
   "metadata": {
    "ExecuteTime": {
     "end_time": "2018-05-22T18:04:32.139661Z",
     "start_time": "2018-05-22T18:04:32.125608Z"
    }
   },
   "source": [
    "## To make fitting easier\n",
    "\n",
    "- Fair initialization\n",
    "- Normalize data (0-center)\n",
    "- Remove features with a value of 0"
   ]
  },
  {
   "cell_type": "markdown",
   "metadata": {},
   "source": [
    "## Still missing\n",
    "\n",
    "- Implement frequency part (switch from one-hot encoding to up to sum of 10 and add multiplicative factor)"
   ]
  }
 ],
 "metadata": {
  "anaconda-cloud": {},
  "kernelspec": {
   "display_name": "Python [conda root]",
   "language": "python",
   "name": "conda-root-py"
  },
  "language_info": {
   "codemirror_mode": {
    "name": "ipython",
    "version": 2
   },
   "file_extension": ".py",
   "mimetype": "text/x-python",
   "name": "python",
   "nbconvert_exporter": "python",
   "pygments_lexer": "ipython2",
   "version": "2.7.12"
  },
  "toc": {
   "nav_menu": {},
   "number_sections": true,
   "sideBar": true,
   "skip_h1_title": false,
   "toc_cell": false,
   "toc_position": {
    "height": "1196px",
    "left": "0px",
    "right": "1068px",
    "top": "160px",
    "width": "212px"
   },
   "toc_section_display": "block",
   "toc_window_display": true
  }
 },
 "nbformat": 4,
 "nbformat_minor": 1
}
