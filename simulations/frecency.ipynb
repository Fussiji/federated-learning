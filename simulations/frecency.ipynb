{
 "cells": [
  {
   "cell_type": "markdown",
   "metadata": {},
   "source": [
    "# Federated Learning"
   ]
  },
  {
   "cell_type": "code",
   "execution_count": 1,
   "metadata": {
    "ExecuteTime": {
     "end_time": "2018-06-28T18:24:35.212771Z",
     "start_time": "2018-06-28T18:24:35.179928Z"
    }
   },
   "outputs": [],
   "source": [
    "%load_ext autoreload\n",
    "%autoreload 2"
   ]
  },
  {
   "cell_type": "code",
   "execution_count": 29,
   "metadata": {
    "ExecuteTime": {
     "end_time": "2018-06-28T19:58:42.041134Z",
     "start_time": "2018-06-28T19:58:41.217922Z"
    }
   },
   "outputs": [],
   "source": [
    "import numpy as np\n",
    "import matplotlib.pyplot as plt\n",
    "%matplotlib inline"
   ]
  },
  {
   "cell_type": "code",
   "execution_count": 3,
   "metadata": {
    "ExecuteTime": {
     "end_time": "2018-06-28T18:24:36.543770Z",
     "start_time": "2018-06-28T18:24:36.529788Z"
    }
   },
   "outputs": [],
   "source": [
    "import sys\n",
    "sys.path.insert(0, '..')"
   ]
  },
  {
   "cell_type": "code",
   "execution_count": 4,
   "metadata": {
    "ExecuteTime": {
     "end_time": "2018-06-28T18:24:37.061272Z",
     "start_time": "2018-06-28T18:24:36.909001Z"
    }
   },
   "outputs": [],
   "source": [
    "from data.frecency import sample, frecency_points\n",
    "from data.frecency import sample_suggestions_normal as sample_suggestions"
   ]
  },
  {
   "cell_type": "markdown",
   "metadata": {},
   "source": [
    "## Linear Regression\n",
    "\n",
    "This section is mostly to check that's it possible to fit a linear model perfectly to the data."
   ]
  },
  {
   "cell_type": "code",
   "execution_count": 5,
   "metadata": {
    "ExecuteTime": {
     "end_time": "2018-06-28T18:24:38.009063Z",
     "start_time": "2018-06-28T18:24:37.736520Z"
    }
   },
   "outputs": [],
   "source": [
    "from sklearn.linear_model import LinearRegression"
   ]
  },
  {
   "cell_type": "markdown",
   "metadata": {},
   "source": [
    "To fit a model, we sample a lot of these scores and also add noise on top to make the problem more similar to the real application."
   ]
  },
  {
   "cell_type": "code",
   "execution_count": 6,
   "metadata": {
    "ExecuteTime": {
     "end_time": "2018-06-28T18:24:38.733630Z",
     "start_time": "2018-06-28T18:24:38.419443Z"
    }
   },
   "outputs": [],
   "source": [
    "n = int(1e6)\n",
    "noise = np.random.normal(0, 2, size=(n))\n",
    "X, y = sample(n)\n",
    "y += noise"
   ]
  },
  {
   "cell_type": "code",
   "execution_count": 7,
   "metadata": {
    "ExecuteTime": {
     "end_time": "2018-06-28T18:24:39.590734Z",
     "start_time": "2018-06-28T18:24:38.787659Z"
    }
   },
   "outputs": [
    {
     "data": {
      "text/plain": [
       "LinearRegression(copy_X=True, fit_intercept=False, n_jobs=1, normalize=False)"
      ]
     },
     "execution_count": 7,
     "metadata": {},
     "output_type": "execute_result"
    }
   ],
   "source": [
    "model = LinearRegression(fit_intercept=False)\n",
    "model.fit(X, y)"
   ]
  },
  {
   "cell_type": "markdown",
   "metadata": {},
   "source": [
    "The resulting coefficients are extremely close to the actual frecency weights. How close they are depends on how much noise we add to the data matrix."
   ]
  },
  {
   "cell_type": "code",
   "execution_count": 8,
   "metadata": {
    "ExecuteTime": {
     "end_time": "2018-06-28T18:24:40.057795Z",
     "start_time": "2018-06-28T18:24:40.035660Z"
    }
   },
   "outputs": [
    {
     "data": {
      "text/plain": [
       "[(120.00333500654246, 120.0),\n",
       " (35.995557550483873, 36.0),\n",
       " (97.994996557300183, 98.0),\n",
       " (13.992650899036075, 14.0),\n",
       " (19.993039069792342, 20.0),\n",
       " (99.97600899995517, 100.0),\n",
       " (140.00937856149761, 140.0),\n",
       " (69.999480626657714, 70.0),\n",
       " (199.99165543624855, 200.0),\n",
       " (42.001243539264372, 42.0),\n",
       " (60.007903363545338, 60.0),\n",
       " (140.01511441895124, 140.0),\n",
       " (11.991131134526411, 12.0),\n",
       " (60.002935871815112, 60.0),\n",
       " (84.003882561214098, 84.0)]"
      ]
     },
     "execution_count": 8,
     "metadata": {},
     "output_type": "execute_result"
    }
   ],
   "source": [
    "zip(model.coef_, frecency_points)"
   ]
  },
  {
   "cell_type": "code",
   "execution_count": 9,
   "metadata": {
    "ExecuteTime": {
     "end_time": "2018-06-28T18:24:40.444619Z",
     "start_time": "2018-06-28T18:24:40.425463Z"
    }
   },
   "outputs": [
    {
     "data": {
      "text/plain": [
       "array([ 0.00333501, -0.00444245, -0.00500344, -0.0073491 , -0.00696093,\n",
       "       -0.023991  ,  0.00937856, -0.00051937, -0.00834456,  0.00124354,\n",
       "        0.00790336,  0.01511442, -0.00886887,  0.00293587,  0.00388256])"
      ]
     },
     "execution_count": 9,
     "metadata": {},
     "output_type": "execute_result"
    }
   ],
   "source": [
    "model.coef_ - frecency_points"
   ]
  },
  {
   "cell_type": "markdown",
   "metadata": {},
   "source": [
    "## Ranking and SVM loss\n",
    "\n",
    "Now, we make the problem slightly more difficult: Instead of just learning the frecency function from data, we try to learn it from user interactions. The training data now consists of a variable number of history suggestions and their respective features. The label corresponds to the suggestion that the user clicked on. We still assume that the user clicks on the item with the highest frecency score."
   ]
  },
  {
   "cell_type": "markdown",
   "metadata": {},
   "source": [
    "### Preprocessing"
   ]
  },
  {
   "cell_type": "markdown",
   "metadata": {},
   "source": [
    "Gradient descent generally works better when the data is centered around the origin:"
   ]
  },
  {
   "cell_type": "code",
   "execution_count": 10,
   "metadata": {
    "ExecuteTime": {
     "end_time": "2018-06-28T18:24:41.995923Z",
     "start_time": "2018-06-28T18:24:41.977991Z"
    }
   },
   "outputs": [],
   "source": [
    "from utils import normalize"
   ]
  },
  {
   "cell_type": "code",
   "execution_count": 11,
   "metadata": {
    "ExecuteTime": {
     "end_time": "2018-06-28T18:24:49.195483Z",
     "start_time": "2018-06-28T18:24:42.378264Z"
    }
   },
   "outputs": [],
   "source": [
    "X = normalize(X)"
   ]
  },
  {
   "cell_type": "markdown",
   "metadata": {},
   "source": [
    "### Optimizers"
   ]
  },
  {
   "cell_type": "code",
   "execution_count": 12,
   "metadata": {
    "ExecuteTime": {
     "end_time": "2018-06-28T18:24:50.117491Z",
     "start_time": "2018-06-28T18:24:50.028430Z"
    }
   },
   "outputs": [],
   "source": [
    "from optimizers import GradientDescent, AdaptiveGradientDescent, DecayedGradientDescent, RProp, Adam"
   ]
  },
  {
   "cell_type": "markdown",
   "metadata": {},
   "source": [
    "### Hinge Loss (SVM loss)\n",
    "\n",
    "To supervise training, we keep logging the loss:"
   ]
  },
  {
   "cell_type": "code",
   "execution_count": 13,
   "metadata": {
    "ExecuteTime": {
     "end_time": "2018-06-28T18:24:50.965899Z",
     "start_time": "2018-06-28T18:24:50.945085Z"
    }
   },
   "outputs": [],
   "source": [
    "def svm_loss(preds, ys, delta=0):\n",
    "    correct = ys.argmax()\n",
    "    score_correct = preds[correct]\n",
    "    \n",
    "    loss = 0\n",
    "    \n",
    "    for i, pred in enumerate(preds):\n",
    "        loss += max(0, pred + delta - score_correct)            \n",
    "            \n",
    "    return loss"
   ]
  },
  {
   "cell_type": "markdown",
   "metadata": {},
   "source": [
    "### Helpers"
   ]
  },
  {
   "cell_type": "markdown",
   "metadata": {},
   "source": [
    "During training, we want to supervise the learning process and save the best models."
   ]
  },
  {
   "cell_type": "code",
   "execution_count": 14,
   "metadata": {
    "ExecuteTime": {
     "end_time": "2018-06-28T18:24:51.765761Z",
     "start_time": "2018-06-28T18:24:51.747734Z"
    }
   },
   "outputs": [],
   "source": [
    "from utils import ModelCheckpoint"
   ]
  },
  {
   "cell_type": "markdown",
   "metadata": {},
   "source": [
    "accuracy needs to be measured carefully here: In our simulation, we assume that the current frecency is the perfect ranking function. But because items sometimes get the same frecency scores, there can be more than one correct answer:"
   ]
  },
  {
   "cell_type": "code",
   "execution_count": 15,
   "metadata": {
    "ExecuteTime": {
     "end_time": "2018-06-28T18:24:53.435079Z",
     "start_time": "2018-06-28T18:24:53.414878Z"
    }
   },
   "outputs": [],
   "source": [
    "def rank_accuracy(y, preds):\n",
    "    correct = 0.\n",
    "    \n",
    "    for yi, pi in zip(y, preds):\n",
    "        if yi[pi.argmax()] == yi.max():\n",
    "            correct += 1\n",
    "            \n",
    "    return correct / len(y)"
   ]
  },
  {
   "cell_type": "markdown",
   "metadata": {},
   "source": [
    "The `SVMRanking` class is the main mechanism for fitting models."
   ]
  },
  {
   "cell_type": "code",
   "execution_count": 16,
   "metadata": {
    "ExecuteTime": {
     "end_time": "2018-06-28T18:24:53.941383Z",
     "start_time": "2018-06-28T18:24:53.891826Z"
    }
   },
   "outputs": [],
   "source": [
    "class SVMRanking:\n",
    "    def __init__(self, delta):\n",
    "        self.delta = delta\n",
    "        \n",
    "    def fit(self, data_generator, optimizer, num_iterations=10, callbacks=[]):\n",
    "        X, y = data_generator(1)\n",
    "        num_features = X[0].shape[1]\n",
    "        self.W = frecency_points + (np.random.random(size=(num_features)) - 0.5) * 100\n",
    "        \n",
    "        for j in range(num_iterations):\n",
    "            X, y = data_generator(4000)\n",
    "            \n",
    "            preds = self.predict(X)\n",
    "            gradient = np.zeros(num_features)\n",
    "\n",
    "            for xi, pi, yi in zip(X, preds, y):\n",
    "                correct = yi.argmax()\n",
    "                score_correct = pi[correct]\n",
    "\n",
    "                for i, predicted_score in enumerate(pi):\n",
    "                    gradient -= xi[i] * max(0, predicted_score + self.delta - score_correct)\n",
    "            \n",
    "            gradient /= len(X)\n",
    "            \n",
    "            loss = np.mean([svm_loss(pi, yi) for pi, yi in zip(self.predict(X), y)])\n",
    "            accuracy = rank_accuracy(y, model.predict(X))\n",
    "            \n",
    "            print(\"[%d/%d] training: %.5f loss, %.3f accuracy\" % (j + 1, num_iterations, loss, accuracy))\n",
    "            \n",
    "            for callback in callbacks:\n",
    "                callback(self)\n",
    "            \n",
    "            self.W += optimizer(gradient)\n",
    "            \n",
    "    def predict(self, X):\n",
    "        preds = []\n",
    "        \n",
    "        for x in X:\n",
    "            scores = x.dot(self.W)\n",
    "            preds.append(scores)\n",
    "        \n",
    "        return preds"
   ]
  },
  {
   "cell_type": "code",
   "execution_count": 23,
   "metadata": {
    "ExecuteTime": {
     "end_time": "2018-06-28T18:28:03.334755Z",
     "start_time": "2018-06-28T18:26:58.758657Z"
    }
   },
   "outputs": [
    {
     "name": "stdout",
     "output_type": "stream",
     "text": [
      "[1/48] training: 11.71683 loss, 0.738 accuracy\n",
      "[ModelCheckpoint] New best model with 0.73150 validation accuracy\n",
      "[2/48] training: 122.41008 loss, 0.731 accuracy\n",
      "validation: 0.721 accuracy\n",
      "[3/48] training: 55.80964 loss, 0.906 accuracy\n",
      "[ModelCheckpoint] New best model with 0.91160 validation accuracy\n",
      "[4/48] training: 6.76885 loss, 0.954 accuracy\n",
      "[ModelCheckpoint] New best model with 0.95830 validation accuracy\n",
      "[5/48] training: 2.21581 loss, 0.958 accuracy\n",
      "[ModelCheckpoint] New best model with 0.96020 validation accuracy\n",
      "[6/48] training: 1.10265 loss, 0.965 accuracy\n",
      "[ModelCheckpoint] New best model with 0.96490 validation accuracy\n",
      "[7/48] training: 0.85294 loss, 0.981 accuracy\n",
      "[ModelCheckpoint] New best model with 0.98130 validation accuracy\n",
      "[8/48] training: 0.57912 loss, 0.980 accuracy\n",
      "validation: 0.980 accuracy\n",
      "[9/48] training: 0.32446 loss, 0.982 accuracy\n",
      "validation: 0.981 accuracy\n",
      "[10/48] training: 0.32911 loss, 0.980 accuracy\n",
      "[ModelCheckpoint] New best model with 0.98140 validation accuracy\n",
      "[11/48] training: 0.19747 loss, 0.982 accuracy\n",
      "validation: 0.980 accuracy\n",
      "[12/48] training: 0.20725 loss, 0.976 accuracy\n",
      "validation: 0.981 accuracy\n",
      "[13/48] training: 0.13382 loss, 0.979 accuracy\n",
      "validation: 0.980 accuracy\n",
      "[14/48] training: 0.12088 loss, 0.981 accuracy\n",
      "validation: 0.980 accuracy\n",
      "[15/48] training: 0.14444 loss, 0.980 accuracy\n",
      "validation: 0.981 accuracy\n",
      "[16/48] training: 0.07397 loss, 0.981 accuracy\n",
      "validation: 0.979 accuracy\n",
      "[17/48] training: 0.11807 loss, 0.980 accuracy\n",
      "[ModelCheckpoint] New best model with 0.98220 validation accuracy\n",
      "[18/48] training: 0.10564 loss, 0.977 accuracy\n",
      "validation: 0.981 accuracy\n",
      "[19/48] training: 0.05892 loss, 0.980 accuracy\n",
      "validation: 0.981 accuracy\n",
      "[20/48] training: 0.05180 loss, 0.981 accuracy\n",
      "[ModelCheckpoint] New best model with 0.98290 validation accuracy\n",
      "[21/48] training: 0.04937 loss, 0.980 accuracy\n",
      "validation: 0.980 accuracy\n",
      "[22/48] training: 0.06325 loss, 0.977 accuracy\n",
      "validation: 0.980 accuracy\n",
      "[23/48] training: 0.02504 loss, 0.982 accuracy\n",
      "validation: 0.980 accuracy\n",
      "[24/48] training: 0.04105 loss, 0.981 accuracy\n",
      "validation: 0.980 accuracy\n",
      "[25/48] training: 0.03999 loss, 0.978 accuracy\n",
      "validation: 0.978 accuracy\n",
      "[26/48] training: 0.04406 loss, 0.980 accuracy\n",
      "validation: 0.980 accuracy\n",
      "[27/48] training: 0.03507 loss, 0.981 accuracy\n",
      "validation: 0.983 accuracy\n",
      "[28/48] training: 0.03034 loss, 0.978 accuracy\n",
      "validation: 0.981 accuracy\n",
      "[29/48] training: 0.02061 loss, 0.978 accuracy\n",
      "validation: 0.979 accuracy\n",
      "[30/48] training: 0.02439 loss, 0.979 accuracy\n",
      "validation: 0.980 accuracy\n",
      "[31/48] training: 0.01800 loss, 0.977 accuracy\n",
      "validation: 0.979 accuracy\n",
      "[32/48] training: 0.01398 loss, 0.981 accuracy\n",
      "validation: 0.981 accuracy\n",
      "[33/48] training: 0.01017 loss, 0.981 accuracy\n",
      "validation: 0.980 accuracy\n",
      "[34/48] training: 0.01032 loss, 0.985 accuracy\n",
      "validation: 0.981 accuracy\n",
      "[35/48] training: 0.00939 loss, 0.980 accuracy\n",
      "validation: 0.979 accuracy\n",
      "[36/48] training: 0.01502 loss, 0.977 accuracy\n",
      "validation: 0.979 accuracy\n",
      "[37/48] training: 0.00746 loss, 0.979 accuracy\n",
      "validation: 0.979 accuracy\n",
      "[38/48] training: 0.00704 loss, 0.979 accuracy\n",
      "validation: 0.979 accuracy\n",
      "[39/48] training: 0.00586 loss, 0.982 accuracy\n",
      "validation: 0.979 accuracy\n",
      "[40/48] training: 0.00901 loss, 0.981 accuracy\n",
      "validation: 0.979 accuracy\n",
      "[41/48] training: 0.00558 loss, 0.981 accuracy\n",
      "validation: 0.979 accuracy\n",
      "[42/48] training: 0.00382 loss, 0.980 accuracy\n",
      "validation: 0.980 accuracy\n",
      "[43/48] training: 0.00282 loss, 0.980 accuracy\n",
      "validation: 0.980 accuracy\n",
      "[44/48] training: 0.00435 loss, 0.979 accuracy\n",
      "validation: 0.979 accuracy\n",
      "[45/48] training: 0.00344 loss, 0.981 accuracy\n",
      "validation: 0.982 accuracy\n",
      "[46/48] training: 0.00313 loss, 0.976 accuracy\n",
      "validation: 0.980 accuracy\n",
      "[47/48] training: 0.00344 loss, 0.982 accuracy\n",
      "validation: 0.978 accuracy\n",
      "[48/48] training: 0.00299 loss, 0.983 accuracy\n",
      "validation: 0.982 accuracy\n"
     ]
    }
   ],
   "source": [
    "np.random.seed(0)\n",
    "model = SVMRanking(delta=0.)\n",
    "model.fit(data_generator=sample_suggestions,\n",
    "          optimizer=GradientDescent(30.),\n",
    "          num_iterations=48,\n",
    "          callbacks=[ModelCheckpoint(rank_accuracy, sample_suggestions)])"
   ]
  },
  {
   "cell_type": "code",
   "execution_count": 25,
   "metadata": {
    "ExecuteTime": {
     "end_time": "2018-06-28T19:55:46.045733Z",
     "start_time": "2018-06-28T19:54:41.976066Z"
    }
   },
   "outputs": [
    {
     "name": "stdout",
     "output_type": "stream",
     "text": [
      "[1/48] training: 11.71683 loss, 0.738 accuracy\n",
      "[ModelCheckpoint] New best model with 0.73150 validation accuracy\n",
      "[2/48] training: 13.43970 loss, 0.728 accuracy\n",
      "validation: 0.721 accuracy\n",
      "[3/48] training: 11.48569 loss, 0.748 accuracy\n",
      "[ModelCheckpoint] New best model with 0.73510 validation accuracy\n",
      "[4/48] training: 11.15089 loss, 0.749 accuracy\n",
      "validation: 0.734 accuracy\n",
      "[5/48] training: 11.64325 loss, 0.739 accuracy\n",
      "[ModelCheckpoint] New best model with 0.74280 validation accuracy\n",
      "[6/48] training: 10.64545 loss, 0.849 accuracy\n",
      "[ModelCheckpoint] New best model with 0.84070 validation accuracy\n",
      "[7/48] training: 10.95008 loss, 0.839 accuracy\n",
      "validation: 0.837 accuracy\n",
      "[8/48] training: 11.11485 loss, 0.834 accuracy\n",
      "validation: 0.838 accuracy\n",
      "[9/48] training: 9.85802 loss, 0.845 accuracy\n",
      "validation: 0.829 accuracy\n",
      "[10/48] training: 10.26959 loss, 0.839 accuracy\n",
      "validation: 0.839 accuracy\n",
      "[11/48] training: 10.19416 loss, 0.834 accuracy\n",
      "validation: 0.840 accuracy\n",
      "[12/48] training: 8.56436 loss, 0.838 accuracy\n",
      "validation: 0.838 accuracy\n",
      "[13/48] training: 8.43679 loss, 0.836 accuracy\n",
      "validation: 0.837 accuracy\n",
      "[14/48] training: 7.54865 loss, 0.838 accuracy\n",
      "validation: 0.838 accuracy\n",
      "[15/48] training: 6.76996 loss, 0.846 accuracy\n",
      "[ModelCheckpoint] New best model with 0.84470 validation accuracy\n",
      "[16/48] training: 6.35255 loss, 0.836 accuracy\n",
      "validation: 0.841 accuracy\n",
      "[17/48] training: 5.25627 loss, 0.845 accuracy\n",
      "validation: 0.841 accuracy\n",
      "[18/48] training: 4.95672 loss, 0.836 accuracy\n",
      "validation: 0.842 accuracy\n",
      "[19/48] training: 3.83310 loss, 0.847 accuracy\n",
      "[ModelCheckpoint] New best model with 0.85160 validation accuracy\n",
      "[20/48] training: 3.37146 loss, 0.852 accuracy\n",
      "[ModelCheckpoint] New best model with 0.86440 validation accuracy\n",
      "[21/48] training: 3.19823 loss, 0.859 accuracy\n",
      "[ModelCheckpoint] New best model with 0.86970 validation accuracy\n",
      "[22/48] training: 2.33854 loss, 0.868 accuracy\n",
      "validation: 0.859 accuracy\n",
      "[23/48] training: 2.25716 loss, 0.868 accuracy\n",
      "validation: 0.864 accuracy\n",
      "[24/48] training: 1.64944 loss, 0.868 accuracy\n",
      "validation: 0.863 accuracy\n",
      "[25/48] training: 1.81462 loss, 0.868 accuracy\n",
      "validation: 0.868 accuracy\n",
      "[26/48] training: 1.41966 loss, 0.950 accuracy\n",
      "[ModelCheckpoint] New best model with 0.94650 validation accuracy\n",
      "[27/48] training: 1.26415 loss, 0.948 accuracy\n",
      "validation: 0.946 accuracy\n",
      "[28/48] training: 0.97492 loss, 0.945 accuracy\n",
      "[ModelCheckpoint] New best model with 0.94890 validation accuracy\n",
      "[29/48] training: 0.69980 loss, 0.961 accuracy\n",
      "[ModelCheckpoint] New best model with 0.95650 validation accuracy\n",
      "[30/48] training: 0.63502 loss, 0.949 accuracy\n",
      "validation: 0.948 accuracy\n",
      "[31/48] training: 0.45750 loss, 0.954 accuracy\n",
      "validation: 0.951 accuracy\n",
      "[32/48] training: 0.38181 loss, 0.948 accuracy\n",
      "validation: 0.953 accuracy\n",
      "[33/48] training: 0.30913 loss, 0.942 accuracy\n",
      "validation: 0.946 accuracy\n",
      "[34/48] training: 0.19486 loss, 0.970 accuracy\n",
      "[ModelCheckpoint] New best model with 0.96670 validation accuracy\n",
      "[35/48] training: 0.12802 loss, 0.889 accuracy\n",
      "validation: 0.894 accuracy\n",
      "[36/48] training: 0.12336 loss, 0.969 accuracy\n",
      "[ModelCheckpoint] New best model with 0.97210 validation accuracy\n",
      "[37/48] training: 0.04596 loss, 0.970 accuracy\n",
      "validation: 0.972 accuracy\n",
      "[38/48] training: 0.04869 loss, 0.973 accuracy\n",
      "validation: 0.972 accuracy\n",
      "[39/48] training: 0.04960 loss, 0.970 accuracy\n",
      "validation: 0.972 accuracy\n",
      "[40/48] training: 0.03582 loss, 0.964 accuracy\n",
      "validation: 0.968 accuracy\n",
      "[41/48] training: 0.03337 loss, 0.973 accuracy\n",
      "[ModelCheckpoint] New best model with 0.97330 validation accuracy\n",
      "[42/48] training: 0.01440 loss, 0.971 accuracy\n",
      "validation: 0.973 accuracy\n",
      "[43/48] training: 0.01551 loss, 0.973 accuracy\n",
      "validation: 0.970 accuracy\n",
      "[44/48] training: 0.01612 loss, 0.971 accuracy\n",
      "validation: 0.972 accuracy\n",
      "[45/48] training: 0.00739 loss, 0.972 accuracy\n",
      "validation: 0.973 accuracy\n",
      "[46/48] training: 0.00419 loss, 0.975 accuracy\n",
      "validation: 0.972 accuracy\n",
      "[47/48] training: 0.00507 loss, 0.971 accuracy\n",
      "validation: 0.971 accuracy\n",
      "[48/48] training: 0.00589 loss, 0.974 accuracy\n",
      "validation: 0.971 accuracy\n"
     ]
    }
   ],
   "source": [
    "np.random.seed(0)\n",
    "opt = AdaptiveGradientDescent(0.1, len(frecency_points))\n",
    "model = SVMRanking(delta=0.)\n",
    "model.fit(data_generator=sample_suggestions,\n",
    "          optimizer=opt,\n",
    "          num_iterations=48,\n",
    "          callbacks=[ModelCheckpoint(rank_accuracy,  sample_suggestions)])"
   ]
  },
  {
   "cell_type": "markdown",
   "metadata": {},
   "source": [
    "After fitting, we can compare the learned weights with the true frecency scores. Note that the values themselves are very different now but that the ordering is nearly the same as in the real algorithm. This shows that we are ranking very similarly to the real algorithm but that the optimization process did not fully reach the global optimum."
   ]
  },
  {
   "cell_type": "code",
   "execution_count": 26,
   "metadata": {
    "ExecuteTime": {
     "end_time": "2018-06-28T19:57:03.107759Z",
     "start_time": "2018-06-28T19:57:03.051039Z"
    }
   },
   "outputs": [
    {
     "data": {
      "text/plain": [
       "[(12.0, 14.328107294741949),\n",
       " (14.0, 10.147936225293185),\n",
       " (20.0, 34.335460264505343),\n",
       " (36.0, 34.335334892244539),\n",
       " (42.0, 34.338056202528762),\n",
       " (60.0, 34.335892421808076),\n",
       " (60.0, 34.350521497586705),\n",
       " (70.0, 34.335328740904643),\n",
       " (84.0, 61.827233423435842),\n",
       " (98.0, 61.827444877537495),\n",
       " (100.0, 61.827442586893319),\n",
       " (120.0, 116.45108591309054),\n",
       " (140.0, 116.45141094451398),\n",
       " (140.0, 116.45498071467374),\n",
       " (200.0, 244.46689170495839)]"
      ]
     },
     "execution_count": 26,
     "metadata": {},
     "output_type": "execute_result"
    }
   ],
   "source": [
    "ais = np.argsort(frecency_points)\n",
    "zip(frecency_points[ais], model.W[ais])"
   ]
  },
  {
   "cell_type": "markdown",
   "metadata": {},
   "source": [
    "Still, the model is correct most of the time:"
   ]
  },
  {
   "cell_type": "code",
   "execution_count": 27,
   "metadata": {
    "ExecuteTime": {
     "end_time": "2018-06-28T19:57:07.387570Z",
     "start_time": "2018-06-28T19:57:06.482259Z"
    }
   },
   "outputs": [
    {
     "data": {
      "text/plain": [
       "0.97"
      ]
     },
     "execution_count": 27,
     "metadata": {},
     "output_type": "execute_result"
    }
   ],
   "source": [
    "X, y = sample_suggestions(10000)\n",
    "rank_accuracy(y, model.predict(X))"
   ]
  },
  {
   "cell_type": "markdown",
   "metadata": {},
   "source": [
    "### Side note: Evaluation during training in production\n",
    "\n",
    "If we only use 400 data points for validating the current model, then this is not enough to properly assess the model quality.\n",
    "The accuracies jump too much.\n",
    "However, this evaluation could still be used to test that the model is not completely off."
   ]
  },
  {
   "cell_type": "code",
   "execution_count": 30,
   "metadata": {
    "ExecuteTime": {
     "end_time": "2018-06-28T19:59:18.663021Z",
     "start_time": "2018-06-28T19:58:45.495749Z"
    }
   },
   "outputs": [
    {
     "data": {
      "text/plain": [
       "(array([   3.,   10.,   30.,  114.,  189.,  234.,  308.,   81.,   26.,    4.]),\n",
       " array([ 0.94   ,  0.94575,  0.9515 ,  0.95725,  0.963  ,  0.96875,\n",
       "         0.9745 ,  0.98025,  0.986  ,  0.99175,  0.9975 ]),\n",
       " <a list of 10 Patch objects>)"
      ]
     },
     "execution_count": 30,
     "metadata": {},
     "output_type": "execute_result"
    },
    {
     "data": {
      "image/png": "[encoded data removed]",
      "text/plain": [
       "<matplotlib.figure.Figure at 0x7f9d480df390>"
      ]
     },
     "metadata": {},
     "output_type": "display_data"
    }
   ],
   "source": [
    "X, y = sample_suggestions(1000 * 400)\n",
    "accuracies = []\n",
    "\n",
    "for i in range(0, len(X) - 400, 400):\n",
    "    Xi, yi = X[i:i+400], y[i:i+400]\n",
    "    acc = rank_accuracy(yi, model.predict(Xi))\n",
    "    accuracies.append(acc)\n",
    "    \n",
    "plt.hist(sorted(accuracies))"
   ]
  },
  {
   "cell_type": "markdown",
   "metadata": {},
   "source": [
    "## Frequency\n",
    "\n",
    "We still need to take into account that users visit links more than once.\n",
    "How often a user visits a link is sampled from an exponential distribution in this simulation:"
   ]
  },
  {
   "cell_type": "code",
   "execution_count": 31,
   "metadata": {
    "ExecuteTime": {
     "end_time": "2018-06-28T19:59:59.923769Z",
     "start_time": "2018-06-28T19:59:59.656552Z"
    }
   },
   "outputs": [
    {
     "data": {
      "text/plain": [
       "(array([ 496.,  259.,  118.,   61.,   31.,   15.,    9.,    5.,    2.,    4.]),\n",
       " array([  0. ,   4.9,   9.8,  14.7,  19.6,  24.5,  29.4,  34.3,  39.2,\n",
       "         44.1,  49. ]),\n",
       " <a list of 10 Patch objects>)"
      ]
     },
     "execution_count": 31,
     "metadata": {},
     "output_type": "execute_result"
    },
    {
     "data": {
      "image/png": "[encoded data removed]",
      "text/plain": [
       "<matplotlib.figure.Figure at 0x7f9d2bdf2c50>"
      ]
     },
     "metadata": {},
     "output_type": "display_data"
    }
   ],
   "source": [
    "frequencies = np.int32(np.random.exponential(7, size=(1000)))\n",
    "plt.hist(frequencies)"
   ]
  },
  {
   "cell_type": "code",
   "execution_count": 32,
   "metadata": {
    "ExecuteTime": {
     "end_time": "2018-06-28T20:00:02.696380Z",
     "start_time": "2018-06-28T20:00:02.670029Z"
    }
   },
   "outputs": [],
   "source": [
    "def sample_url_features(num_samples):\n",
    "    frequencies = np.int32(np.random.exponential(7, size=num_samples)) + 1\n",
    "    frequencies = np.int32(np.ones(num_samples))\n",
    "    X = []\n",
    "    \n",
    "    for frequency in frequencies:\n",
    "        num_sampled = min(10, frequency)\n",
    "        features = sample_weighted(num_sampled, weights).sum(axis=0)\n",
    "        X.append(frequency / num_sampled * features)\n",
    "        \n",
    "    return np.array(X)"
   ]
  },
  {
   "cell_type": "code",
   "execution_count": 34,
   "metadata": {
    "ExecuteTime": {
     "end_time": "2018-06-28T20:01:26.276975Z",
     "start_time": "2018-06-28T20:00:22.085883Z"
    }
   },
   "outputs": [
    {
     "name": "stdout",
     "output_type": "stream",
     "text": [
      "[1/48] training: 10.96645 loss, 0.742 accuracy\n",
      "[ModelCheckpoint] New best model with 0.73000 validation accuracy\n",
      "[2/48] training: 2.53767 loss, 0.917 accuracy\n",
      "[ModelCheckpoint] New best model with 0.92450 validation accuracy\n",
      "[3/48] training: 0.92663 loss, 0.934 accuracy\n",
      "[ModelCheckpoint] New best model with 0.93510 validation accuracy\n",
      "[4/48] training: 0.31598 loss, 0.948 accuracy\n",
      "[ModelCheckpoint] New best model with 0.94480 validation accuracy\n",
      "[5/48] training: 0.25366 loss, 0.950 accuracy\n",
      "[ModelCheckpoint] New best model with 0.94820 validation accuracy\n",
      "[6/48] training: 0.13407 loss, 0.959 accuracy\n",
      "[ModelCheckpoint] New best model with 0.95080 validation accuracy\n",
      "[7/48] training: 0.13610 loss, 0.954 accuracy\n",
      "[ModelCheckpoint] New best model with 0.95680 validation accuracy\n",
      "[8/48] training: 0.11580 loss, 0.952 accuracy\n",
      "validation: 0.952 accuracy\n",
      "[9/48] training: 0.07629 loss, 0.954 accuracy\n",
      "validation: 0.956 accuracy\n",
      "[10/48] training: 0.08351 loss, 0.956 accuracy\n",
      "validation: 0.953 accuracy\n",
      "[11/48] training: 0.05824 loss, 0.958 accuracy\n",
      "validation: 0.952 accuracy\n",
      "[12/48] training: 0.05965 loss, 0.955 accuracy\n",
      "[ModelCheckpoint] New best model with 0.95760 validation accuracy\n",
      "[13/48] training: 0.03941 loss, 0.956 accuracy\n",
      "validation: 0.954 accuracy\n",
      "[14/48] training: 0.03552 loss, 0.955 accuracy\n",
      "[ModelCheckpoint] New best model with 0.95810 validation accuracy\n",
      "[15/48] training: 0.04687 loss, 0.950 accuracy\n",
      "validation: 0.958 accuracy\n",
      "[16/48] training: 0.02949 loss, 0.971 accuracy\n",
      "[ModelCheckpoint] New best model with 0.96730 validation accuracy\n",
      "[17/48] training: 0.03390 loss, 0.965 accuracy\n",
      "[ModelCheckpoint] New best model with 0.96850 validation accuracy\n",
      "[18/48] training: 0.02729 loss, 0.968 accuracy\n",
      "[ModelCheckpoint] New best model with 0.96960 validation accuracy\n",
      "[19/48] training: 0.02786 loss, 0.965 accuracy\n",
      "validation: 0.967 accuracy\n",
      "[20/48] training: 0.02110 loss, 0.967 accuracy\n",
      "validation: 0.967 accuracy\n",
      "[21/48] training: 0.01320 loss, 0.970 accuracy\n",
      "validation: 0.967 accuracy\n",
      "[22/48] training: 0.01418 loss, 0.965 accuracy\n",
      "[ModelCheckpoint] New best model with 0.96990 validation accuracy\n",
      "[23/48] training: 0.00934 loss, 0.965 accuracy\n",
      "validation: 0.966 accuracy\n",
      "[24/48] training: 0.01123 loss, 0.977 accuracy\n",
      "[ModelCheckpoint] New best model with 0.97540 validation accuracy\n",
      "[25/48] training: 0.00969 loss, 0.973 accuracy\n",
      "[ModelCheckpoint] New best model with 0.97700 validation accuracy\n",
      "[26/48] training: 0.00723 loss, 0.980 accuracy\n",
      "validation: 0.974 accuracy\n",
      "[27/48] training: 0.00981 loss, 0.976 accuracy\n",
      "validation: 0.975 accuracy\n",
      "[28/48] training: 0.00641 loss, 0.978 accuracy\n",
      "[ModelCheckpoint] New best model with 0.97800 validation accuracy\n",
      "[29/48] training: 0.00493 loss, 0.974 accuracy\n",
      "validation: 0.977 accuracy\n",
      "[30/48] training: 0.00503 loss, 0.976 accuracy\n",
      "validation: 0.976 accuracy\n",
      "[31/48] training: 0.00742 loss, 0.975 accuracy\n",
      "validation: 0.978 accuracy\n",
      "[32/48] training: 0.00331 loss, 0.976 accuracy\n",
      "validation: 0.976 accuracy\n",
      "[33/48] training: 0.00417 loss, 0.978 accuracy\n",
      "validation: 0.976 accuracy\n",
      "[34/48] training: 0.00401 loss, 0.977 accuracy\n",
      "validation: 0.975 accuracy\n",
      "[35/48] training: 0.00231 loss, 0.970 accuracy\n",
      "validation: 0.976 accuracy\n",
      "[36/48] training: 0.00206 loss, 0.976 accuracy\n",
      "validation: 0.977 accuracy\n",
      "[37/48] training: 0.00242 loss, 0.981 accuracy\n",
      "validation: 0.976 accuracy\n",
      "[38/48] training: 0.00161 loss, 0.980 accuracy\n",
      "validation: 0.978 accuracy\n",
      "[39/48] training: 0.00157 loss, 0.974 accuracy\n",
      "validation: 0.975 accuracy\n",
      "[40/48] training: 0.00192 loss, 0.976 accuracy\n",
      "validation: 0.974 accuracy\n",
      "[41/48] training: 0.00155 loss, 0.980 accuracy\n",
      "[ModelCheckpoint] New best model with 0.98280 validation accuracy\n",
      "[42/48] training: 0.00195 loss, 0.985 accuracy\n",
      "[ModelCheckpoint] New best model with 0.98290 validation accuracy\n",
      "[43/48] training: 0.00154 loss, 0.986 accuracy\n",
      "[ModelCheckpoint] New best model with 0.98410 validation accuracy\n",
      "[44/48] training: 0.00111 loss, 0.985 accuracy\n",
      "validation: 0.984 accuracy\n",
      "[45/48] training: 0.00115 loss, 0.985 accuracy\n",
      "validation: 0.983 accuracy\n",
      "[46/48] training: 0.00080 loss, 0.983 accuracy\n",
      "validation: 0.982 accuracy\n",
      "[47/48] training: 0.00107 loss, 0.983 accuracy\n",
      "validation: 0.983 accuracy\n",
      "[48/48] training: 0.00087 loss, 0.986 accuracy\n",
      "validation: 0.982 accuracy\n"
     ]
    }
   ],
   "source": [
    "model = SVMRanking(delta=0.)\n",
    "model.fit(data_generator=sample_suggestions,\n",
    "          optimizer=GradientDescent(30.),\n",
    "          num_iterations=48,\n",
    "          callbacks=[ModelCheckpoint(rank_accuracy, sample_suggestions, 10000)])"
   ]
  },
  {
   "cell_type": "markdown",
   "metadata": {},
   "source": [
    "## Federated Learning\n",
    "\n",
    "To implement a federated version of the model above, we have to create a `Client` class that completely encapsulates training data. Only the `Client` can compute gradients based on its own data. While the `Server` is the main class for controlling the training process, it can only request gradients from clients."
   ]
  },
  {
   "cell_type": "code",
   "execution_count": 35,
   "metadata": {
    "ExecuteTime": {
     "end_time": "2018-06-28T20:01:26.329494Z",
     "start_time": "2018-06-28T20:01:26.279253Z"
    }
   },
   "outputs": [],
   "source": [
    "import random"
   ]
  },
  {
   "cell_type": "code",
   "execution_count": 36,
   "metadata": {
    "ExecuteTime": {
     "end_time": "2018-06-28T20:01:26.474925Z",
     "start_time": "2018-06-28T20:01:26.331696Z"
    }
   },
   "outputs": [],
   "source": [
    "class Server:\n",
    "    def __init__(self, clients):\n",
    "        self.clients = clients\n",
    "        \n",
    "        num_features = len(frecency_points)\n",
    "        self.W = frecency_points + (np.random.random(size=(num_features)) - 0.5) * 100\n",
    "    \n",
    "    def fit(self, optimizer, num_iterations, num_clients_per_iteration, callbacks=[]):\n",
    "        for j in range(num_iterations):\n",
    "            clients = random.sample(self.clients, num_clients_per_iteration)\n",
    "            updates, losses = zip(*[client.request_update(self) for client in clients])\n",
    "            \n",
    "            gradient = np.mean(updates, axis=0)\n",
    "            loss = np.mean(losses, axis=0)\n",
    "            \n",
    "            print(\"[%d/%d] training loss across clients %.5f\" % (j + 1, num_iterations, loss))\n",
    "            \n",
    "            for callback in callbacks:\n",
    "                callback(self)\n",
    "            \n",
    "            self.W += optimizer(gradient)\n",
    "            \n",
    "    def predict(self, X):\n",
    "        preds = []\n",
    "        \n",
    "        for x in X:\n",
    "            scores = x.dot(self.W)\n",
    "            preds.append(scores)\n",
    "        \n",
    "        return preds"
   ]
  },
  {
   "cell_type": "code",
   "execution_count": 37,
   "metadata": {
    "ExecuteTime": {
     "end_time": "2018-06-28T20:01:26.610674Z",
     "start_time": "2018-06-28T20:01:26.476914Z"
    }
   },
   "outputs": [],
   "source": [
    "class Client:\n",
    "    def __init__(self, data_generator, delta=0):\n",
    "        self.data_generator = data_generator\n",
    "        self.delta = 0\n",
    "    \n",
    "    def request_update(self, model):\n",
    "        X, y = self.data_generator()\n",
    "        preds = model.predict(X)\n",
    "        \n",
    "        num_features = X[0].shape[1]\n",
    "        gradient = np.zeros(num_features)\n",
    "        loss = 0\n",
    "\n",
    "        for xi, pi, yi in zip(X, preds, y):\n",
    "            correct = yi.argmax()\n",
    "            score_correct = pi[correct]\n",
    "\n",
    "            for i, predicted_score in enumerate(pi):\n",
    "                gradient -= xi[i] * max(0, predicted_score + self.delta - score_correct)\n",
    "            \n",
    "            loss += svm_loss(pi, yi)\n",
    "                \n",
    "        gradient /= len(X)\n",
    "        loss /= len(X)\n",
    "        \n",
    "        return gradient, loss"
   ]
  },
  {
   "cell_type": "markdown",
   "metadata": {},
   "source": [
    "How many data points a user has in each round is sampled from the following exponential distribution:"
   ]
  },
  {
   "cell_type": "code",
   "execution_count": 38,
   "metadata": {
    "ExecuteTime": {
     "end_time": "2018-06-28T20:01:26.976189Z",
     "start_time": "2018-06-28T20:01:26.612622Z"
    }
   },
   "outputs": [
    {
     "data": {
      "text/plain": [
       "(array([ 718.,  198.,   64.,    0.,   11.,    7.,    0.,    1.,    0.,    1.]),\n",
       " array([ 1. ,  1.7,  2.4,  3.1,  3.8,  4.5,  5.2,  5.9,  6.6,  7.3,  8. ]),\n",
       " <a list of 10 Patch objects>)"
      ]
     },
     "execution_count": 38,
     "metadata": {},
     "output_type": "execute_result"
    },
    {
     "data": {
      "image/png": "[encoded data removed]",
      "text/plain": [
       "<matplotlib.figure.Figure at 0x7f9d2c1e9e10>"
      ]
     },
     "metadata": {},
     "output_type": "display_data"
    }
   ],
   "source": [
    "num_datapoints = np.int32(np.random.exponential(.8, size=(1000))) + 1\n",
    "plt.hist(num_datapoints)"
   ]
  },
  {
   "cell_type": "markdown",
   "metadata": {},
   "source": [
    "We have 5000 clients:"
   ]
  },
  {
   "cell_type": "code",
   "execution_count": 40,
   "metadata": {
    "ExecuteTime": {
     "end_time": "2018-06-28T20:02:07.322005Z",
     "start_time": "2018-06-28T20:02:07.288727Z"
    }
   },
   "outputs": [],
   "source": [
    "clients = [Client(lambda: sample_suggestions(np.int32(np.random.exponential(.8)) + 1)) for _ in range(5000)]"
   ]
  },
  {
   "cell_type": "code",
   "execution_count": 42,
   "metadata": {
    "ExecuteTime": {
     "end_time": "2018-06-28T20:02:59.026373Z",
     "start_time": "2018-06-28T20:02:17.097306Z"
    }
   },
   "outputs": [
    {
     "name": "stdout",
     "output_type": "stream",
     "text": [
      "[1/48] training loss across clients 6.35107\n",
      "[ModelCheckpoint] New best model with 0.77460 validation accuracy\n",
      "[2/48] training loss across clients 8.79592\n",
      "[ModelCheckpoint] New best model with 0.92450 validation accuracy\n",
      "[3/48] training loss across clients 3.18923\n",
      "validation: 0.924 accuracy\n",
      "[4/48] training loss across clients 1.12846\n",
      "[ModelCheckpoint] New best model with 0.95640 validation accuracy\n",
      "[5/48] training loss across clients 0.71365\n",
      "validation: 0.956 accuracy\n",
      "[6/48] training loss across clients 0.36722\n",
      "validation: 0.955 accuracy\n",
      "[7/48] training loss across clients 0.43015\n",
      "validation: 0.955 accuracy\n",
      "[8/48] training loss across clients 0.09179\n",
      "[ModelCheckpoint] New best model with 0.95710 validation accuracy\n",
      "[9/48] training loss across clients 0.10533\n",
      "[ModelCheckpoint] New best model with 0.95750 validation accuracy\n",
      "[10/48] training loss across clients 0.07912\n",
      "[ModelCheckpoint] New best model with 0.96080 validation accuracy\n",
      "[11/48] training loss across clients 0.05718\n",
      "validation: 0.956 accuracy\n",
      "[12/48] training loss across clients 0.05109\n",
      "validation: 0.958 accuracy\n",
      "[13/48] training loss across clients 0.07113\n",
      "validation: 0.958 accuracy\n",
      "[14/48] training loss across clients 0.01562\n",
      "validation: 0.957 accuracy\n",
      "[15/48] training loss across clients 0.03127\n",
      "[ModelCheckpoint] New best model with 0.96300 validation accuracy\n",
      "[16/48] training loss across clients 0.04024\n",
      "validation: 0.955 accuracy\n",
      "[17/48] training loss across clients 0.05899\n",
      "validation: 0.955 accuracy\n",
      "[18/48] training loss across clients 0.04991\n",
      "validation: 0.955 accuracy\n",
      "[19/48] training loss across clients 0.04651\n",
      "validation: 0.962 accuracy\n",
      "[20/48] training loss across clients 0.01611\n",
      "validation: 0.959 accuracy\n",
      "[21/48] training loss across clients 0.01536\n",
      "validation: 0.960 accuracy\n",
      "[22/48] training loss across clients 0.00382\n",
      "validation: 0.958 accuracy\n",
      "[23/48] training loss across clients 0.01193\n",
      "validation: 0.961 accuracy\n",
      "[24/48] training loss across clients 0.00402\n",
      "[ModelCheckpoint] New best model with 0.96400 validation accuracy\n",
      "[25/48] training loss across clients 0.01917\n",
      "validation: 0.957 accuracy\n",
      "[26/48] training loss across clients 0.00853\n",
      "validation: 0.961 accuracy\n",
      "[27/48] training loss across clients 0.00749\n",
      "validation: 0.961 accuracy\n",
      "[28/48] training loss across clients 0.01850\n",
      "validation: 0.963 accuracy\n",
      "[29/48] training loss across clients 0.00719\n",
      "validation: 0.961 accuracy\n",
      "[30/48] training loss across clients 0.00695\n",
      "validation: 0.961 accuracy\n",
      "[31/48] training loss across clients 0.01453\n",
      "validation: 0.964 accuracy\n",
      "[32/48] training loss across clients 0.00466\n",
      "[ModelCheckpoint] New best model with 0.96460 validation accuracy\n",
      "[33/48] training loss across clients 0.00563\n",
      "validation: 0.963 accuracy\n",
      "[34/48] training loss across clients 0.00348\n",
      "[ModelCheckpoint] New best model with 0.97060 validation accuracy\n",
      "[35/48] training loss across clients 0.00358\n",
      "validation: 0.967 accuracy\n",
      "[36/48] training loss across clients 0.00351\n",
      "validation: 0.970 accuracy\n",
      "[37/48] training loss across clients 0.00156\n",
      "validation: 0.969 accuracy\n",
      "[38/48] training loss across clients 0.00038\n",
      "validation: 0.966 accuracy\n",
      "[39/48] training loss across clients 0.00237\n",
      "validation: 0.967 accuracy\n",
      "[40/48] training loss across clients 0.00622\n",
      "validation: 0.969 accuracy\n",
      "[41/48] training loss across clients 0.00205\n",
      "validation: 0.967 accuracy\n",
      "[42/48] training loss across clients 0.00295\n",
      "validation: 0.967 accuracy\n",
      "[43/48] training loss across clients 0.00009\n",
      "validation: 0.966 accuracy\n",
      "[44/48] training loss across clients 0.00037\n",
      "validation: 0.968 accuracy\n",
      "[45/48] training loss across clients 0.00123\n",
      "validation: 0.968 accuracy\n",
      "[46/48] training loss across clients 0.00255\n",
      "validation: 0.964 accuracy\n",
      "[47/48] training loss across clients 0.00370\n",
      "validation: 0.967 accuracy\n",
      "[48/48] training loss across clients 0.00001\n",
      "validation: 0.968 accuracy\n"
     ]
    }
   ],
   "source": [
    "server = Server(clients)\n",
    "server.fit(optimizer=GradientDescent(30.),\n",
    "          num_iterations=48,\n",
    "           num_clients_per_iteration=400,\n",
    "          callbacks=[ModelCheckpoint(rank_accuracy, sample_suggestions, 10000)])"
   ]
  },
  {
   "cell_type": "markdown",
   "metadata": {},
   "source": [
    "=> The model quality improved from 70% to >97% validation accuracy."
   ]
  },
  {
   "cell_type": "markdown",
   "metadata": {},
   "source": [
    "# Notes \n",
    "\n",
    "Simplifications made:\n",
    "\n",
    "- All users sample from the same distribution\n",
    "- `ModelCheckpoint` cannot be based on validation data in the actual implementation\n",
    "- Users should run more than one SGD iteration locally\n",
    "\n",
    "## To make fitting easier\n",
    "\n",
    "- Fair initialization\n",
    "- Normalize data (0-center)\n",
    "- Remove features with a value of 0\n",
    "\n",
    "## Still missing\n",
    "\n",
    "- Implement frequency part (switch from one-hot encoding to up to sum of 10 and add multiplicative factor)"
   ]
  }
 ],
 "metadata": {
  "anaconda-cloud": {},
  "kernelspec": {
   "display_name": "Python [conda root]",
   "language": "python",
   "name": "conda-root-py"
  },
  "language_info": {
   "codemirror_mode": {
    "name": "ipython",
    "version": 2
   },
   "file_extension": ".py",
   "mimetype": "text/x-python",
   "name": "python",
   "nbconvert_exporter": "python",
   "pygments_lexer": "ipython2",
   "version": "2.7.12"
  },
  "toc": {
   "nav_menu": {},
   "number_sections": true,
   "sideBar": true,
   "skip_h1_title": false,
   "toc_cell": false,
   "toc_position": {},
   "toc_section_display": "block",
   "toc_window_display": true
  }
 },
 "nbformat": 4,
 "nbformat_minor": 1
}
