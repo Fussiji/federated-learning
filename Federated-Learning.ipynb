{
 "cells": [
  {
   "cell_type": "markdown",
   "metadata": {},
   "source": [
    "\n",
    "# Federated Learning"
   ]
  },
  {
   "cell_type": "markdown",
   "metadata": {},
   "source": [
    "## Frecency Sampling\n",
    "\n",
    "To be able to quickly prototype the Federated Learning algorithm, a dataset is required.\n",
    "This notebook is based on a fake frecency dataset that was designed to be very interpretable and at the same time close to the actual data.\n",
    "The assumption for the data generation is that the current frecency algorithm is perfect. By sampling based on this axiom, we can check if the algorithm really finds the global optimum."
   ]
  },
  {
   "cell_type": "code",
   "execution_count": 1,
   "metadata": {
    "ExecuteTime": {
     "end_time": "2018-05-25T00:11:49.696537Z",
     "start_time": "2018-05-25T00:11:49.102489Z"
    }
   },
   "outputs": [],
   "source": [
    "import numpy as np\n",
    "import matplotlib.pyplot as plt\n",
    "%matplotlib inline"
   ]
  },
  {
   "cell_type": "markdown",
   "metadata": {},
   "source": [
    "### Sampling the model input"
   ]
  },
  {
   "cell_type": "markdown",
   "metadata": {},
   "source": [
    "These are weights that describe how common certain features are. For `recency` we assume a uniform distribution over time, for `type` numbers were chosen that intuitively seem to be reasonable."
   ]
  },
  {
   "cell_type": "code",
   "execution_count": 2,
   "metadata": {
    "ExecuteTime": {
     "end_time": "2018-05-25T00:11:59.987439Z",
     "start_time": "2018-05-25T00:11:59.981884Z"
    }
   },
   "outputs": [],
   "source": [
    "type_weights = {\n",
    "    \"visited\": 0.6,\n",
    "    \"typed\": 0.2,\n",
    "    \"bookmarked\": 0.2,\n",
    "    #\"other_type\": 0.1\n",
    "}"
   ]
  },
  {
   "cell_type": "markdown",
   "metadata": {},
   "source": [
    "**Note:** Actually there's also a feature `other_type` which has a weight of `0` in the original frecency algorithm, i.e. it's not really used. If we use this feature for this training process, it adds noise to the model because the model has not enough data to learn that this feature does not really add value. "
   ]
  },
  {
   "cell_type": "code",
   "execution_count": 3,
   "metadata": {
    "ExecuteTime": {
     "end_time": "2018-05-25T00:12:00.271182Z",
     "start_time": "2018-05-25T00:12:00.265738Z"
    }
   },
   "outputs": [],
   "source": [
    "recency_weights = {\n",
    "    \"4-days\": 0.03,\n",
    "    \"14-days\": 0.05,\n",
    "    \"31-days\": 0.1,\n",
    "    \"90-days\": 0.32,\n",
    "    \"other_recency\": 0.5\n",
    "}"
   ]
  },
  {
   "cell_type": "code",
   "execution_count": 4,
   "metadata": {
    "ExecuteTime": {
     "end_time": "2018-05-25T00:12:00.425536Z",
     "start_time": "2018-05-25T00:12:00.419890Z"
    }
   },
   "outputs": [],
   "source": [
    "recency_weights = {\n",
    "    \"4-days\": 0.15,\n",
    "    \"14-days\": 0.15,\n",
    "    \"31-days\": 0.15,\n",
    "    \"90-days\": 0.2,\n",
    "    \"other_recency\": 0.35\n",
    "}"
   ]
  },
  {
   "cell_type": "markdown",
   "metadata": {},
   "source": [
    "For the simulation, it seems to be a fair assumption that `type` and `recency` are independent of each other.\n",
    "This means we can just multiply the probabilities.\n",
    "\n",
    "This is probably not completely true, since users likely visit bookmarks more often, but it makes things easier here and the probabilities are hard to estimate well anyways."
   ]
  },
  {
   "cell_type": "code",
   "execution_count": 5,
   "metadata": {
    "ExecuteTime": {
     "end_time": "2018-05-25T00:12:00.744785Z",
     "start_time": "2018-05-25T00:12:00.735354Z"
    }
   },
   "outputs": [],
   "source": [
    "def combine_dicts_multiplicatively(dict1, dict2):\n",
    "    \"\"\"\n",
    "    Returns a new dict where the keys consist of all pairs of keys from the input\n",
    "    dictionaries and the values correspond to the respective multiplied values.\n",
    "    \"\"\"\n",
    "    weights = {}\n",
    "\n",
    "    for key1, weight1 in dict1.items():\n",
    "        for key2, weight2 in dict2.items():\n",
    "            key = (key1, key2)\n",
    "            weight = weight1 * weight2\n",
    "            weights[key] = weight\n",
    "            \n",
    "    return weights"
   ]
  },
  {
   "cell_type": "code",
   "execution_count": 6,
   "metadata": {
    "ExecuteTime": {
     "end_time": "2018-05-25T00:12:00.889581Z",
     "start_time": "2018-05-25T00:12:00.885447Z"
    }
   },
   "outputs": [],
   "source": [
    "weights = combine_dicts_multiplicatively(type_weights, recency_weights)"
   ]
  },
  {
   "cell_type": "markdown",
   "metadata": {},
   "source": [
    "A one-hot representation makes it easier to implement the rest of the formulas. numpy allows us to generate this easily using a permutation of the identity matrix."
   ]
  },
  {
   "cell_type": "code",
   "execution_count": 7,
   "metadata": {
    "ExecuteTime": {
     "end_time": "2018-05-25T00:12:01.218688Z",
     "start_time": "2018-05-25T00:12:01.214371Z"
    }
   },
   "outputs": [],
   "source": [
    "def one_hot(num_choices, vector):\n",
    "    return np.eye(num_choices)[vector]"
   ]
  },
  {
   "cell_type": "markdown",
   "metadata": {},
   "source": [
    "The input vector to the model is 20-dimensional: One field for every combination of `type` and `recency`.\n",
    "In the frecency algorithm, we consider the last ten visits to the URL.\n",
    "Thus, the sum of all elements of the vector is a natural number between 1 and 10.\n",
    "\n",
    "(Since `other-type` is commented out, it's only 15-dimensional for now.)"
   ]
  },
  {
   "cell_type": "code",
   "execution_count": 8,
   "metadata": {
    "ExecuteTime": {
     "end_time": "2018-05-25T00:12:01.526411Z",
     "start_time": "2018-05-25T00:12:01.519477Z"
    }
   },
   "outputs": [],
   "source": [
    "def sample_weighted(num_samples, weight_dict):\n",
    "    \"\"\"Randomly sample from a dict using the values as probabilities\"\"\"\n",
    "    num_choices = len(weight_dict)\n",
    "    choice_weights = weight_dict.values()\n",
    "    samples = np.random.choice(num_choices, num_samples, p=choice_weights)\n",
    "    return one_hot(num_choices, samples)"
   ]
  },
  {
   "cell_type": "code",
   "execution_count": 9,
   "metadata": {
    "ExecuteTime": {
     "end_time": "2018-05-25T00:12:01.731001Z",
     "start_time": "2018-05-25T00:12:01.687011Z"
    }
   },
   "outputs": [],
   "source": [
    "def sample_url_features(num_samples):\n",
    "    return sample_weighted(num_samples, weights)"
   ]
  },
  {
   "cell_type": "markdown",
   "metadata": {},
   "source": [
    "### Sampling the target labels"
   ]
  },
  {
   "cell_type": "markdown",
   "metadata": {},
   "source": [
    "These are the weights found in the current frecency algorithm. Based on the one-hot encoding, this is just a linear function."
   ]
  },
  {
   "cell_type": "code",
   "execution_count": 10,
   "metadata": {
    "ExecuteTime": {
     "end_time": "2018-05-25T00:12:02.179507Z",
     "start_time": "2018-05-25T00:12:02.174059Z"
    }
   },
   "outputs": [],
   "source": [
    "type_points = {\n",
    "    \"visited\": 1.2,\n",
    "    \"typed\": 2,\n",
    "    \"bookmarked\": 1.4,\n",
    "    #\"other_type\": 0\n",
    "}"
   ]
  },
  {
   "cell_type": "code",
   "execution_count": 11,
   "metadata": {
    "ExecuteTime": {
     "end_time": "2018-05-25T00:12:02.339656Z",
     "start_time": "2018-05-25T00:12:02.334046Z"
    }
   },
   "outputs": [],
   "source": [
    "recency_points = {\n",
    "    \"4-days\": 100,\n",
    "    \"14-days\": 70,\n",
    "    \"31-days\": 50,\n",
    "    \"90-days\": 30,\n",
    "    \"other_recency\": 10\n",
    "}"
   ]
  },
  {
   "cell_type": "code",
   "execution_count": 12,
   "metadata": {
    "ExecuteTime": {
     "end_time": "2018-05-25T00:12:02.501719Z",
     "start_time": "2018-05-25T00:12:02.497815Z"
    }
   },
   "outputs": [],
   "source": [
    "frecency_points_dict = combine_dicts_multiplicatively(type_points, recency_points)"
   ]
  },
  {
   "cell_type": "markdown",
   "metadata": {},
   "source": [
    "To make sure that the order of keys is the same everywhere:"
   ]
  },
  {
   "cell_type": "code",
   "execution_count": 13,
   "metadata": {
    "ExecuteTime": {
     "end_time": "2018-05-25T00:12:02.826058Z",
     "start_time": "2018-05-25T00:12:02.821220Z"
    }
   },
   "outputs": [],
   "source": [
    "key_order = weights.keys()\n",
    "frecency_points = np.array([frecency_points_dict[key] for key in key_order])"
   ]
  },
  {
   "cell_type": "markdown",
   "metadata": {},
   "source": [
    "This gives us the frecency points from the original algorithm:"
   ]
  },
  {
   "cell_type": "code",
   "execution_count": 14,
   "metadata": {
    "ExecuteTime": {
     "end_time": "2018-05-25T00:12:03.177314Z",
     "start_time": "2018-05-25T00:12:03.166980Z"
    }
   },
   "outputs": [
    {
     "data": {
      "text/plain": [
       "[(('visited', '4-days'), 120.0),\n",
       " (('visited', '90-days'), 36.0),\n",
       " (('bookmarked', '14-days'), 98.0),\n",
       " (('bookmarked', 'other_recency'), 14.0),\n",
       " (('typed', 'other_recency'), 20.0),\n",
       " (('typed', '31-days'), 100.0),\n",
       " (('typed', '14-days'), 140.0),\n",
       " (('bookmarked', '31-days'), 70.0),\n",
       " (('typed', '4-days'), 200.0),\n",
       " (('bookmarked', '90-days'), 42.0),\n",
       " (('visited', '31-days'), 60.0),\n",
       " (('bookmarked', '4-days'), 140.0),\n",
       " (('visited', 'other_recency'), 12.0),\n",
       " (('typed', '90-days'), 60.0),\n",
       " (('visited', '14-days'), 84.0)]"
      ]
     },
     "execution_count": 14,
     "metadata": {},
     "output_type": "execute_result"
    }
   ],
   "source": [
    "zip(key_order, frecency_points)"
   ]
  },
  {
   "cell_type": "markdown",
   "metadata": {},
   "source": [
    "After all these preparations, an arbitrary number of frecency scores can be computed using a single matrix multiplication."
   ]
  },
  {
   "cell_type": "code",
   "execution_count": 15,
   "metadata": {
    "ExecuteTime": {
     "end_time": "2018-05-25T00:12:03.502666Z",
     "start_time": "2018-05-25T00:12:03.498170Z"
    }
   },
   "outputs": [],
   "source": [
    "def frecency(url_features):\n",
    "    return url_features.dot(frecency_points)"
   ]
  },
  {
   "cell_type": "markdown",
   "metadata": {},
   "source": [
    "Finally, we are sampling from the above distributions and then call the frecency function."
   ]
  },
  {
   "cell_type": "code",
   "execution_count": 16,
   "metadata": {
    "ExecuteTime": {
     "end_time": "2018-05-25T00:12:03.826191Z",
     "start_time": "2018-05-25T00:12:03.821153Z"
    }
   },
   "outputs": [],
   "source": [
    "def sample(num_samples):\n",
    "    X = sample_url_features(num_samples)\n",
    "    y = frecency(X)\n",
    "    return X, y"
   ]
  },
  {
   "cell_type": "markdown",
   "metadata": {},
   "source": [
    "## Linear Regression\n",
    "\n",
    "This section is mostly to check that's it possible to fit a linear model perfectly to the data."
   ]
  },
  {
   "cell_type": "code",
   "execution_count": 17,
   "metadata": {
    "ExecuteTime": {
     "end_time": "2018-05-25T00:12:04.530931Z",
     "start_time": "2018-05-25T00:12:04.166787Z"
    }
   },
   "outputs": [],
   "source": [
    "from sklearn.linear_model import LinearRegression"
   ]
  },
  {
   "cell_type": "markdown",
   "metadata": {},
   "source": [
    "To fit a model, we sample a lot of these scores and also add noise on top to make the problem more similar to the real application."
   ]
  },
  {
   "cell_type": "code",
   "execution_count": 18,
   "metadata": {
    "ExecuteTime": {
     "end_time": "2018-05-25T00:12:04.886767Z",
     "start_time": "2018-05-25T00:12:04.533353Z"
    }
   },
   "outputs": [],
   "source": [
    "n = int(1e6)\n",
    "noise = np.random.normal(0, 2, size=(n))\n",
    "X, y = sample(n)\n",
    "y += noise"
   ]
  },
  {
   "cell_type": "code",
   "execution_count": 19,
   "metadata": {
    "ExecuteTime": {
     "end_time": "2018-05-25T00:12:04.895887Z",
     "start_time": "2018-05-25T00:12:04.890992Z"
    }
   },
   "outputs": [],
   "source": [
    "model = LinearRegression(fit_intercept=False)"
   ]
  },
  {
   "cell_type": "code",
   "execution_count": 20,
   "metadata": {
    "ExecuteTime": {
     "end_time": "2018-05-25T00:12:05.794549Z",
     "start_time": "2018-05-25T00:12:04.898148Z"
    }
   },
   "outputs": [
    {
     "data": {
      "text/plain": [
       "LinearRegression(copy_X=True, fit_intercept=False, n_jobs=1, normalize=False)"
      ]
     },
     "execution_count": 20,
     "metadata": {},
     "output_type": "execute_result"
    }
   ],
   "source": [
    "model.fit(X, y)"
   ]
  },
  {
   "cell_type": "markdown",
   "metadata": {},
   "source": [
    "The resulting coefficients are extremely close to the actual frecency weights. How close they are depends on how much noise we add to the data matrix."
   ]
  },
  {
   "cell_type": "code",
   "execution_count": 21,
   "metadata": {
    "ExecuteTime": {
     "end_time": "2018-05-25T00:12:05.806591Z",
     "start_time": "2018-05-25T00:12:05.797218Z"
    }
   },
   "outputs": [
    {
     "data": {
      "text/plain": [
       "[(119.99802481019123, 120.0),\n",
       " (36.010567985223311, 36.0),\n",
       " (97.995720388746463, 98.0),\n",
       " (14.013362856717283, 14.0),\n",
       " (19.981025356822595, 20.0),\n",
       " (100.00182471338123, 100.0),\n",
       " (139.99585495891921, 140.0),\n",
       " (70.001437429367925, 70.0),\n",
       " (199.99038800729065, 200.0),\n",
       " (42.014639513858377, 42.0),\n",
       " (60.007080963939458, 60.0),\n",
       " (139.98948990746254, 140.0),\n",
       " (12.003933468345924, 12.0),\n",
       " (59.996823581902923, 60.0),\n",
       " (83.994141954805158, 84.0)]"
      ]
     },
     "execution_count": 21,
     "metadata": {},
     "output_type": "execute_result"
    }
   ],
   "source": [
    "zip(model.coef_, frecency_points)"
   ]
  },
  {
   "cell_type": "code",
   "execution_count": 22,
   "metadata": {
    "ExecuteTime": {
     "end_time": "2018-05-25T00:12:05.914494Z",
     "start_time": "2018-05-25T00:12:05.809304Z"
    }
   },
   "outputs": [
    {
     "data": {
      "text/plain": [
       "array([-0.00197519,  0.01056799, -0.00427961,  0.01336286, -0.01897464,\n",
       "        0.00182471, -0.00414504,  0.00143743, -0.00961199,  0.01463951,\n",
       "        0.00708096, -0.01051009,  0.00393347, -0.00317642, -0.00585805])"
      ]
     },
     "execution_count": 22,
     "metadata": {},
     "output_type": "execute_result"
    }
   ],
   "source": [
    "model.coef_ - frecency_points"
   ]
  },
  {
   "cell_type": "markdown",
   "metadata": {},
   "source": [
    "## Ranking\n",
    "\n",
    "Now, we make the problem slightly more difficult: Instead of just learning the frecency function from data, we try to learn it from user interactions. The training data now consists of a variable number of history suggestions and their respective features. The label corresponds to the suggestion that the user clicked on. We still assume that the user clicks on the item with the highest frecency score."
   ]
  },
  {
   "cell_type": "code",
   "execution_count": 23,
   "metadata": {
    "ExecuteTime": {
     "end_time": "2018-05-25T00:12:06.831987Z",
     "start_time": "2018-05-25T00:12:06.828068Z"
    }
   },
   "outputs": [],
   "source": [
    "n = 400"
   ]
  },
  {
   "cell_type": "markdown",
   "metadata": {},
   "source": [
    "How many suggestions match the search query is sampled from a normal distribution centered around `10`."
   ]
  },
  {
   "cell_type": "code",
   "execution_count": 24,
   "metadata": {
    "ExecuteTime": {
     "end_time": "2018-05-25T00:12:07.536989Z",
     "start_time": "2018-05-25T00:12:07.531648Z"
    }
   },
   "outputs": [],
   "source": [
    "num_options = np.random.normal(loc=10, scale=4, size=(n))\n",
    "num_options = np.maximum(num_options, 1)\n",
    "num_options = np.int32(num_options)"
   ]
  },
  {
   "cell_type": "code",
   "execution_count": 25,
   "metadata": {
    "ExecuteTime": {
     "end_time": "2018-05-25T00:12:07.925542Z",
     "start_time": "2018-05-25T00:12:07.698295Z"
    }
   },
   "outputs": [
    {
     "data": {
      "text/plain": [
       "<matplotlib.text.Text at 0x7f1b80176050>"
      ]
     },
     "execution_count": 25,
     "metadata": {},
     "output_type": "execute_result"
    },
    {
     "data": {
      "image/png": "[encoded data removed]",
      "text/plain": [
       "<matplotlib.figure.Figure at 0x7f1b80b4af90>"
      ]
     },
     "metadata": {},
     "output_type": "display_data"
    }
   ],
   "source": [
    "plt.hist(num_options)\n",
    "plt.xlabel(\"number of matches\")\n",
    "plt.ylabel(\"count\")"
   ]
  },
  {
   "cell_type": "code",
   "execution_count": 90,
   "metadata": {
    "ExecuteTime": {
     "end_time": "2018-05-25T00:24:46.811361Z",
     "start_time": "2018-05-25T00:24:46.802713Z"
    }
   },
   "outputs": [],
   "source": [
    "def sample_suggestions_normal(n):\n",
    "    num_options = np.random.normal(loc=10, scale=4, size=(n))\n",
    "    num_options = np.maximum(num_options, 1)\n",
    "    num_options = np.int32(num_options)\n",
    "    \n",
    "    X, y = zip(*[sample(n) for n in num_options])\n",
    "    #y = [yi + np.random.normal(0, 5, size=(n)) for yi, n in zip(y, num_options)]\n",
    "    return X, y"
   ]
  },
  {
   "cell_type": "code",
   "execution_count": 91,
   "metadata": {
    "ExecuteTime": {
     "end_time": "2018-05-25T00:24:47.133487Z",
     "start_time": "2018-05-25T00:24:47.123654Z"
    }
   },
   "outputs": [],
   "source": [
    "def sample_suggestions_spark(n):\n",
    "    num_options = np.random.normal(loc=10, scale=4, size=(n))\n",
    "    num_options = np.maximum(num_options, 1)\n",
    "    num_options = np.int32(num_options)\n",
    "    \n",
    "    rdd = sc.parallelize(num_options)\n",
    "    data = rdd.map(lambda n: sample(n)).collect()\n",
    "    X, y = zip(*data)\n",
    "    \n",
    "    return X, y"
   ]
  },
  {
   "cell_type": "code",
   "execution_count": 92,
   "metadata": {
    "ExecuteTime": {
     "end_time": "2018-05-25T00:25:06.877794Z",
     "start_time": "2018-05-25T00:25:06.871456Z"
    }
   },
   "outputs": [],
   "source": [
    "def sample_suggestions(n):\n",
    "    if n > 1000:\n",
    "        return sample_suggestions_spark(n)\n",
    "    else:\n",
    "        return sample_suggestions_normal(n)"
   ]
  },
  {
   "cell_type": "markdown",
   "metadata": {},
   "source": [
    "## Hinge Loss\n",
    "\n",
    "After preparing the training data, we can try to use the adapted SVM loss (also called [hinge loss](https://en.wikipedia.org/wiki/Hinge_loss)) for ranking."
   ]
  },
  {
   "cell_type": "code",
   "execution_count": 31,
   "metadata": {
    "ExecuteTime": {
     "end_time": "2018-05-25T00:12:18.109790Z",
     "start_time": "2018-05-25T00:12:17.510647Z"
    }
   },
   "outputs": [],
   "source": [
    "n = int(1e3)\n",
    "X, y = sample_suggestions(n)"
   ]
  },
  {
   "cell_type": "markdown",
   "metadata": {},
   "source": [
    "Gradient descent generally works better when the data is centered around the origin:"
   ]
  },
  {
   "cell_type": "code",
   "execution_count": 32,
   "metadata": {
    "ExecuteTime": {
     "end_time": "2018-05-25T00:12:18.788796Z",
     "start_time": "2018-05-25T00:12:18.782201Z"
    }
   },
   "outputs": [],
   "source": [
    "def flatten(X):\n",
    "    X_flat = []\n",
    "\n",
    "    for x in X:\n",
    "        X_flat += list(x)\n",
    "\n",
    "    return np.array(X_flat)"
   ]
  },
  {
   "cell_type": "code",
   "execution_count": 33,
   "metadata": {
    "ExecuteTime": {
     "end_time": "2018-05-25T00:12:19.770867Z",
     "start_time": "2018-05-25T00:12:19.764615Z"
    }
   },
   "outputs": [],
   "source": [
    "def normalize(X):\n",
    "    X_flat = flatten(X)\n",
    "    mu = X_flat.mean(axis=0)\n",
    "    return [x - mu for x in X]"
   ]
  },
  {
   "cell_type": "code",
   "execution_count": 34,
   "metadata": {
    "ExecuteTime": {
     "end_time": "2018-05-25T00:12:20.129483Z",
     "start_time": "2018-05-25T00:12:20.114679Z"
    }
   },
   "outputs": [],
   "source": [
    "X = normalize(X)"
   ]
  },
  {
   "cell_type": "markdown",
   "metadata": {},
   "source": [
    "The optimizer we use is fairly simple: It scales the gradient with a learning rate before adding it to the model.\n",
    "This abstraction as a class is still nice because we can later replace it with more sophisticated optimizers."
   ]
  },
  {
   "cell_type": "code",
   "execution_count": 35,
   "metadata": {
    "ExecuteTime": {
     "end_time": "2018-05-25T00:12:20.844889Z",
     "start_time": "2018-05-25T00:12:20.838738Z"
    }
   },
   "outputs": [],
   "source": [
    "class GradientDescent:\n",
    "    def __init__(self, learning_rate):\n",
    "        self.learning_rate = learning_rate\n",
    "        \n",
    "    def __call__(self, gradient):\n",
    "        return self.learning_rate * gradient"
   ]
  },
  {
   "cell_type": "markdown",
   "metadata": {},
   "source": [
    "To supervise training, we keep logging the loss:"
   ]
  },
  {
   "cell_type": "code",
   "execution_count": 36,
   "metadata": {
    "ExecuteTime": {
     "end_time": "2018-05-25T00:12:21.471232Z",
     "start_time": "2018-05-25T00:12:21.462806Z"
    }
   },
   "outputs": [],
   "source": [
    "def svm_loss(preds, ys, delta=0):\n",
    "    correct = ys.argmax()\n",
    "    score_correct = preds[correct]\n",
    "    \n",
    "    loss = 0\n",
    "    \n",
    "    for i, pred in enumerate(preds):\n",
    "        loss += max(0, pred + delta - score_correct)            \n",
    "            \n",
    "    return loss"
   ]
  },
  {
   "cell_type": "markdown",
   "metadata": {},
   "source": [
    "During training, we want to supervise the learning process and save the best models."
   ]
  },
  {
   "cell_type": "code",
   "execution_count": 37,
   "metadata": {
    "ExecuteTime": {
     "end_time": "2018-05-25T00:12:21.888806Z",
     "start_time": "2018-05-25T00:12:21.875012Z"
    }
   },
   "outputs": [],
   "source": [
    "class ModelCheckpoint:\n",
    "    def __init__(self, metric_fn, num_sampled=10000):\n",
    "        self.best_model = None\n",
    "        self.best_metric = -np.inf\n",
    "        self.metric_fn = metric_fn\n",
    "        self.num_sampled = num_sampled\n",
    "    \n",
    "    def __call__(self, model):\n",
    "        X_val, y_val = sample_suggestions(self.num_sampled)\n",
    "        metric = self.metric_fn(y_val, model.predict(X_val))\n",
    "        \n",
    "        if metric > self.best_metric:\n",
    "            self.best_metric = metric\n",
    "            self.best_model = model\n",
    "            print(\"[ModelCheckpoint] New best model with %.5f validation accuracy\" % metric)\n",
    "        else:\n",
    "            print(\"validation: %.3f accuracy\" % metric)"
   ]
  },
  {
   "cell_type": "markdown",
   "metadata": {},
   "source": [
    "accuracy needs to be measured carefully here: In our simulation, we assume that the current frecency is the perfect ranking function. But because items sometimes get the same frecency scores, there can be more than one correct answer:"
   ]
  },
  {
   "cell_type": "code",
   "execution_count": 38,
   "metadata": {
    "ExecuteTime": {
     "end_time": "2018-05-25T00:12:22.238427Z",
     "start_time": "2018-05-25T00:12:22.231129Z"
    }
   },
   "outputs": [],
   "source": [
    "def rank_accuracy(y, preds):\n",
    "    correct = 0.\n",
    "    \n",
    "    for yi, pi in zip(y, preds):\n",
    "        if yi[pi.argmax()] == yi.max():\n",
    "            correct += 1\n",
    "            \n",
    "    return correct / len(y)"
   ]
  },
  {
   "cell_type": "markdown",
   "metadata": {},
   "source": [
    "The `SVMRanking` class is the main mechanism for fitting models."
   ]
  },
  {
   "cell_type": "code",
   "execution_count": 39,
   "metadata": {
    "ExecuteTime": {
     "end_time": "2018-05-25T00:12:22.608048Z",
     "start_time": "2018-05-25T00:12:22.567163Z"
    }
   },
   "outputs": [],
   "source": [
    "class SVMRanking:\n",
    "    def __init__(self, delta):\n",
    "        self.delta = delta\n",
    "        \n",
    "    def fit(self, data_generator, optimizer, num_iterations=10, callbacks=[]):\n",
    "        X, y = data_generator(1)\n",
    "        num_features = X[0].shape[1]\n",
    "        self.W = frecency_points + (np.random.random(size=(num_features)) - 0.5) * 100\n",
    "        \n",
    "        for j in range(num_iterations):\n",
    "            X, y = data_generator(400)\n",
    "            \n",
    "            preds = self.predict(X)\n",
    "            gradient = np.zeros(num_features)\n",
    "\n",
    "            for xi, pi, yi in zip(X, preds, y):\n",
    "                correct = yi.argmax()\n",
    "                score_correct = pi[correct]\n",
    "\n",
    "                for i, predicted_score in enumerate(pi):\n",
    "                    gradient -= xi[i] * max(0, predicted_score + self.delta - score_correct)\n",
    "            \n",
    "            gradient /= len(X)\n",
    "            \n",
    "            loss = np.mean([svm_loss(pi, yi) for pi, yi in zip(self.predict(X), y)])\n",
    "            accuracy = rank_accuracy(y, model.predict(X))\n",
    "            \n",
    "            print(\"[%d/%d] training: %.5f loss, %.3f accuracy\" % (j + 1, num_iterations, loss, accuracy))\n",
    "            \n",
    "            for callback in callbacks:\n",
    "                callback(self)\n",
    "            \n",
    "            self.W += optimizer(gradient)\n",
    "            \n",
    "    def predict(self, X):\n",
    "        preds = []\n",
    "        \n",
    "        for x in X:\n",
    "            scores = x.dot(self.W)\n",
    "            preds.append(scores)\n",
    "        \n",
    "        return preds"
   ]
  },
  {
   "cell_type": "code",
   "execution_count": 40,
   "metadata": {
    "ExecuteTime": {
     "end_time": "2018-05-25T00:13:17.582292Z",
     "start_time": "2018-05-25T00:12:22.741634Z"
    },
    "scrolled": false
   },
   "outputs": [
    {
     "name": "stdout",
     "output_type": "stream",
     "text": [
      "[1/48] training: 10.22065 loss, 0.800 accuracy\n",
      "[ModelCheckpoint] New best model with 0.79410 validation accuracy\n",
      "[2/48] training: 9.47784 loss, 0.870 accuracy\n",
      "[ModelCheckpoint] New best model with 0.87370 validation accuracy\n",
      "[3/48] training: 4.99000 loss, 0.902 accuracy\n",
      "[ModelCheckpoint] New best model with 0.92360 validation accuracy\n",
      "[4/48] training: 0.84757 loss, 0.958 accuracy\n",
      "[ModelCheckpoint] New best model with 0.96790 validation accuracy\n",
      "[5/48] training: 0.02241 loss, 0.985 accuracy\n",
      "[ModelCheckpoint] New best model with 0.96990 validation accuracy\n",
      "[6/48] training: 0.14086 loss, 0.948 accuracy\n",
      "validation: 0.969 accuracy\n",
      "[7/48] training: 0.02721 loss, 0.965 accuracy\n",
      "[ModelCheckpoint] New best model with 0.97250 validation accuracy\n",
      "[8/48] training: 0.02937 loss, 0.955 accuracy\n",
      "validation: 0.967 accuracy\n",
      "[9/48] training: 0.05865 loss, 0.955 accuracy\n",
      "validation: 0.970 accuracy\n",
      "[10/48] training: 0.03926 loss, 0.970 accuracy\n",
      "[ModelCheckpoint] New best model with 0.97330 validation accuracy\n",
      "[11/48] training: 0.01370 loss, 0.990 accuracy\n",
      "[ModelCheckpoint] New best model with 0.97380 validation accuracy\n",
      "[12/48] training: 0.03581 loss, 0.978 accuracy\n",
      "validation: 0.970 accuracy\n",
      "[13/48] training: 0.02284 loss, 0.953 accuracy\n",
      "validation: 0.973 accuracy\n",
      "[14/48] training: 0.00346 loss, 0.993 accuracy\n",
      "[ModelCheckpoint] New best model with 0.98890 validation accuracy\n",
      "[15/48] training: 0.01946 loss, 0.988 accuracy\n",
      "validation: 0.984 accuracy\n",
      "[16/48] training: 0.01389 loss, 0.985 accuracy\n",
      "validation: 0.987 accuracy\n",
      "[17/48] training: 0.03148 loss, 0.983 accuracy\n",
      "validation: 0.984 accuracy\n",
      "[18/48] training: 0.00384 loss, 0.988 accuracy\n",
      "validation: 0.984 accuracy\n",
      "[19/48] training: 0.00080 loss, 0.993 accuracy\n",
      "validation: 0.984 accuracy\n",
      "[20/48] training: 0.00036 loss, 0.983 accuracy\n",
      "validation: 0.984 accuracy\n",
      "[21/48] training: 0.01790 loss, 0.980 accuracy\n",
      "validation: 0.986 accuracy\n",
      "[22/48] training: 0.01333 loss, 0.990 accuracy\n",
      "validation: 0.988 accuracy\n",
      "[23/48] training: 0.01459 loss, 0.988 accuracy\n",
      "[ModelCheckpoint] New best model with 0.99000 validation accuracy\n",
      "[24/48] training: 0.00020 loss, 0.995 accuracy\n",
      "validation: 0.988 accuracy\n",
      "[25/48] training: 0.00019 loss, 0.993 accuracy\n",
      "validation: 0.987 accuracy\n",
      "[26/48] training: 0.04746 loss, 0.985 accuracy\n",
      "validation: 0.988 accuracy\n",
      "[27/48] training: 0.02823 loss, 0.980 accuracy\n",
      "validation: 0.986 accuracy\n",
      "[28/48] training: 0.00143 loss, 0.983 accuracy\n",
      "validation: 0.985 accuracy\n",
      "[29/48] training: 0.00763 loss, 0.993 accuracy\n",
      "validation: 0.986 accuracy\n",
      "[30/48] training: 0.01231 loss, 0.988 accuracy\n",
      "validation: 0.986 accuracy\n",
      "[31/48] training: 0.00555 loss, 0.990 accuracy\n",
      "validation: 0.984 accuracy\n",
      "[32/48] training: 0.01305 loss, 0.995 accuracy\n",
      "validation: 0.986 accuracy\n",
      "[33/48] training: 0.01597 loss, 0.993 accuracy\n",
      "validation: 0.987 accuracy\n",
      "[34/48] training: 0.00000 loss, 0.990 accuracy\n",
      "validation: 0.986 accuracy\n",
      "[35/48] training: 0.00575 loss, 0.978 accuracy\n",
      "validation: 0.983 accuracy\n",
      "[36/48] training: 0.00009 loss, 0.988 accuracy\n",
      "validation: 0.984 accuracy\n",
      "[37/48] training: 0.00073 loss, 0.990 accuracy\n",
      "validation: 0.986 accuracy\n",
      "[38/48] training: 0.00441 loss, 0.990 accuracy\n",
      "validation: 0.987 accuracy\n",
      "[39/48] training: 0.00006 loss, 0.988 accuracy\n",
      "validation: 0.987 accuracy\n",
      "[40/48] training: 0.00314 loss, 0.990 accuracy\n",
      "validation: 0.986 accuracy\n",
      "[41/48] training: 0.00137 loss, 0.990 accuracy\n",
      "validation: 0.986 accuracy\n",
      "[42/48] training: 0.00126 loss, 0.975 accuracy\n",
      "validation: 0.982 accuracy\n",
      "[43/48] training: 0.00006 loss, 0.990 accuracy\n",
      "validation: 0.985 accuracy\n",
      "[44/48] training: 0.00727 loss, 0.988 accuracy\n",
      "validation: 0.981 accuracy\n",
      "[45/48] training: 0.00307 loss, 0.978 accuracy\n",
      "validation: 0.984 accuracy\n",
      "[46/48] training: 0.00568 loss, 0.975 accuracy\n",
      "validation: 0.984 accuracy\n",
      "[47/48] training: 0.00110 loss, 0.980 accuracy\n",
      "validation: 0.984 accuracy\n",
      "[48/48] training: 0.00405 loss, 0.990 accuracy\n",
      "validation: 0.981 accuracy\n"
     ]
    }
   ],
   "source": [
    "model = SVMRanking(delta=0.)\n",
    "model.fit(data_generator=sample_suggestions,\n",
    "          optimizer=GradientDescent(30.),\n",
    "          num_iterations=48,\n",
    "          callbacks=[ModelCheckpoint(rank_accuracy)])"
   ]
  },
  {
   "cell_type": "markdown",
   "metadata": {},
   "source": [
    "After fitting, we can compare the learned weights with the true frecency scores. Note that the values themselves are very different now but that the ordering is nearly the same as in the real algorithm. This shows that we are ranking very similarly to the real algorithm but that the optimization process did not fully reach the global optimum."
   ]
  },
  {
   "cell_type": "code",
   "execution_count": 41,
   "metadata": {
    "ExecuteTime": {
     "end_time": "2018-05-25T00:13:22.834310Z",
     "start_time": "2018-05-25T00:13:22.825343Z"
    },
    "scrolled": true
   },
   "outputs": [
    {
     "data": {
      "text/plain": [
       "[(12.0, -54.997429858574307),\n",
       " (14.0, -45.378725346158163),\n",
       " (20.0, -7.3333860382692366),\n",
       " (36.0, -7.616906081028044),\n",
       " (42.0, -7.8766284443188539),\n",
       " (60.0, 1.4293049359794734),\n",
       " (60.0, 1.4264637438576289),\n",
       " (70.0, 2.5920615423223636),\n",
       " (84.0, 2.5920615412049273),\n",
       " (98.0, 55.199984440426711),\n",
       " (100.0, 55.199985621167066),\n",
       " (120.0, 86.949523769832126),\n",
       " (140.0, 121.10334264784883),\n",
       " (140.0, 121.10334264784883),\n",
       " (200.0, 173.76717522094577)]"
      ]
     },
     "execution_count": 41,
     "metadata": {},
     "output_type": "execute_result"
    }
   ],
   "source": [
    "ais = np.argsort(frecency_points)\n",
    "zip(frecency_points[ais], model.W[ais])"
   ]
  },
  {
   "cell_type": "markdown",
   "metadata": {},
   "source": [
    "Still, the model is correct most of the time:"
   ]
  },
  {
   "cell_type": "code",
   "execution_count": 42,
   "metadata": {
    "ExecuteTime": {
     "end_time": "2018-05-25T00:13:25.606717Z",
     "start_time": "2018-05-25T00:13:24.958133Z"
    }
   },
   "outputs": [
    {
     "data": {
      "text/plain": [
       "0.9846"
      ]
     },
     "execution_count": 42,
     "metadata": {},
     "output_type": "execute_result"
    }
   ],
   "source": [
    "X, y = sample_suggestions(10000)\n",
    "rank_accuracy(y, model.predict(X))"
   ]
  },
  {
   "cell_type": "markdown",
   "metadata": {},
   "source": [
    "### Side note: Evaluation during training in production\n",
    "\n",
    "If we only use 400 data points for validating the current model, then this is not enough to properly assess the model quality.\n",
    "The accuracies jump too much.\n",
    "However, this evaluation could still be used to test that the model is not completely off."
   ]
  },
  {
   "cell_type": "code",
   "execution_count": 66,
   "metadata": {
    "ExecuteTime": {
     "end_time": "2018-05-25T00:19:34.500115Z",
     "start_time": "2018-05-25T00:19:26.956763Z"
    }
   },
   "outputs": [
    {
     "data": {
      "text/plain": [
       "(array([   4.,   11.,   47.,   65.,  109.,  286.,  163.,  247.,   51.,   16.]),\n",
       " array([ 0.965 ,  0.9685,  0.972 ,  0.9755,  0.979 ,  0.9825,  0.986 ,\n",
       "         0.9895,  0.993 ,  0.9965,  1.    ]),\n",
       " <a list of 10 Patch objects>)"
      ]
     },
     "execution_count": 66,
     "metadata": {},
     "output_type": "execute_result"
    },
    {
     "data": {
      "image/png": "[encoded data removed]",
      "text/plain": [
       "<matplotlib.figure.Figure at 0x7f1b7f9b1fd0>"
      ]
     },
     "metadata": {},
     "output_type": "display_data"
    }
   ],
   "source": [
    "X, y = sample_suggestions(1000 * 400)\n",
    "accuracies = []\n",
    "\n",
    "for i in range(0, len(X) - 400, 400):\n",
    "    Xi, yi = X[i:i+400], y[i:i+400]\n",
    "    acc = rank_accuracy(yi, model.predict(Xi))\n",
    "    accuracies.append(acc)\n",
    "    \n",
    "plt.hist(sorted(accuracies))"
   ]
  },
  {
   "cell_type": "markdown",
   "metadata": {},
   "source": [
    "## Frequency\n",
    "\n",
    "We still need to take into account that users visit links more than once.\n",
    "How often a user visits a link is sampled from an exponential distribution in this simulation:"
   ]
  },
  {
   "cell_type": "code",
   "execution_count": 67,
   "metadata": {
    "ExecuteTime": {
     "end_time": "2018-05-25T00:20:03.967263Z",
     "start_time": "2018-05-25T00:20:03.732006Z"
    }
   },
   "outputs": [
    {
     "data": {
      "text/plain": [
       "(array([ 493.,  229.,  143.,   68.,   33.,   15.,    7.,    8.,    2.,    2.]),\n",
       " array([  0. ,   4.4,   8.8,  13.2,  17.6,  22. ,  26.4,  30.8,  35.2,\n",
       "         39.6,  44. ]),\n",
       " <a list of 10 Patch objects>)"
      ]
     },
     "execution_count": 67,
     "metadata": {},
     "output_type": "execute_result"
    },
    {
     "data": {
      "image/png": "[encoded data removed]",
      "text/plain": [
       "<matplotlib.figure.Figure at 0x7f1b79e93a50>"
      ]
     },
     "metadata": {},
     "output_type": "display_data"
    }
   ],
   "source": [
    "frequencies = np.int32(np.random.exponential(7, size=(1000)))\n",
    "plt.hist(frequencies)"
   ]
  },
  {
   "cell_type": "code",
   "execution_count": 68,
   "metadata": {
    "ExecuteTime": {
     "end_time": "2018-05-25T00:20:04.550404Z",
     "start_time": "2018-05-25T00:20:04.539093Z"
    }
   },
   "outputs": [],
   "source": [
    "def sample_url_features(num_samples):\n",
    "    frequencies = np.int32(np.random.exponential(7, size=num_samples)) + 1\n",
    "    frequencies = np.int32(np.ones(num_samples))\n",
    "    X = []\n",
    "    \n",
    "    for frequency in frequencies:\n",
    "        num_sampled = min(10, frequency)\n",
    "        features = sample_weighted(num_sampled, weights).sum(axis=0)\n",
    "        X.append(frequency / num_sampled * features)\n",
    "        \n",
    "    return np.array(X)"
   ]
  },
  {
   "cell_type": "code",
   "execution_count": 69,
   "metadata": {
    "ExecuteTime": {
     "end_time": "2018-05-25T00:20:59.541257Z",
     "start_time": "2018-05-25T00:20:05.951881Z"
    }
   },
   "outputs": [
    {
     "name": "stdout",
     "output_type": "stream",
     "text": [
      "[1/48] training: 6.68685 loss, 0.838 accuracy\n",
      "[ModelCheckpoint] New best model with 0.84440 validation accuracy\n",
      "[2/48] training: 0.99414 loss, 0.950 accuracy\n",
      "[ModelCheckpoint] New best model with 0.96520 validation accuracy\n",
      "[3/48] training: 0.69720 loss, 0.973 accuracy\n",
      "[ModelCheckpoint] New best model with 0.97010 validation accuracy\n",
      "[4/48] training: 0.31055 loss, 0.973 accuracy\n",
      "validation: 0.969 accuracy\n",
      "[5/48] training: 0.13849 loss, 0.968 accuracy\n",
      "validation: 0.968 accuracy\n",
      "[6/48] training: 0.11023 loss, 0.973 accuracy\n",
      "validation: 0.970 accuracy\n",
      "[7/48] training: 0.10748 loss, 0.975 accuracy\n",
      "[ModelCheckpoint] New best model with 0.97050 validation accuracy\n",
      "[8/48] training: 0.03272 loss, 0.975 accuracy\n",
      "[ModelCheckpoint] New best model with 0.97330 validation accuracy\n",
      "[9/48] training: 0.15880 loss, 0.973 accuracy\n",
      "validation: 0.972 accuracy\n",
      "[10/48] training: 0.08625 loss, 0.975 accuracy\n",
      "[ModelCheckpoint] New best model with 0.97420 validation accuracy\n",
      "[11/48] training: 0.02461 loss, 0.975 accuracy\n",
      "validation: 0.971 accuracy\n",
      "[12/48] training: 0.00085 loss, 0.978 accuracy\n",
      "[ModelCheckpoint] New best model with 0.97450 validation accuracy\n",
      "[13/48] training: 0.08425 loss, 0.968 accuracy\n",
      "[ModelCheckpoint] New best model with 0.97670 validation accuracy\n",
      "[14/48] training: 0.02949 loss, 0.970 accuracy\n",
      "validation: 0.973 accuracy\n",
      "[15/48] training: 0.01767 loss, 0.973 accuracy\n",
      "validation: 0.972 accuracy\n",
      "[16/48] training: 0.01378 loss, 0.965 accuracy\n",
      "validation: 0.976 accuracy\n",
      "[17/48] training: 0.04177 loss, 0.983 accuracy\n",
      "validation: 0.973 accuracy\n",
      "[18/48] training: 0.08431 loss, 0.973 accuracy\n",
      "validation: 0.971 accuracy\n",
      "[19/48] training: 0.01428 loss, 0.980 accuracy\n",
      "validation: 0.973 accuracy\n",
      "[20/48] training: 0.02923 loss, 0.975 accuracy\n",
      "validation: 0.974 accuracy\n",
      "[21/48] training: 0.00978 loss, 0.970 accuracy\n",
      "validation: 0.974 accuracy\n",
      "[22/48] training: 0.00724 loss, 0.985 accuracy\n",
      "validation: 0.974 accuracy\n",
      "[23/48] training: 0.04515 loss, 0.983 accuracy\n",
      "validation: 0.974 accuracy\n",
      "[24/48] training: 0.02568 loss, 0.980 accuracy\n",
      "validation: 0.975 accuracy\n",
      "[25/48] training: 0.00276 loss, 0.968 accuracy\n",
      "validation: 0.973 accuracy\n",
      "[26/48] training: 0.00947 loss, 0.978 accuracy\n",
      "validation: 0.972 accuracy\n",
      "[27/48] training: 0.00876 loss, 0.995 accuracy\n",
      "validation: 0.976 accuracy\n",
      "[28/48] training: 0.00122 loss, 0.985 accuracy\n",
      "validation: 0.974 accuracy\n",
      "[29/48] training: 0.00414 loss, 0.990 accuracy\n",
      "validation: 0.974 accuracy\n",
      "[30/48] training: 0.01561 loss, 0.970 accuracy\n",
      "validation: 0.974 accuracy\n",
      "[31/48] training: 0.01226 loss, 0.980 accuracy\n",
      "validation: 0.975 accuracy\n",
      "[32/48] training: 0.01767 loss, 0.963 accuracy\n",
      "[ModelCheckpoint] New best model with 0.97770 validation accuracy\n",
      "[33/48] training: 0.00059 loss, 0.980 accuracy\n",
      "validation: 0.973 accuracy\n",
      "[34/48] training: 0.01380 loss, 0.968 accuracy\n",
      "validation: 0.975 accuracy\n",
      "[35/48] training: 0.00363 loss, 0.958 accuracy\n",
      "[ModelCheckpoint] New best model with 0.97800 validation accuracy\n",
      "[36/48] training: 0.00018 loss, 0.973 accuracy\n",
      "validation: 0.976 accuracy\n",
      "[37/48] training: 0.00000 loss, 0.978 accuracy\n",
      "validation: 0.972 accuracy\n",
      "[38/48] training: 0.00583 loss, 0.978 accuracy\n",
      "validation: 0.976 accuracy\n",
      "[39/48] training: 0.00011 loss, 0.983 accuracy\n",
      "validation: 0.974 accuracy\n",
      "[40/48] training: 0.00327 loss, 0.975 accuracy\n",
      "validation: 0.976 accuracy\n",
      "[41/48] training: 0.00605 loss, 0.970 accuracy\n",
      "validation: 0.974 accuracy\n",
      "[42/48] training: 0.00008 loss, 0.965 accuracy\n",
      "validation: 0.977 accuracy\n",
      "[43/48] training: 0.00004 loss, 0.988 accuracy\n",
      "validation: 0.976 accuracy\n",
      "[44/48] training: 0.00000 loss, 0.988 accuracy\n",
      "validation: 0.973 accuracy\n",
      "[45/48] training: 0.01262 loss, 0.978 accuracy\n",
      "validation: 0.973 accuracy\n",
      "[46/48] training: 0.00209 loss, 0.980 accuracy\n",
      "validation: 0.974 accuracy\n",
      "[47/48] training: 0.00272 loss, 0.973 accuracy\n",
      "validation: 0.972 accuracy\n",
      "[48/48] training: 0.00004 loss, 0.975 accuracy\n",
      "validation: 0.975 accuracy\n"
     ]
    }
   ],
   "source": [
    "model = SVMRanking(delta=0.)\n",
    "model.fit(data_generator=sample_suggestions,\n",
    "          optimizer=GradientDescent(30.),\n",
    "          num_iterations=48,\n",
    "          callbacks=[ModelCheckpoint(rank_accuracy, 10000)])"
   ]
  },
  {
   "cell_type": "markdown",
   "metadata": {},
   "source": [
    "## Federated Learning\n",
    "\n",
    "To implement a federated version of the model above, we have to create a `Client` class that completely encapsulates training data. Only the `Client` can compute gradients based on its own data. While the `Server` is the main class for controlling the training process, it can only request gradients from clients."
   ]
  },
  {
   "cell_type": "code",
   "execution_count": 70,
   "metadata": {
    "ExecuteTime": {
     "end_time": "2018-05-25T00:21:17.457006Z",
     "start_time": "2018-05-25T00:21:17.452521Z"
    }
   },
   "outputs": [],
   "source": [
    "import random"
   ]
  },
  {
   "cell_type": "code",
   "execution_count": 93,
   "metadata": {
    "ExecuteTime": {
     "end_time": "2018-05-25T00:25:18.327275Z",
     "start_time": "2018-05-25T00:25:18.300972Z"
    }
   },
   "outputs": [],
   "source": [
    "class Server:\n",
    "    def __init__(self, clients):\n",
    "        self.clients = clients\n",
    "        \n",
    "        num_features = len(frecency_points)\n",
    "        self.W = frecency_points + (np.random.random(size=(num_features)) - 0.5) * 100\n",
    "    \n",
    "    def fit(self, optimizer, num_iterations, num_clients_per_iteration, callbacks=[]):\n",
    "        for j in range(num_iterations):\n",
    "            clients = random.sample(self.clients, num_clients_per_iteration)\n",
    "            updates, losses = zip(*[client.request_update(self) for client in clients])\n",
    "            \n",
    "            gradient = np.mean(updates, axis=0)\n",
    "            loss = np.mean(losses, axis=0)\n",
    "            \n",
    "            print(\"[%d/%d] training loss across clients %.5f\" % (j + 1, num_iterations, loss))\n",
    "            \n",
    "            for callback in callbacks:\n",
    "                callback(self)\n",
    "            \n",
    "            self.W += optimizer(gradient)\n",
    "            \n",
    "    def predict(self, X):\n",
    "        preds = []\n",
    "        \n",
    "        for x in X:\n",
    "            scores = x.dot(self.W)\n",
    "            preds.append(scores)\n",
    "        \n",
    "        return preds"
   ]
  },
  {
   "cell_type": "code",
   "execution_count": 94,
   "metadata": {
    "ExecuteTime": {
     "end_time": "2018-05-25T00:25:18.635030Z",
     "start_time": "2018-05-25T00:25:18.614115Z"
    }
   },
   "outputs": [],
   "source": [
    "class Client:\n",
    "    def __init__(self, data_generator, delta=0):\n",
    "        self.data_generator = data_generator\n",
    "        self.delta = 0\n",
    "    \n",
    "    def request_update(self, model):\n",
    "        X, y = self.data_generator()\n",
    "        preds = model.predict(X)\n",
    "        \n",
    "        num_features = X[0].shape[1]\n",
    "        gradient = np.zeros(num_features)\n",
    "        loss = 0\n",
    "\n",
    "        for xi, pi, yi in zip(X, preds, y):\n",
    "            correct = yi.argmax()\n",
    "            score_correct = pi[correct]\n",
    "\n",
    "            for i, predicted_score in enumerate(pi):\n",
    "                gradient -= xi[i] * max(0, predicted_score + self.delta - score_correct)\n",
    "            \n",
    "            loss += svm_loss(pi, yi)\n",
    "                \n",
    "        gradient /= len(X)\n",
    "        loss /= len(X)\n",
    "        \n",
    "        return gradient, loss"
   ]
  },
  {
   "cell_type": "markdown",
   "metadata": {},
   "source": [
    "How many data points a user has in each round is sampled from the following exponential distribution:"
   ]
  },
  {
   "cell_type": "code",
   "execution_count": 95,
   "metadata": {
    "ExecuteTime": {
     "end_time": "2018-05-25T00:25:19.577340Z",
     "start_time": "2018-05-25T00:25:19.347421Z"
    }
   },
   "outputs": [
    {
     "data": {
      "text/plain": [
       "(array([ 718.,    0.,  209.,    0.,   48.,    0.,   18.,    0.,    6.,    1.]),\n",
       " array([ 1. ,  1.5,  2. ,  2.5,  3. ,  3.5,  4. ,  4.5,  5. ,  5.5,  6. ]),\n",
       " <a list of 10 Patch objects>)"
      ]
     },
     "execution_count": 95,
     "metadata": {},
     "output_type": "execute_result"
    },
    {
     "data": {
      "image/png": "[encoded data removed]",
      "text/plain": [
       "<matplotlib.figure.Figure at 0x7f1b7f9b1cd0>"
      ]
     },
     "metadata": {},
     "output_type": "display_data"
    }
   ],
   "source": [
    "num_datapoints = np.int32(np.random.exponential(.8, size=(1000))) + 1\n",
    "plt.hist(num_datapoints)"
   ]
  },
  {
   "cell_type": "markdown",
   "metadata": {},
   "source": [
    "We have 5000 clients:"
   ]
  },
  {
   "cell_type": "code",
   "execution_count": 96,
   "metadata": {
    "ExecuteTime": {
     "end_time": "2018-05-25T00:25:20.024985Z",
     "start_time": "2018-05-25T00:25:20.016028Z"
    }
   },
   "outputs": [],
   "source": [
    "clients = [Client(lambda: sample_suggestions(np.int32(np.random.exponential(.8)) + 1)) for _ in range(5000)]"
   ]
  },
  {
   "cell_type": "code",
   "execution_count": 103,
   "metadata": {
    "ExecuteTime": {
     "end_time": "2018-05-25T00:26:06.437369Z",
     "start_time": "2018-05-25T00:26:06.432784Z"
    }
   },
   "outputs": [],
   "source": [
    "sc.cancelAllJobs()"
   ]
  },
  {
   "cell_type": "code",
   "execution_count": 104,
   "metadata": {
    "ExecuteTime": {
     "end_time": "2018-05-25T00:27:03.272472Z",
     "start_time": "2018-05-25T00:26:07.677378Z"
    },
    "scrolled": false
   },
   "outputs": [
    {
     "name": "stdout",
     "output_type": "stream",
     "text": [
      "[1/48] training loss across clients 11.55919\n",
      "[ModelCheckpoint] New best model with 0.66620 validation accuracy\n",
      "[2/48] training loss across clients 14.76246\n",
      "[ModelCheckpoint] New best model with 0.94450 validation accuracy\n",
      "[3/48] training loss across clients 5.16298\n",
      "validation: 0.916 accuracy\n",
      "[4/48] training loss across clients 1.49055\n",
      "[ModelCheckpoint] New best model with 0.96140 validation accuracy\n",
      "[5/48] training loss across clients 0.42169\n",
      "[ModelCheckpoint] New best model with 0.97910 validation accuracy\n",
      "[6/48] training loss across clients 0.07640\n",
      "[ModelCheckpoint] New best model with 0.99040 validation accuracy\n",
      "[7/48] training loss across clients 0.07736\n",
      "[ModelCheckpoint] New best model with 0.99600 validation accuracy\n",
      "[8/48] training loss across clients 0.05581\n",
      "validation: 0.995 accuracy\n",
      "[9/48] training loss across clients 0.04161\n",
      "validation: 0.995 accuracy\n",
      "[10/48] training loss across clients 0.00094\n",
      "validation: 0.994 accuracy\n",
      "[11/48] training loss across clients 0.01516\n",
      "validation: 0.996 accuracy\n",
      "[12/48] training loss across clients 0.03284\n",
      "validation: 0.995 accuracy\n",
      "[13/48] training loss across clients 0.02459\n",
      "validation: 0.995 accuracy\n",
      "[14/48] training loss across clients 0.00251\n",
      "validation: 0.995 accuracy\n",
      "[15/48] training loss across clients 0.00027\n",
      "validation: 0.994 accuracy\n",
      "[16/48] training loss across clients 0.01532\n",
      "validation: 0.995 accuracy\n",
      "[17/48] training loss across clients 0.01395\n",
      "validation: 0.995 accuracy\n",
      "[18/48] training loss across clients 0.03135\n",
      "validation: 0.995 accuracy\n",
      "[19/48] training loss across clients 0.00021\n",
      "validation: 0.995 accuracy\n",
      "[20/48] training loss across clients 0.01042\n",
      "validation: 0.996 accuracy\n",
      "[21/48] training loss across clients 0.00052\n",
      "validation: 0.995 accuracy\n",
      "[22/48] training loss across clients 0.00020\n",
      "validation: 0.996 accuracy\n",
      "[23/48] training loss across clients 0.00021\n",
      "validation: 0.995 accuracy\n",
      "[24/48] training loss across clients 0.00288\n",
      "[ModelCheckpoint] New best model with 0.99620 validation accuracy\n",
      "[25/48] training loss across clients 0.00079\n",
      "validation: 0.995 accuracy\n",
      "[26/48] training loss across clients 0.00138\n",
      "validation: 0.995 accuracy\n",
      "[27/48] training loss across clients 0.00019\n",
      "validation: 0.994 accuracy\n",
      "[28/48] training loss across clients 0.00011\n",
      "validation: 0.995 accuracy\n",
      "[29/48] training loss across clients 0.00694\n",
      "validation: 0.995 accuracy\n",
      "[30/48] training loss across clients 0.00621\n",
      "validation: 0.994 accuracy\n",
      "[31/48] training loss across clients 0.00016\n",
      "validation: 0.995 accuracy\n",
      "[32/48] training loss across clients 0.00255\n",
      "validation: 0.995 accuracy\n",
      "[33/48] training loss across clients 0.00116\n",
      "[ModelCheckpoint] New best model with 0.99630 validation accuracy\n",
      "[34/48] training loss across clients 0.00102\n",
      "validation: 0.995 accuracy\n",
      "[35/48] training loss across clients 0.00095\n",
      "[ModelCheckpoint] New best model with 0.99660 validation accuracy\n",
      "[36/48] training loss across clients 0.00030\n",
      "validation: 0.995 accuracy\n",
      "[37/48] training loss across clients 0.00167\n",
      "validation: 0.995 accuracy\n",
      "[38/48] training loss across clients 0.00214\n",
      "validation: 0.994 accuracy\n",
      "[39/48] training loss across clients 0.00058\n",
      "validation: 0.994 accuracy\n",
      "[40/48] training loss across clients 0.00055\n",
      "validation: 0.995 accuracy\n",
      "[41/48] training loss across clients 0.00026\n",
      "validation: 0.995 accuracy\n",
      "[42/48] training loss across clients 0.00168\n",
      "validation: 0.994 accuracy\n",
      "[43/48] training loss across clients 0.00066\n",
      "validation: 0.994 accuracy\n",
      "[44/48] training loss across clients 0.00029\n",
      "validation: 0.994 accuracy\n",
      "[45/48] training loss across clients 0.00013\n",
      "validation: 0.993 accuracy\n",
      "[46/48] training loss across clients 0.00054\n",
      "validation: 0.994 accuracy\n",
      "[47/48] training loss across clients 0.00011\n",
      "validation: 0.994 accuracy\n",
      "[48/48] training loss across clients 0.00041\n",
      "validation: 0.995 accuracy\n"
     ]
    }
   ],
   "source": [
    "server = Server(clients)\n",
    "server.fit(optimizer=GradientDescent(30.),\n",
    "          num_iterations=48,\n",
    "           num_clients_per_iteration=400,\n",
    "          callbacks=[ModelCheckpoint(rank_accuracy, 10000)])"
   ]
  },
  {
   "cell_type": "markdown",
   "metadata": {},
   "source": [
    "=> The model quality improved from 70% to 97% validation accuracy."
   ]
  },
  {
   "cell_type": "markdown",
   "metadata": {},
   "source": [
    "Simplifications made:\n",
    "\n",
    "- All users sample from the same distribution\n",
    "- `ModelCheckpoint` cannot be based on validation data in the actual implementation\n",
    "- Users should run more than one SGD iteration locally"
   ]
  },
  {
   "cell_type": "markdown",
   "metadata": {},
   "source": [
    "---"
   ]
  },
  {
   "cell_type": "markdown",
   "metadata": {},
   "source": [
    "# Debugging\n",
    "\n",
    "This part is just for checking wrong predictions:"
   ]
  },
  {
   "cell_type": "code",
   "execution_count": 45,
   "metadata": {
    "ExecuteTime": {
     "end_time": "2018-05-24T22:22:48.873046Z",
     "start_time": "2018-05-24T22:22:48.868110Z"
    }
   },
   "outputs": [],
   "source": [
    "preds = [t.argmax() for t in model.predict(X)]"
   ]
  },
  {
   "cell_type": "code",
   "execution_count": 46,
   "metadata": {
    "ExecuteTime": {
     "end_time": "2018-05-24T22:22:48.978518Z",
     "start_time": "2018-05-24T22:22:48.874994Z"
    }
   },
   "outputs": [],
   "source": [
    "labels = [yi.argmax() for yi in y]"
   ]
  },
  {
   "cell_type": "code",
   "execution_count": 47,
   "metadata": {
    "ExecuteTime": {
     "end_time": "2018-05-24T22:22:49.103070Z",
     "start_time": "2018-05-24T22:22:48.980503Z"
    },
    "scrolled": true
   },
   "outputs": [
    {
     "data": {
      "text/plain": [
       "[(0, 4, 4),\n",
       " (1, 2, 2),\n",
       " (2, 0, 0),\n",
       " (3, 3, 3),\n",
       " (4, 6, 0),\n",
       " (5, 8, 8),\n",
       " (6, 0, 0),\n",
       " (7, 5, 5),\n",
       " (8, 7, 7),\n",
       " (9, 4, 4),\n",
       " (10, 6, 6),\n",
       " (11, 0, 0),\n",
       " (12, 3, 3),\n",
       " (13, 4, 4),\n",
       " (14, 0, 0),\n",
       " (15, 3, 3),\n",
       " (16, 10, 10),\n",
       " (17, 1, 1),\n",
       " (18, 5, 5),\n",
       " (19, 6, 6)]"
      ]
     },
     "execution_count": 47,
     "metadata": {},
     "output_type": "execute_result"
    }
   ],
   "source": [
    "zip(range(len(labels)), labels, preds)[:20]"
   ]
  },
  {
   "cell_type": "code",
   "execution_count": 48,
   "metadata": {
    "ExecuteTime": {
     "end_time": "2018-05-24T22:22:49.216560Z",
     "start_time": "2018-05-24T22:22:49.105135Z"
    }
   },
   "outputs": [
    {
     "data": {
      "text/plain": [
       "array([ 120.,   12.,  100.,   12.,   12.,   14.,  100.,   12.,  200.,\n",
       "         60.,  120.,   20.,  140.])"
      ]
     },
     "execution_count": 48,
     "metadata": {},
     "output_type": "execute_result"
    }
   ],
   "source": [
    "y[5]"
   ]
  },
  {
   "cell_type": "code",
   "execution_count": 49,
   "metadata": {
    "ExecuteTime": {
     "end_time": "2018-05-24T22:22:49.331603Z",
     "start_time": "2018-05-24T22:22:49.218740Z"
    }
   },
   "outputs": [
    {
     "data": {
      "text/plain": [
       "array([  49.92694721, -137.10912544,   -4.73356417, -137.10912544,\n",
       "       -137.10912544,  -74.82064343,   -4.73356417, -137.10912544,\n",
       "        215.42174025,  -52.96476446,   49.92694721,  -73.3331873 ,\n",
       "        127.3231452 ])"
      ]
     },
     "execution_count": 49,
     "metadata": {},
     "output_type": "execute_result"
    }
   ],
   "source": [
    "model.predict(X)[5]"
   ]
  },
  {
   "cell_type": "code",
   "execution_count": 50,
   "metadata": {
    "ExecuteTime": {
     "end_time": "2018-05-24T22:22:49.541787Z",
     "start_time": "2018-05-24T22:22:49.333603Z"
    }
   },
   "outputs": [
    {
     "data": {
      "text/plain": [
       "array([ 0.,  0.,  0.,  0.,  0.,  0.,  0.,  0.,  0.,  0.,  0.,  0.,  1.,\n",
       "        0.,  0.])"
      ]
     },
     "execution_count": 50,
     "metadata": {},
     "output_type": "execute_result"
    }
   ],
   "source": [
    "X[9][2]"
   ]
  },
  {
   "cell_type": "markdown",
   "metadata": {},
   "source": [
    "---"
   ]
  },
  {
   "cell_type": "markdown",
   "metadata": {},
   "source": [
    "# Notes"
   ]
  },
  {
   "cell_type": "markdown",
   "metadata": {
    "ExecuteTime": {
     "end_time": "2018-05-22T18:04:32.139661Z",
     "start_time": "2018-05-22T18:04:32.125608Z"
    }
   },
   "source": [
    "## To make fitting easier\n",
    "\n",
    "- Fair initialization\n",
    "- Normalize data (0-center)\n",
    "- Remove features with a value of 0"
   ]
  },
  {
   "cell_type": "markdown",
   "metadata": {},
   "source": [
    "## Still missing\n",
    "\n",
    "- Implement frequency part (switch from one-hot encoding to up to sum of 10 and add multiplicative factor)\n",
    "- Federated Learning"
   ]
  },
  {
   "cell_type": "markdown",
   "metadata": {},
   "source": [
    "---"
   ]
  },
  {
   "cell_type": "markdown",
   "metadata": {},
   "source": [
    "# Backup"
   ]
  },
  {
   "cell_type": "markdown",
   "metadata": {},
   "source": [
    "### Random noise"
   ]
  },
  {
   "cell_type": "code",
   "execution_count": 51,
   "metadata": {
    "ExecuteTime": {
     "end_time": "2018-05-24T22:22:49.764049Z",
     "start_time": "2018-05-24T22:22:49.544003Z"
    }
   },
   "outputs": [
    {
     "ename": "ValueError",
     "evalue": "operands could not be broadcast together with shapes (9,) (15,) ",
     "output_type": "error",
     "traceback": [
      "\u001b[0;31m\u001b[0m",
      "\u001b[0;31mValueError\u001b[0mTraceback (most recent call last)",
      "\u001b[0;32m<ipython-input-51-d9792c910bb4>\u001b[0m in \u001b[0;36m<module>\u001b[0;34m()\u001b[0m\n\u001b[0;32m----> 1\u001b[0;31m \u001b[0my\u001b[0m \u001b[0;34m=\u001b[0m \u001b[0;34m[\u001b[0m\u001b[0myi\u001b[0m \u001b[0;34m+\u001b[0m \u001b[0mnp\u001b[0m\u001b[0;34m.\u001b[0m\u001b[0mrandom\u001b[0m\u001b[0;34m.\u001b[0m\u001b[0mnormal\u001b[0m\u001b[0;34m(\u001b[0m\u001b[0;36m0\u001b[0m\u001b[0;34m,\u001b[0m \u001b[0;36m2\u001b[0m\u001b[0;34m,\u001b[0m \u001b[0msize\u001b[0m\u001b[0;34m=\u001b[0m\u001b[0;34m(\u001b[0m\u001b[0mn\u001b[0m\u001b[0;34m)\u001b[0m\u001b[0;34m)\u001b[0m \u001b[0;32mfor\u001b[0m \u001b[0myi\u001b[0m\u001b[0;34m,\u001b[0m \u001b[0mn\u001b[0m \u001b[0;32min\u001b[0m \u001b[0mzip\u001b[0m\u001b[0;34m(\u001b[0m\u001b[0my\u001b[0m\u001b[0;34m,\u001b[0m \u001b[0mnum_options\u001b[0m\u001b[0;34m)\u001b[0m\u001b[0;34m]\u001b[0m\u001b[0;34m\u001b[0m\u001b[0m\n\u001b[0m",
      "\u001b[0;31mValueError\u001b[0m: operands could not be broadcast together with shapes (9,) (15,) "
     ]
    }
   ],
   "source": [
    "y = [yi + np.random.normal(0, 2, size=(n)) for yi, n in zip(y, num_options)]"
   ]
  },
  {
   "cell_type": "markdown",
   "metadata": {},
   "source": [
    "### Other optimizers"
   ]
  },
  {
   "cell_type": "code",
   "execution_count": null,
   "metadata": {
    "ExecuteTime": {
     "end_time": "2018-05-24T22:22:49.764693Z",
     "start_time": "2018-05-24T22:20:36.311Z"
    }
   },
   "outputs": [],
   "source": [
    "class DecayedGradientDescent:\n",
    "    def __init__(self, learning_rate, decay):\n",
    "        self.learning_rate = learning_rate\n",
    "        self.decay = decay\n",
    "        self.epoch = 0\n",
    "        \n",
    "    def __call__(self, gradient):\n",
    "        result = self.learning_rate * gradient\n",
    "        \n",
    "        self.learning_rate = self.learning_rate * 1 / (1 + self.decay * self.epoch)\n",
    "        self.epoch += 1\n",
    "            \n",
    "        return result"
   ]
  },
  {
   "cell_type": "code",
   "execution_count": null,
   "metadata": {
    "ExecuteTime": {
     "end_time": "2018-05-24T22:22:49.765066Z",
     "start_time": "2018-05-24T22:20:36.315Z"
    },
    "scrolled": true
   },
   "outputs": [],
   "source": [
    "model = SVMRanking(delta=1)\n",
    "model.fit(X, y, optimizer=DecayedGradientDescent(0.5, .0000001), num_iterations=3000)"
   ]
  },
  {
   "cell_type": "code",
   "execution_count": 65,
   "metadata": {
    "ExecuteTime": {
     "end_time": "2018-05-24T22:38:16.114376Z",
     "start_time": "2018-05-24T22:38:16.089972Z"
    }
   },
   "outputs": [],
   "source": [
    "class Adam:\n",
    "    def __init__(self, learning_rate):\n",
    "        self.learning_rate = learning_rate\n",
    "        self.beta1 = 0.9\n",
    "        self.beta2 = 0.999\n",
    "        self.alpha = 0.01\n",
    "        self.eps = 1e-8\n",
    "        \n",
    "        self.t = 0\n",
    "        \n",
    "        self.m = None\n",
    "        self.v = None\n",
    "        self.theta = None\n",
    "    \n",
    "    def __call__(self, gradient):\n",
    "        if self.t == 0:\n",
    "            self.m = np.zeros(gradient.shape)\n",
    "            self.v = np.zeros(gradient.shape)\n",
    "            self.theta = np.zeros(gradient.shape)\n",
    "        \n",
    "        self.t += 1\n",
    "        \n",
    "        self.m = self.beta1 * self.m + (1 - self.beta1) * gradient\n",
    "        self.v = self.beta2 * self.v + (1 - self.beta2) * gradient**2\n",
    "        \n",
    "        m_corrected = self.m / (1 - self.beta1**self.t)\n",
    "        v_corrected = self.v / (1 - self.beta2**self.t)\n",
    "\n",
    "        self.theta += self.alpha * m_corrected / (np.sqrt(v_corrected) + self.eps)\n",
    "        \n",
    "        return self.learning_rate * self.theta"
   ]
  },
  {
   "cell_type": "code",
   "execution_count": null,
   "metadata": {
    "ExecuteTime": {
     "end_time": "2018-05-24T22:22:49.765814Z",
     "start_time": "2018-05-24T22:20:36.323Z"
    },
    "scrolled": false
   },
   "outputs": [],
   "source": [
    "opt = Adam(learning_rate=0.1)\n",
    "model = SVMRanking(delta=0)\n",
    "model.fit(X, y, optimizer=opt, num_iterations=300)"
   ]
  },
  {
   "cell_type": "code",
   "execution_count": null,
   "metadata": {
    "ExecuteTime": {
     "end_time": "2018-05-24T22:22:49.766166Z",
     "start_time": "2018-05-24T22:20:36.328Z"
    }
   },
   "outputs": [],
   "source": [
    "opt.theta"
   ]
  }
 ],
 "metadata": {
  "anaconda-cloud": {},
  "kernelspec": {
   "display_name": "Python [conda root]",
   "language": "python",
   "name": "conda-root-py"
  },
  "language_info": {
   "codemirror_mode": {
    "name": "ipython",
    "version": 2
   },
   "file_extension": ".py",
   "mimetype": "text/x-python",
   "name": "python",
   "nbconvert_exporter": "python",
   "pygments_lexer": "ipython2",
   "version": "2.7.12"
  },
  "toc": {
   "nav_menu": {},
   "number_sections": true,
   "sideBar": true,
   "skip_h1_title": false,
   "toc_cell": false,
   "toc_position": {
    "height": "1196px",
    "left": "0px",
    "right": "1068px",
    "top": "160px",
    "width": "212px"
   },
   "toc_section_display": "block",
   "toc_window_display": true
  }
 },
 "nbformat": 4,
 "nbformat_minor": 1
}
